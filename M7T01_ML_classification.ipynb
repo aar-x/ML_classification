{
  "nbformat": 4,
  "nbformat_minor": 0,
  "metadata": {
    "colab": {
      "provenance": []
    },
    "kernelspec": {
      "name": "python3",
      "display_name": "Python 3"
    },
    "language_info": {
      "name": "python"
    }
  },
  "cells": [
    {
      "cell_type": "markdown",
      "source": [
        "## Introducción\n",
        "En esta práctica, abordaremos una serie de ejercicios enfocados en algoritmos de clasificación. Comenzaremos creando dos modelos de clasificación distintos para predecir las clases de un conjunto de datos específico [EX01](#EX01). Luego, compararemos estos modelos utilizando diversas métricas como la precisión (accuracy), matrices de confusión, y otras métricas avanzadas para evaluar su rendimiento [EX02](#EX02). Posteriormente, optimizaremos estos modelos ajustando sus parámetros con el objetivo de mejorar las predicciones [EX03](#EX03). Además, compararemos el rendimiento de los modelos utilizando tanto la técnica de división entrenamiento/prueba como la validación cruzada [EX04](#EX04) y [EX05](#EX05). Finalmente, aplicaremos técnicas de ingeniería de características, como la normalización o estandarización, para mejorar aún más los resultados de nuestros modelos de clasificación [EX05](#EX05). Todo ello queda resumido en la [conclusión](#conclusion)."
      ],
      "metadata": {
        "id": "_N7kEYXqLiQy"
      }
    },
    {
      "cell_type": "markdown",
      "source": [
        "# Importaciones y datos <a name=\"importacionesydatos\"></a>"
      ],
      "metadata": {
        "id": "pfTO--u_I5bN"
      }
    },
    {
      "cell_type": "code",
      "source": [
        "import pandas as pd"
      ],
      "metadata": {
        "id": "2S7KN_i5AhmG"
      },
      "execution_count": 1,
      "outputs": []
    },
    {
      "cell_type": "code",
      "execution_count": 2,
      "metadata": {
        "id": "ocsyRGGB-ami",
        "colab": {
          "base_uri": "https://localhost:8080/"
        },
        "outputId": "91792308-b198-4727-ed21-2eca52e80449"
      },
      "outputs": [
        {
          "output_type": "stream",
          "name": "stdout",
          "text": [
            "1. Title of Database: Wine recognition data\n",
            "\tUpdated Sept 21, 1998 by C.Blake : Added attribute information\n",
            "\n",
            "2. Sources:\n",
            "   (a) Forina, M. et al, PARVUS - An Extendible Package for Data\n",
            "       Exploration, Classification and Correlation. Institute of Pharmaceutical\n",
            "       and Food Analysis and Technologies, Via Brigata Salerno, \n",
            "       16147 Genoa, Italy.\n",
            "\n",
            "   (b) Stefan Aeberhard, email: stefan@coral.cs.jcu.edu.au\n",
            "   (c) July 1991\n",
            "3. Past Usage:\n",
            "\n",
            "   (1)\n",
            "   S. Aeberhard, D. Coomans and O. de Vel,\n",
            "   Comparison of Classifiers in High Dimensional Settings,\n",
            "   Tech. Rep. no. 92-02, (1992), Dept. of Computer Science and Dept. of\n",
            "   Mathematics and Statistics, James Cook University of North Queensland.\n",
            "   (Also submitted to Technometrics).\n",
            "\n",
            "   The data was used with many others for comparing various \n",
            "   classifiers. The classes are separable, though only RDA \n",
            "   has achieved 100% correct classification.\n",
            "   (RDA : 100%, QDA 99.4%, LDA 98.9%, 1NN 96.1% (z-transformed data))\n",
            "   (All results using the leave-one-out technique)\n",
            "\n",
            "   In a classification context, this is a well posed problem \n",
            "   with \"well behaved\" class structures. A good data set \n",
            "   for first testing of a new classifier, but not very \n",
            "   challenging.\n",
            "\n",
            "   (2) \n",
            "   S. Aeberhard, D. Coomans and O. de Vel,\n",
            "   \"THE CLASSIFICATION PERFORMANCE OF RDA\"\n",
            "   Tech. Rep. no. 92-01, (1992), Dept. of Computer Science and Dept. of\n",
            "   Mathematics and Statistics, James Cook University of North Queensland.\n",
            "   (Also submitted to Journal of Chemometrics).\n",
            "\n",
            "   Here, the data was used to illustrate the superior performance of\n",
            "   the use of a new appreciation function with RDA. \n",
            "\n",
            "4. Relevant Information:\n",
            "\n",
            "   -- These data are the results of a chemical analysis of\n",
            "      wines grown in the same region in Italy but derived from three\n",
            "      different cultivars.\n",
            "      The analysis determined the quantities of 13 constituents\n",
            "      found in each of the three types of wines. \n",
            "\n",
            "   -- I think that the initial data set had around 30 variables, but \n",
            "      for some reason I only have the 13 dimensional version. \n",
            "      I had a list of what the 30 or so variables were, but a.) \n",
            "      I lost it, and b.), I would not know which 13 variables\n",
            "      are included in the set.\n",
            "\n",
            "   -- The attributes are (dontated by Riccardo Leardi, \n",
            "\triclea@anchem.unige.it )\n",
            " \t1) Alcohol\n",
            " \t2) Malic acid\n",
            " \t3) Ash\n",
            "\t4) Alcalinity of ash  \n",
            " \t5) Magnesium\n",
            "\t6) Total phenols\n",
            " \t7) Flavanoids\n",
            " \t8) Nonflavanoid phenols\n",
            " \t9) Proanthocyanins\n",
            "\t10)Color intensity\n",
            " \t11)Hue\n",
            " \t12)OD280/OD315 of diluted wines\n",
            " \t13)Proline            \n",
            "\n",
            "5. Number of Instances\n",
            "\n",
            "      \tclass 1 59\n",
            "\tclass 2 71\n",
            "\tclass 3 48\n",
            "\n",
            "6. Number of Attributes \n",
            "\t\n",
            "\t13\n",
            "\n",
            "7. For Each Attribute:\n",
            "\n",
            "\tAll attributes are continuous\n",
            "\t\n",
            "\tNo statistics available, but suggest to standardise\n",
            "\tvariables for certain uses (e.g. for us with classifiers\n",
            "\twhich are NOT scale invariant)\n",
            "\n",
            "\tNOTE: 1st attribute is class identifier (1-3)\n",
            "\n",
            "8. Missing Attribute Values:\n",
            "\n",
            "\tNone\n",
            "\n",
            "9. Class Distribution: number of instances per class\n",
            "\n",
            "      \tclass 1 59\n",
            "\tclass 2 71\n",
            "\tclass 3 48\n",
            "\n"
          ]
        }
      ],
      "source": [
        "print(open('wineNames.txt').read())"
      ]
    },
    {
      "cell_type": "code",
      "source": [
        "caracteristicas = [\"Class\", \"Alcohol\", \"Malic acid\", \"Ash\", \"Alcalinity of ash\", \"Magnesium\",\n",
        "         \"Total phenols\", \"Flavanoids\", \"Nonflavanoid phenols\", \"Proanthocyanins\",\n",
        "         \"Color intensity\", \"Hue\", \"OD280/OD315 of diluted wines\", \"Proline\"]\n",
        "\n",
        "wines = pd.read_csv('wineData.txt', sep=',', encoding='utf-8', names=caracteristicas)"
      ],
      "metadata": {
        "id": "ywGzAlCwA4oT"
      },
      "execution_count": 3,
      "outputs": []
    },
    {
      "cell_type": "markdown",
      "source": [
        "# Limpieza de datos <a name=\"limpieza-datos\"></a>"
      ],
      "metadata": {
        "id": "TeCux7gqqhEN"
      }
    },
    {
      "cell_type": "markdown",
      "source": [
        "Empezaremos inspeccionando y limpiando los datos si es necesario ..."
      ],
      "metadata": {
        "id": "sd5lWGZsD6zX"
      }
    },
    {
      "cell_type": "code",
      "source": [
        "wines.head()"
      ],
      "metadata": {
        "id": "olJ0yP-gENfC",
        "colab": {
          "base_uri": "https://localhost:8080/",
          "height": 260
        },
        "outputId": "d2657ff0-7428-436d-fad0-665d11a83aea"
      },
      "execution_count": 4,
      "outputs": [
        {
          "output_type": "execute_result",
          "data": {
            "text/plain": [
              "   Class  Alcohol  Malic acid   Ash  Alcalinity of ash  Magnesium  \\\n",
              "0      1    14.23        1.71  2.43               15.6        127   \n",
              "1      1    13.20        1.78  2.14               11.2        100   \n",
              "2      1    13.16        2.36  2.67               18.6        101   \n",
              "3      1    14.37        1.95  2.50               16.8        113   \n",
              "4      1    13.24        2.59  2.87               21.0        118   \n",
              "\n",
              "   Total phenols  Flavanoids  Nonflavanoid phenols  Proanthocyanins  \\\n",
              "0           2.80        3.06                  0.28             2.29   \n",
              "1           2.65        2.76                  0.26             1.28   \n",
              "2           2.80        3.24                  0.30             2.81   \n",
              "3           3.85        3.49                  0.24             2.18   \n",
              "4           2.80        2.69                  0.39             1.82   \n",
              "\n",
              "   Color intensity   Hue  OD280/OD315 of diluted wines  Proline  \n",
              "0             5.64  1.04                          3.92     1065  \n",
              "1             4.38  1.05                          3.40     1050  \n",
              "2             5.68  1.03                          3.17     1185  \n",
              "3             7.80  0.86                          3.45     1480  \n",
              "4             4.32  1.04                          2.93      735  "
            ],
            "text/html": [
              "\n",
              "  <div id=\"df-b25ace7c-13a4-4998-b375-7232a65241dd\" class=\"colab-df-container\">\n",
              "    <div>\n",
              "<style scoped>\n",
              "    .dataframe tbody tr th:only-of-type {\n",
              "        vertical-align: middle;\n",
              "    }\n",
              "\n",
              "    .dataframe tbody tr th {\n",
              "        vertical-align: top;\n",
              "    }\n",
              "\n",
              "    .dataframe thead th {\n",
              "        text-align: right;\n",
              "    }\n",
              "</style>\n",
              "<table border=\"1\" class=\"dataframe\">\n",
              "  <thead>\n",
              "    <tr style=\"text-align: right;\">\n",
              "      <th></th>\n",
              "      <th>Class</th>\n",
              "      <th>Alcohol</th>\n",
              "      <th>Malic acid</th>\n",
              "      <th>Ash</th>\n",
              "      <th>Alcalinity of ash</th>\n",
              "      <th>Magnesium</th>\n",
              "      <th>Total phenols</th>\n",
              "      <th>Flavanoids</th>\n",
              "      <th>Nonflavanoid phenols</th>\n",
              "      <th>Proanthocyanins</th>\n",
              "      <th>Color intensity</th>\n",
              "      <th>Hue</th>\n",
              "      <th>OD280/OD315 of diluted wines</th>\n",
              "      <th>Proline</th>\n",
              "    </tr>\n",
              "  </thead>\n",
              "  <tbody>\n",
              "    <tr>\n",
              "      <th>0</th>\n",
              "      <td>1</td>\n",
              "      <td>14.23</td>\n",
              "      <td>1.71</td>\n",
              "      <td>2.43</td>\n",
              "      <td>15.6</td>\n",
              "      <td>127</td>\n",
              "      <td>2.80</td>\n",
              "      <td>3.06</td>\n",
              "      <td>0.28</td>\n",
              "      <td>2.29</td>\n",
              "      <td>5.64</td>\n",
              "      <td>1.04</td>\n",
              "      <td>3.92</td>\n",
              "      <td>1065</td>\n",
              "    </tr>\n",
              "    <tr>\n",
              "      <th>1</th>\n",
              "      <td>1</td>\n",
              "      <td>13.20</td>\n",
              "      <td>1.78</td>\n",
              "      <td>2.14</td>\n",
              "      <td>11.2</td>\n",
              "      <td>100</td>\n",
              "      <td>2.65</td>\n",
              "      <td>2.76</td>\n",
              "      <td>0.26</td>\n",
              "      <td>1.28</td>\n",
              "      <td>4.38</td>\n",
              "      <td>1.05</td>\n",
              "      <td>3.40</td>\n",
              "      <td>1050</td>\n",
              "    </tr>\n",
              "    <tr>\n",
              "      <th>2</th>\n",
              "      <td>1</td>\n",
              "      <td>13.16</td>\n",
              "      <td>2.36</td>\n",
              "      <td>2.67</td>\n",
              "      <td>18.6</td>\n",
              "      <td>101</td>\n",
              "      <td>2.80</td>\n",
              "      <td>3.24</td>\n",
              "      <td>0.30</td>\n",
              "      <td>2.81</td>\n",
              "      <td>5.68</td>\n",
              "      <td>1.03</td>\n",
              "      <td>3.17</td>\n",
              "      <td>1185</td>\n",
              "    </tr>\n",
              "    <tr>\n",
              "      <th>3</th>\n",
              "      <td>1</td>\n",
              "      <td>14.37</td>\n",
              "      <td>1.95</td>\n",
              "      <td>2.50</td>\n",
              "      <td>16.8</td>\n",
              "      <td>113</td>\n",
              "      <td>3.85</td>\n",
              "      <td>3.49</td>\n",
              "      <td>0.24</td>\n",
              "      <td>2.18</td>\n",
              "      <td>7.80</td>\n",
              "      <td>0.86</td>\n",
              "      <td>3.45</td>\n",
              "      <td>1480</td>\n",
              "    </tr>\n",
              "    <tr>\n",
              "      <th>4</th>\n",
              "      <td>1</td>\n",
              "      <td>13.24</td>\n",
              "      <td>2.59</td>\n",
              "      <td>2.87</td>\n",
              "      <td>21.0</td>\n",
              "      <td>118</td>\n",
              "      <td>2.80</td>\n",
              "      <td>2.69</td>\n",
              "      <td>0.39</td>\n",
              "      <td>1.82</td>\n",
              "      <td>4.32</td>\n",
              "      <td>1.04</td>\n",
              "      <td>2.93</td>\n",
              "      <td>735</td>\n",
              "    </tr>\n",
              "  </tbody>\n",
              "</table>\n",
              "</div>\n",
              "    <div class=\"colab-df-buttons\">\n",
              "\n",
              "  <div class=\"colab-df-container\">\n",
              "    <button class=\"colab-df-convert\" onclick=\"convertToInteractive('df-b25ace7c-13a4-4998-b375-7232a65241dd')\"\n",
              "            title=\"Convert this dataframe to an interactive table.\"\n",
              "            style=\"display:none;\">\n",
              "\n",
              "  <svg xmlns=\"http://www.w3.org/2000/svg\" height=\"24px\" viewBox=\"0 -960 960 960\">\n",
              "    <path d=\"M120-120v-720h720v720H120Zm60-500h600v-160H180v160Zm220 220h160v-160H400v160Zm0 220h160v-160H400v160ZM180-400h160v-160H180v160Zm440 0h160v-160H620v160ZM180-180h160v-160H180v160Zm440 0h160v-160H620v160Z\"/>\n",
              "  </svg>\n",
              "    </button>\n",
              "\n",
              "  <style>\n",
              "    .colab-df-container {\n",
              "      display:flex;\n",
              "      gap: 12px;\n",
              "    }\n",
              "\n",
              "    .colab-df-convert {\n",
              "      background-color: #E8F0FE;\n",
              "      border: none;\n",
              "      border-radius: 50%;\n",
              "      cursor: pointer;\n",
              "      display: none;\n",
              "      fill: #1967D2;\n",
              "      height: 32px;\n",
              "      padding: 0 0 0 0;\n",
              "      width: 32px;\n",
              "    }\n",
              "\n",
              "    .colab-df-convert:hover {\n",
              "      background-color: #E2EBFA;\n",
              "      box-shadow: 0px 1px 2px rgba(60, 64, 67, 0.3), 0px 1px 3px 1px rgba(60, 64, 67, 0.15);\n",
              "      fill: #174EA6;\n",
              "    }\n",
              "\n",
              "    .colab-df-buttons div {\n",
              "      margin-bottom: 4px;\n",
              "    }\n",
              "\n",
              "    [theme=dark] .colab-df-convert {\n",
              "      background-color: #3B4455;\n",
              "      fill: #D2E3FC;\n",
              "    }\n",
              "\n",
              "    [theme=dark] .colab-df-convert:hover {\n",
              "      background-color: #434B5C;\n",
              "      box-shadow: 0px 1px 3px 1px rgba(0, 0, 0, 0.15);\n",
              "      filter: drop-shadow(0px 1px 2px rgba(0, 0, 0, 0.3));\n",
              "      fill: #FFFFFF;\n",
              "    }\n",
              "  </style>\n",
              "\n",
              "    <script>\n",
              "      const buttonEl =\n",
              "        document.querySelector('#df-b25ace7c-13a4-4998-b375-7232a65241dd button.colab-df-convert');\n",
              "      buttonEl.style.display =\n",
              "        google.colab.kernel.accessAllowed ? 'block' : 'none';\n",
              "\n",
              "      async function convertToInteractive(key) {\n",
              "        const element = document.querySelector('#df-b25ace7c-13a4-4998-b375-7232a65241dd');\n",
              "        const dataTable =\n",
              "          await google.colab.kernel.invokeFunction('convertToInteractive',\n",
              "                                                    [key], {});\n",
              "        if (!dataTable) return;\n",
              "\n",
              "        const docLinkHtml = 'Like what you see? Visit the ' +\n",
              "          '<a target=\"_blank\" href=https://colab.research.google.com/notebooks/data_table.ipynb>data table notebook</a>'\n",
              "          + ' to learn more about interactive tables.';\n",
              "        element.innerHTML = '';\n",
              "        dataTable['output_type'] = 'display_data';\n",
              "        await google.colab.output.renderOutput(dataTable, element);\n",
              "        const docLink = document.createElement('div');\n",
              "        docLink.innerHTML = docLinkHtml;\n",
              "        element.appendChild(docLink);\n",
              "      }\n",
              "    </script>\n",
              "  </div>\n",
              "\n",
              "\n",
              "<div id=\"df-56337755-4588-4b4e-8c61-db5bf91ace6a\">\n",
              "  <button class=\"colab-df-quickchart\" onclick=\"quickchart('df-56337755-4588-4b4e-8c61-db5bf91ace6a')\"\n",
              "            title=\"Suggest charts\"\n",
              "            style=\"display:none;\">\n",
              "\n",
              "<svg xmlns=\"http://www.w3.org/2000/svg\" height=\"24px\"viewBox=\"0 0 24 24\"\n",
              "     width=\"24px\">\n",
              "    <g>\n",
              "        <path d=\"M19 3H5c-1.1 0-2 .9-2 2v14c0 1.1.9 2 2 2h14c1.1 0 2-.9 2-2V5c0-1.1-.9-2-2-2zM9 17H7v-7h2v7zm4 0h-2V7h2v10zm4 0h-2v-4h2v4z\"/>\n",
              "    </g>\n",
              "</svg>\n",
              "  </button>\n",
              "\n",
              "<style>\n",
              "  .colab-df-quickchart {\n",
              "      --bg-color: #E8F0FE;\n",
              "      --fill-color: #1967D2;\n",
              "      --hover-bg-color: #E2EBFA;\n",
              "      --hover-fill-color: #174EA6;\n",
              "      --disabled-fill-color: #AAA;\n",
              "      --disabled-bg-color: #DDD;\n",
              "  }\n",
              "\n",
              "  [theme=dark] .colab-df-quickchart {\n",
              "      --bg-color: #3B4455;\n",
              "      --fill-color: #D2E3FC;\n",
              "      --hover-bg-color: #434B5C;\n",
              "      --hover-fill-color: #FFFFFF;\n",
              "      --disabled-bg-color: #3B4455;\n",
              "      --disabled-fill-color: #666;\n",
              "  }\n",
              "\n",
              "  .colab-df-quickchart {\n",
              "    background-color: var(--bg-color);\n",
              "    border: none;\n",
              "    border-radius: 50%;\n",
              "    cursor: pointer;\n",
              "    display: none;\n",
              "    fill: var(--fill-color);\n",
              "    height: 32px;\n",
              "    padding: 0;\n",
              "    width: 32px;\n",
              "  }\n",
              "\n",
              "  .colab-df-quickchart:hover {\n",
              "    background-color: var(--hover-bg-color);\n",
              "    box-shadow: 0 1px 2px rgba(60, 64, 67, 0.3), 0 1px 3px 1px rgba(60, 64, 67, 0.15);\n",
              "    fill: var(--button-hover-fill-color);\n",
              "  }\n",
              "\n",
              "  .colab-df-quickchart-complete:disabled,\n",
              "  .colab-df-quickchart-complete:disabled:hover {\n",
              "    background-color: var(--disabled-bg-color);\n",
              "    fill: var(--disabled-fill-color);\n",
              "    box-shadow: none;\n",
              "  }\n",
              "\n",
              "  .colab-df-spinner {\n",
              "    border: 2px solid var(--fill-color);\n",
              "    border-color: transparent;\n",
              "    border-bottom-color: var(--fill-color);\n",
              "    animation:\n",
              "      spin 1s steps(1) infinite;\n",
              "  }\n",
              "\n",
              "  @keyframes spin {\n",
              "    0% {\n",
              "      border-color: transparent;\n",
              "      border-bottom-color: var(--fill-color);\n",
              "      border-left-color: var(--fill-color);\n",
              "    }\n",
              "    20% {\n",
              "      border-color: transparent;\n",
              "      border-left-color: var(--fill-color);\n",
              "      border-top-color: var(--fill-color);\n",
              "    }\n",
              "    30% {\n",
              "      border-color: transparent;\n",
              "      border-left-color: var(--fill-color);\n",
              "      border-top-color: var(--fill-color);\n",
              "      border-right-color: var(--fill-color);\n",
              "    }\n",
              "    40% {\n",
              "      border-color: transparent;\n",
              "      border-right-color: var(--fill-color);\n",
              "      border-top-color: var(--fill-color);\n",
              "    }\n",
              "    60% {\n",
              "      border-color: transparent;\n",
              "      border-right-color: var(--fill-color);\n",
              "    }\n",
              "    80% {\n",
              "      border-color: transparent;\n",
              "      border-right-color: var(--fill-color);\n",
              "      border-bottom-color: var(--fill-color);\n",
              "    }\n",
              "    90% {\n",
              "      border-color: transparent;\n",
              "      border-bottom-color: var(--fill-color);\n",
              "    }\n",
              "  }\n",
              "</style>\n",
              "\n",
              "  <script>\n",
              "    async function quickchart(key) {\n",
              "      const quickchartButtonEl =\n",
              "        document.querySelector('#' + key + ' button');\n",
              "      quickchartButtonEl.disabled = true;  // To prevent multiple clicks.\n",
              "      quickchartButtonEl.classList.add('colab-df-spinner');\n",
              "      try {\n",
              "        const charts = await google.colab.kernel.invokeFunction(\n",
              "            'suggestCharts', [key], {});\n",
              "      } catch (error) {\n",
              "        console.error('Error during call to suggestCharts:', error);\n",
              "      }\n",
              "      quickchartButtonEl.classList.remove('colab-df-spinner');\n",
              "      quickchartButtonEl.classList.add('colab-df-quickchart-complete');\n",
              "    }\n",
              "    (() => {\n",
              "      let quickchartButtonEl =\n",
              "        document.querySelector('#df-56337755-4588-4b4e-8c61-db5bf91ace6a button');\n",
              "      quickchartButtonEl.style.display =\n",
              "        google.colab.kernel.accessAllowed ? 'block' : 'none';\n",
              "    })();\n",
              "  </script>\n",
              "</div>\n",
              "    </div>\n",
              "  </div>\n"
            ]
          },
          "metadata": {},
          "execution_count": 4
        }
      ]
    },
    {
      "cell_type": "code",
      "source": [
        "wines.tail()"
      ],
      "metadata": {
        "id": "9nAIKxQBEBgS",
        "colab": {
          "base_uri": "https://localhost:8080/",
          "height": 260
        },
        "outputId": "954b3fad-2f11-4137-ac3d-ba72dafe984b"
      },
      "execution_count": 5,
      "outputs": [
        {
          "output_type": "execute_result",
          "data": {
            "text/plain": [
              "     Class  Alcohol  Malic acid   Ash  Alcalinity of ash  Magnesium  \\\n",
              "173      3    13.71        5.65  2.45               20.5         95   \n",
              "174      3    13.40        3.91  2.48               23.0        102   \n",
              "175      3    13.27        4.28  2.26               20.0        120   \n",
              "176      3    13.17        2.59  2.37               20.0        120   \n",
              "177      3    14.13        4.10  2.74               24.5         96   \n",
              "\n",
              "     Total phenols  Flavanoids  Nonflavanoid phenols  Proanthocyanins  \\\n",
              "173           1.68        0.61                  0.52             1.06   \n",
              "174           1.80        0.75                  0.43             1.41   \n",
              "175           1.59        0.69                  0.43             1.35   \n",
              "176           1.65        0.68                  0.53             1.46   \n",
              "177           2.05        0.76                  0.56             1.35   \n",
              "\n",
              "     Color intensity   Hue  OD280/OD315 of diluted wines  Proline  \n",
              "173              7.7  0.64                          1.74      740  \n",
              "174              7.3  0.70                          1.56      750  \n",
              "175             10.2  0.59                          1.56      835  \n",
              "176              9.3  0.60                          1.62      840  \n",
              "177              9.2  0.61                          1.60      560  "
            ],
            "text/html": [
              "\n",
              "  <div id=\"df-125dc00f-d9dc-4728-b576-2cde04d346cd\" class=\"colab-df-container\">\n",
              "    <div>\n",
              "<style scoped>\n",
              "    .dataframe tbody tr th:only-of-type {\n",
              "        vertical-align: middle;\n",
              "    }\n",
              "\n",
              "    .dataframe tbody tr th {\n",
              "        vertical-align: top;\n",
              "    }\n",
              "\n",
              "    .dataframe thead th {\n",
              "        text-align: right;\n",
              "    }\n",
              "</style>\n",
              "<table border=\"1\" class=\"dataframe\">\n",
              "  <thead>\n",
              "    <tr style=\"text-align: right;\">\n",
              "      <th></th>\n",
              "      <th>Class</th>\n",
              "      <th>Alcohol</th>\n",
              "      <th>Malic acid</th>\n",
              "      <th>Ash</th>\n",
              "      <th>Alcalinity of ash</th>\n",
              "      <th>Magnesium</th>\n",
              "      <th>Total phenols</th>\n",
              "      <th>Flavanoids</th>\n",
              "      <th>Nonflavanoid phenols</th>\n",
              "      <th>Proanthocyanins</th>\n",
              "      <th>Color intensity</th>\n",
              "      <th>Hue</th>\n",
              "      <th>OD280/OD315 of diluted wines</th>\n",
              "      <th>Proline</th>\n",
              "    </tr>\n",
              "  </thead>\n",
              "  <tbody>\n",
              "    <tr>\n",
              "      <th>173</th>\n",
              "      <td>3</td>\n",
              "      <td>13.71</td>\n",
              "      <td>5.65</td>\n",
              "      <td>2.45</td>\n",
              "      <td>20.5</td>\n",
              "      <td>95</td>\n",
              "      <td>1.68</td>\n",
              "      <td>0.61</td>\n",
              "      <td>0.52</td>\n",
              "      <td>1.06</td>\n",
              "      <td>7.7</td>\n",
              "      <td>0.64</td>\n",
              "      <td>1.74</td>\n",
              "      <td>740</td>\n",
              "    </tr>\n",
              "    <tr>\n",
              "      <th>174</th>\n",
              "      <td>3</td>\n",
              "      <td>13.40</td>\n",
              "      <td>3.91</td>\n",
              "      <td>2.48</td>\n",
              "      <td>23.0</td>\n",
              "      <td>102</td>\n",
              "      <td>1.80</td>\n",
              "      <td>0.75</td>\n",
              "      <td>0.43</td>\n",
              "      <td>1.41</td>\n",
              "      <td>7.3</td>\n",
              "      <td>0.70</td>\n",
              "      <td>1.56</td>\n",
              "      <td>750</td>\n",
              "    </tr>\n",
              "    <tr>\n",
              "      <th>175</th>\n",
              "      <td>3</td>\n",
              "      <td>13.27</td>\n",
              "      <td>4.28</td>\n",
              "      <td>2.26</td>\n",
              "      <td>20.0</td>\n",
              "      <td>120</td>\n",
              "      <td>1.59</td>\n",
              "      <td>0.69</td>\n",
              "      <td>0.43</td>\n",
              "      <td>1.35</td>\n",
              "      <td>10.2</td>\n",
              "      <td>0.59</td>\n",
              "      <td>1.56</td>\n",
              "      <td>835</td>\n",
              "    </tr>\n",
              "    <tr>\n",
              "      <th>176</th>\n",
              "      <td>3</td>\n",
              "      <td>13.17</td>\n",
              "      <td>2.59</td>\n",
              "      <td>2.37</td>\n",
              "      <td>20.0</td>\n",
              "      <td>120</td>\n",
              "      <td>1.65</td>\n",
              "      <td>0.68</td>\n",
              "      <td>0.53</td>\n",
              "      <td>1.46</td>\n",
              "      <td>9.3</td>\n",
              "      <td>0.60</td>\n",
              "      <td>1.62</td>\n",
              "      <td>840</td>\n",
              "    </tr>\n",
              "    <tr>\n",
              "      <th>177</th>\n",
              "      <td>3</td>\n",
              "      <td>14.13</td>\n",
              "      <td>4.10</td>\n",
              "      <td>2.74</td>\n",
              "      <td>24.5</td>\n",
              "      <td>96</td>\n",
              "      <td>2.05</td>\n",
              "      <td>0.76</td>\n",
              "      <td>0.56</td>\n",
              "      <td>1.35</td>\n",
              "      <td>9.2</td>\n",
              "      <td>0.61</td>\n",
              "      <td>1.60</td>\n",
              "      <td>560</td>\n",
              "    </tr>\n",
              "  </tbody>\n",
              "</table>\n",
              "</div>\n",
              "    <div class=\"colab-df-buttons\">\n",
              "\n",
              "  <div class=\"colab-df-container\">\n",
              "    <button class=\"colab-df-convert\" onclick=\"convertToInteractive('df-125dc00f-d9dc-4728-b576-2cde04d346cd')\"\n",
              "            title=\"Convert this dataframe to an interactive table.\"\n",
              "            style=\"display:none;\">\n",
              "\n",
              "  <svg xmlns=\"http://www.w3.org/2000/svg\" height=\"24px\" viewBox=\"0 -960 960 960\">\n",
              "    <path d=\"M120-120v-720h720v720H120Zm60-500h600v-160H180v160Zm220 220h160v-160H400v160Zm0 220h160v-160H400v160ZM180-400h160v-160H180v160Zm440 0h160v-160H620v160ZM180-180h160v-160H180v160Zm440 0h160v-160H620v160Z\"/>\n",
              "  </svg>\n",
              "    </button>\n",
              "\n",
              "  <style>\n",
              "    .colab-df-container {\n",
              "      display:flex;\n",
              "      gap: 12px;\n",
              "    }\n",
              "\n",
              "    .colab-df-convert {\n",
              "      background-color: #E8F0FE;\n",
              "      border: none;\n",
              "      border-radius: 50%;\n",
              "      cursor: pointer;\n",
              "      display: none;\n",
              "      fill: #1967D2;\n",
              "      height: 32px;\n",
              "      padding: 0 0 0 0;\n",
              "      width: 32px;\n",
              "    }\n",
              "\n",
              "    .colab-df-convert:hover {\n",
              "      background-color: #E2EBFA;\n",
              "      box-shadow: 0px 1px 2px rgba(60, 64, 67, 0.3), 0px 1px 3px 1px rgba(60, 64, 67, 0.15);\n",
              "      fill: #174EA6;\n",
              "    }\n",
              "\n",
              "    .colab-df-buttons div {\n",
              "      margin-bottom: 4px;\n",
              "    }\n",
              "\n",
              "    [theme=dark] .colab-df-convert {\n",
              "      background-color: #3B4455;\n",
              "      fill: #D2E3FC;\n",
              "    }\n",
              "\n",
              "    [theme=dark] .colab-df-convert:hover {\n",
              "      background-color: #434B5C;\n",
              "      box-shadow: 0px 1px 3px 1px rgba(0, 0, 0, 0.15);\n",
              "      filter: drop-shadow(0px 1px 2px rgba(0, 0, 0, 0.3));\n",
              "      fill: #FFFFFF;\n",
              "    }\n",
              "  </style>\n",
              "\n",
              "    <script>\n",
              "      const buttonEl =\n",
              "        document.querySelector('#df-125dc00f-d9dc-4728-b576-2cde04d346cd button.colab-df-convert');\n",
              "      buttonEl.style.display =\n",
              "        google.colab.kernel.accessAllowed ? 'block' : 'none';\n",
              "\n",
              "      async function convertToInteractive(key) {\n",
              "        const element = document.querySelector('#df-125dc00f-d9dc-4728-b576-2cde04d346cd');\n",
              "        const dataTable =\n",
              "          await google.colab.kernel.invokeFunction('convertToInteractive',\n",
              "                                                    [key], {});\n",
              "        if (!dataTable) return;\n",
              "\n",
              "        const docLinkHtml = 'Like what you see? Visit the ' +\n",
              "          '<a target=\"_blank\" href=https://colab.research.google.com/notebooks/data_table.ipynb>data table notebook</a>'\n",
              "          + ' to learn more about interactive tables.';\n",
              "        element.innerHTML = '';\n",
              "        dataTable['output_type'] = 'display_data';\n",
              "        await google.colab.output.renderOutput(dataTable, element);\n",
              "        const docLink = document.createElement('div');\n",
              "        docLink.innerHTML = docLinkHtml;\n",
              "        element.appendChild(docLink);\n",
              "      }\n",
              "    </script>\n",
              "  </div>\n",
              "\n",
              "\n",
              "<div id=\"df-4f589196-d797-48c1-a968-de9a7daf7cbb\">\n",
              "  <button class=\"colab-df-quickchart\" onclick=\"quickchart('df-4f589196-d797-48c1-a968-de9a7daf7cbb')\"\n",
              "            title=\"Suggest charts\"\n",
              "            style=\"display:none;\">\n",
              "\n",
              "<svg xmlns=\"http://www.w3.org/2000/svg\" height=\"24px\"viewBox=\"0 0 24 24\"\n",
              "     width=\"24px\">\n",
              "    <g>\n",
              "        <path d=\"M19 3H5c-1.1 0-2 .9-2 2v14c0 1.1.9 2 2 2h14c1.1 0 2-.9 2-2V5c0-1.1-.9-2-2-2zM9 17H7v-7h2v7zm4 0h-2V7h2v10zm4 0h-2v-4h2v4z\"/>\n",
              "    </g>\n",
              "</svg>\n",
              "  </button>\n",
              "\n",
              "<style>\n",
              "  .colab-df-quickchart {\n",
              "      --bg-color: #E8F0FE;\n",
              "      --fill-color: #1967D2;\n",
              "      --hover-bg-color: #E2EBFA;\n",
              "      --hover-fill-color: #174EA6;\n",
              "      --disabled-fill-color: #AAA;\n",
              "      --disabled-bg-color: #DDD;\n",
              "  }\n",
              "\n",
              "  [theme=dark] .colab-df-quickchart {\n",
              "      --bg-color: #3B4455;\n",
              "      --fill-color: #D2E3FC;\n",
              "      --hover-bg-color: #434B5C;\n",
              "      --hover-fill-color: #FFFFFF;\n",
              "      --disabled-bg-color: #3B4455;\n",
              "      --disabled-fill-color: #666;\n",
              "  }\n",
              "\n",
              "  .colab-df-quickchart {\n",
              "    background-color: var(--bg-color);\n",
              "    border: none;\n",
              "    border-radius: 50%;\n",
              "    cursor: pointer;\n",
              "    display: none;\n",
              "    fill: var(--fill-color);\n",
              "    height: 32px;\n",
              "    padding: 0;\n",
              "    width: 32px;\n",
              "  }\n",
              "\n",
              "  .colab-df-quickchart:hover {\n",
              "    background-color: var(--hover-bg-color);\n",
              "    box-shadow: 0 1px 2px rgba(60, 64, 67, 0.3), 0 1px 3px 1px rgba(60, 64, 67, 0.15);\n",
              "    fill: var(--button-hover-fill-color);\n",
              "  }\n",
              "\n",
              "  .colab-df-quickchart-complete:disabled,\n",
              "  .colab-df-quickchart-complete:disabled:hover {\n",
              "    background-color: var(--disabled-bg-color);\n",
              "    fill: var(--disabled-fill-color);\n",
              "    box-shadow: none;\n",
              "  }\n",
              "\n",
              "  .colab-df-spinner {\n",
              "    border: 2px solid var(--fill-color);\n",
              "    border-color: transparent;\n",
              "    border-bottom-color: var(--fill-color);\n",
              "    animation:\n",
              "      spin 1s steps(1) infinite;\n",
              "  }\n",
              "\n",
              "  @keyframes spin {\n",
              "    0% {\n",
              "      border-color: transparent;\n",
              "      border-bottom-color: var(--fill-color);\n",
              "      border-left-color: var(--fill-color);\n",
              "    }\n",
              "    20% {\n",
              "      border-color: transparent;\n",
              "      border-left-color: var(--fill-color);\n",
              "      border-top-color: var(--fill-color);\n",
              "    }\n",
              "    30% {\n",
              "      border-color: transparent;\n",
              "      border-left-color: var(--fill-color);\n",
              "      border-top-color: var(--fill-color);\n",
              "      border-right-color: var(--fill-color);\n",
              "    }\n",
              "    40% {\n",
              "      border-color: transparent;\n",
              "      border-right-color: var(--fill-color);\n",
              "      border-top-color: var(--fill-color);\n",
              "    }\n",
              "    60% {\n",
              "      border-color: transparent;\n",
              "      border-right-color: var(--fill-color);\n",
              "    }\n",
              "    80% {\n",
              "      border-color: transparent;\n",
              "      border-right-color: var(--fill-color);\n",
              "      border-bottom-color: var(--fill-color);\n",
              "    }\n",
              "    90% {\n",
              "      border-color: transparent;\n",
              "      border-bottom-color: var(--fill-color);\n",
              "    }\n",
              "  }\n",
              "</style>\n",
              "\n",
              "  <script>\n",
              "    async function quickchart(key) {\n",
              "      const quickchartButtonEl =\n",
              "        document.querySelector('#' + key + ' button');\n",
              "      quickchartButtonEl.disabled = true;  // To prevent multiple clicks.\n",
              "      quickchartButtonEl.classList.add('colab-df-spinner');\n",
              "      try {\n",
              "        const charts = await google.colab.kernel.invokeFunction(\n",
              "            'suggestCharts', [key], {});\n",
              "      } catch (error) {\n",
              "        console.error('Error during call to suggestCharts:', error);\n",
              "      }\n",
              "      quickchartButtonEl.classList.remove('colab-df-spinner');\n",
              "      quickchartButtonEl.classList.add('colab-df-quickchart-complete');\n",
              "    }\n",
              "    (() => {\n",
              "      let quickchartButtonEl =\n",
              "        document.querySelector('#df-4f589196-d797-48c1-a968-de9a7daf7cbb button');\n",
              "      quickchartButtonEl.style.display =\n",
              "        google.colab.kernel.accessAllowed ? 'block' : 'none';\n",
              "    })();\n",
              "  </script>\n",
              "</div>\n",
              "    </div>\n",
              "  </div>\n"
            ]
          },
          "metadata": {},
          "execution_count": 5
        }
      ]
    },
    {
      "cell_type": "markdown",
      "source": [
        "En head y tail podemos ver la estructura de los datos, todos ellos de carácter aparentemente numérico, el primer atributo con las clases (variable dependiente), categórica sin jerarquía, y el resto de atributos con distintas medidas químicas de cada vino."
      ],
      "metadata": {
        "id": "iP1gi394FaKh"
      }
    },
    {
      "cell_type": "markdown",
      "source": [
        "Veámoslo con más detalle:"
      ],
      "metadata": {
        "id": "CRWoWGOlWWg7"
      }
    },
    {
      "cell_type": "code",
      "source": [
        "wines.info()"
      ],
      "metadata": {
        "id": "BI3YsA6zFdtr",
        "colab": {
          "base_uri": "https://localhost:8080/"
        },
        "outputId": "d5b212ae-a898-4b8c-ef7e-585824ac8979"
      },
      "execution_count": 6,
      "outputs": [
        {
          "output_type": "stream",
          "name": "stdout",
          "text": [
            "<class 'pandas.core.frame.DataFrame'>\n",
            "RangeIndex: 178 entries, 0 to 177\n",
            "Data columns (total 14 columns):\n",
            " #   Column                        Non-Null Count  Dtype  \n",
            "---  ------                        --------------  -----  \n",
            " 0   Class                         178 non-null    int64  \n",
            " 1   Alcohol                       178 non-null    float64\n",
            " 2   Malic acid                    178 non-null    float64\n",
            " 3   Ash                           178 non-null    float64\n",
            " 4   Alcalinity of ash             178 non-null    float64\n",
            " 5   Magnesium                     178 non-null    int64  \n",
            " 6   Total phenols                 178 non-null    float64\n",
            " 7   Flavanoids                    178 non-null    float64\n",
            " 8   Nonflavanoid phenols          178 non-null    float64\n",
            " 9   Proanthocyanins               178 non-null    float64\n",
            " 10  Color intensity               178 non-null    float64\n",
            " 11  Hue                           178 non-null    float64\n",
            " 12  OD280/OD315 of diluted wines  178 non-null    float64\n",
            " 13  Proline                       178 non-null    int64  \n",
            "dtypes: float64(11), int64(3)\n",
            "memory usage: 19.6 KB\n"
          ]
        }
      ]
    },
    {
      "cell_type": "markdown",
      "source": [
        "Efectivamente comprobamos como todos los datos son de tipo numérico, int y coma flotante, de manera adecuada. No hay datos nulos."
      ],
      "metadata": {
        "id": "DNYjxDPkF3zN"
      }
    },
    {
      "cell_type": "code",
      "source": [
        "wines.duplicated().sum()"
      ],
      "metadata": {
        "colab": {
          "base_uri": "https://localhost:8080/"
        },
        "id": "kZsRHzu5Fldg",
        "outputId": "d01a48f8-e13a-4d22-dc70-311fbf7b7c76"
      },
      "execution_count": 7,
      "outputs": [
        {
          "output_type": "execute_result",
          "data": {
            "text/plain": [
              "0"
            ]
          },
          "metadata": {},
          "execution_count": 7
        }
      ]
    },
    {
      "cell_type": "markdown",
      "source": [
        "Ni hay filas duplicadas."
      ],
      "metadata": {
        "id": "6zdOFsHfG6Kb"
      }
    },
    {
      "cell_type": "markdown",
      "source": [
        "Separemos ya la variable dependiente de las independientes, lo que nos permitirá hacer una descripción estadística diferenciada:"
      ],
      "metadata": {
        "id": "Xu5HX3SPXuh_"
      }
    },
    {
      "cell_type": "code",
      "source": [
        "X = wines[caracteristicas].drop('Class', axis=1)\n",
        "y = wines.Class"
      ],
      "metadata": {
        "id": "oy0jHcOxoNXY"
      },
      "execution_count": 8,
      "outputs": []
    },
    {
      "cell_type": "code",
      "source": [
        "X.describe().round(1)"
      ],
      "metadata": {
        "id": "we26mDKHH1TU",
        "colab": {
          "base_uri": "https://localhost:8080/",
          "height": 354
        },
        "outputId": "66ca3c11-635a-458d-a58e-79e53a2ff926"
      },
      "execution_count": 9,
      "outputs": [
        {
          "output_type": "execute_result",
          "data": {
            "text/plain": [
              "       Alcohol  Malic acid    Ash  Alcalinity of ash  Magnesium  \\\n",
              "count    178.0       178.0  178.0              178.0      178.0   \n",
              "mean      13.0         2.3    2.4               19.5       99.7   \n",
              "std        0.8         1.1    0.3                3.3       14.3   \n",
              "min       11.0         0.7    1.4               10.6       70.0   \n",
              "25%       12.4         1.6    2.2               17.2       88.0   \n",
              "50%       13.0         1.9    2.4               19.5       98.0   \n",
              "75%       13.7         3.1    2.6               21.5      107.0   \n",
              "max       14.8         5.8    3.2               30.0      162.0   \n",
              "\n",
              "       Total phenols  Flavanoids  Nonflavanoid phenols  Proanthocyanins  \\\n",
              "count          178.0       178.0                 178.0            178.0   \n",
              "mean             2.3         2.0                   0.4              1.6   \n",
              "std              0.6         1.0                   0.1              0.6   \n",
              "min              1.0         0.3                   0.1              0.4   \n",
              "25%              1.7         1.2                   0.3              1.2   \n",
              "50%              2.4         2.1                   0.3              1.6   \n",
              "75%              2.8         2.9                   0.4              2.0   \n",
              "max              3.9         5.1                   0.7              3.6   \n",
              "\n",
              "       Color intensity    Hue  OD280/OD315 of diluted wines  Proline  \n",
              "count            178.0  178.0                         178.0    178.0  \n",
              "mean               5.1    1.0                           2.6    746.9  \n",
              "std                2.3    0.2                           0.7    314.9  \n",
              "min                1.3    0.5                           1.3    278.0  \n",
              "25%                3.2    0.8                           1.9    500.5  \n",
              "50%                4.7    1.0                           2.8    673.5  \n",
              "75%                6.2    1.1                           3.2    985.0  \n",
              "max               13.0    1.7                           4.0   1680.0  "
            ],
            "text/html": [
              "\n",
              "  <div id=\"df-175f757e-3666-4e83-a175-806552f84c39\" class=\"colab-df-container\">\n",
              "    <div>\n",
              "<style scoped>\n",
              "    .dataframe tbody tr th:only-of-type {\n",
              "        vertical-align: middle;\n",
              "    }\n",
              "\n",
              "    .dataframe tbody tr th {\n",
              "        vertical-align: top;\n",
              "    }\n",
              "\n",
              "    .dataframe thead th {\n",
              "        text-align: right;\n",
              "    }\n",
              "</style>\n",
              "<table border=\"1\" class=\"dataframe\">\n",
              "  <thead>\n",
              "    <tr style=\"text-align: right;\">\n",
              "      <th></th>\n",
              "      <th>Alcohol</th>\n",
              "      <th>Malic acid</th>\n",
              "      <th>Ash</th>\n",
              "      <th>Alcalinity of ash</th>\n",
              "      <th>Magnesium</th>\n",
              "      <th>Total phenols</th>\n",
              "      <th>Flavanoids</th>\n",
              "      <th>Nonflavanoid phenols</th>\n",
              "      <th>Proanthocyanins</th>\n",
              "      <th>Color intensity</th>\n",
              "      <th>Hue</th>\n",
              "      <th>OD280/OD315 of diluted wines</th>\n",
              "      <th>Proline</th>\n",
              "    </tr>\n",
              "  </thead>\n",
              "  <tbody>\n",
              "    <tr>\n",
              "      <th>count</th>\n",
              "      <td>178.0</td>\n",
              "      <td>178.0</td>\n",
              "      <td>178.0</td>\n",
              "      <td>178.0</td>\n",
              "      <td>178.0</td>\n",
              "      <td>178.0</td>\n",
              "      <td>178.0</td>\n",
              "      <td>178.0</td>\n",
              "      <td>178.0</td>\n",
              "      <td>178.0</td>\n",
              "      <td>178.0</td>\n",
              "      <td>178.0</td>\n",
              "      <td>178.0</td>\n",
              "    </tr>\n",
              "    <tr>\n",
              "      <th>mean</th>\n",
              "      <td>13.0</td>\n",
              "      <td>2.3</td>\n",
              "      <td>2.4</td>\n",
              "      <td>19.5</td>\n",
              "      <td>99.7</td>\n",
              "      <td>2.3</td>\n",
              "      <td>2.0</td>\n",
              "      <td>0.4</td>\n",
              "      <td>1.6</td>\n",
              "      <td>5.1</td>\n",
              "      <td>1.0</td>\n",
              "      <td>2.6</td>\n",
              "      <td>746.9</td>\n",
              "    </tr>\n",
              "    <tr>\n",
              "      <th>std</th>\n",
              "      <td>0.8</td>\n",
              "      <td>1.1</td>\n",
              "      <td>0.3</td>\n",
              "      <td>3.3</td>\n",
              "      <td>14.3</td>\n",
              "      <td>0.6</td>\n",
              "      <td>1.0</td>\n",
              "      <td>0.1</td>\n",
              "      <td>0.6</td>\n",
              "      <td>2.3</td>\n",
              "      <td>0.2</td>\n",
              "      <td>0.7</td>\n",
              "      <td>314.9</td>\n",
              "    </tr>\n",
              "    <tr>\n",
              "      <th>min</th>\n",
              "      <td>11.0</td>\n",
              "      <td>0.7</td>\n",
              "      <td>1.4</td>\n",
              "      <td>10.6</td>\n",
              "      <td>70.0</td>\n",
              "      <td>1.0</td>\n",
              "      <td>0.3</td>\n",
              "      <td>0.1</td>\n",
              "      <td>0.4</td>\n",
              "      <td>1.3</td>\n",
              "      <td>0.5</td>\n",
              "      <td>1.3</td>\n",
              "      <td>278.0</td>\n",
              "    </tr>\n",
              "    <tr>\n",
              "      <th>25%</th>\n",
              "      <td>12.4</td>\n",
              "      <td>1.6</td>\n",
              "      <td>2.2</td>\n",
              "      <td>17.2</td>\n",
              "      <td>88.0</td>\n",
              "      <td>1.7</td>\n",
              "      <td>1.2</td>\n",
              "      <td>0.3</td>\n",
              "      <td>1.2</td>\n",
              "      <td>3.2</td>\n",
              "      <td>0.8</td>\n",
              "      <td>1.9</td>\n",
              "      <td>500.5</td>\n",
              "    </tr>\n",
              "    <tr>\n",
              "      <th>50%</th>\n",
              "      <td>13.0</td>\n",
              "      <td>1.9</td>\n",
              "      <td>2.4</td>\n",
              "      <td>19.5</td>\n",
              "      <td>98.0</td>\n",
              "      <td>2.4</td>\n",
              "      <td>2.1</td>\n",
              "      <td>0.3</td>\n",
              "      <td>1.6</td>\n",
              "      <td>4.7</td>\n",
              "      <td>1.0</td>\n",
              "      <td>2.8</td>\n",
              "      <td>673.5</td>\n",
              "    </tr>\n",
              "    <tr>\n",
              "      <th>75%</th>\n",
              "      <td>13.7</td>\n",
              "      <td>3.1</td>\n",
              "      <td>2.6</td>\n",
              "      <td>21.5</td>\n",
              "      <td>107.0</td>\n",
              "      <td>2.8</td>\n",
              "      <td>2.9</td>\n",
              "      <td>0.4</td>\n",
              "      <td>2.0</td>\n",
              "      <td>6.2</td>\n",
              "      <td>1.1</td>\n",
              "      <td>3.2</td>\n",
              "      <td>985.0</td>\n",
              "    </tr>\n",
              "    <tr>\n",
              "      <th>max</th>\n",
              "      <td>14.8</td>\n",
              "      <td>5.8</td>\n",
              "      <td>3.2</td>\n",
              "      <td>30.0</td>\n",
              "      <td>162.0</td>\n",
              "      <td>3.9</td>\n",
              "      <td>5.1</td>\n",
              "      <td>0.7</td>\n",
              "      <td>3.6</td>\n",
              "      <td>13.0</td>\n",
              "      <td>1.7</td>\n",
              "      <td>4.0</td>\n",
              "      <td>1680.0</td>\n",
              "    </tr>\n",
              "  </tbody>\n",
              "</table>\n",
              "</div>\n",
              "    <div class=\"colab-df-buttons\">\n",
              "\n",
              "  <div class=\"colab-df-container\">\n",
              "    <button class=\"colab-df-convert\" onclick=\"convertToInteractive('df-175f757e-3666-4e83-a175-806552f84c39')\"\n",
              "            title=\"Convert this dataframe to an interactive table.\"\n",
              "            style=\"display:none;\">\n",
              "\n",
              "  <svg xmlns=\"http://www.w3.org/2000/svg\" height=\"24px\" viewBox=\"0 -960 960 960\">\n",
              "    <path d=\"M120-120v-720h720v720H120Zm60-500h600v-160H180v160Zm220 220h160v-160H400v160Zm0 220h160v-160H400v160ZM180-400h160v-160H180v160Zm440 0h160v-160H620v160ZM180-180h160v-160H180v160Zm440 0h160v-160H620v160Z\"/>\n",
              "  </svg>\n",
              "    </button>\n",
              "\n",
              "  <style>\n",
              "    .colab-df-container {\n",
              "      display:flex;\n",
              "      gap: 12px;\n",
              "    }\n",
              "\n",
              "    .colab-df-convert {\n",
              "      background-color: #E8F0FE;\n",
              "      border: none;\n",
              "      border-radius: 50%;\n",
              "      cursor: pointer;\n",
              "      display: none;\n",
              "      fill: #1967D2;\n",
              "      height: 32px;\n",
              "      padding: 0 0 0 0;\n",
              "      width: 32px;\n",
              "    }\n",
              "\n",
              "    .colab-df-convert:hover {\n",
              "      background-color: #E2EBFA;\n",
              "      box-shadow: 0px 1px 2px rgba(60, 64, 67, 0.3), 0px 1px 3px 1px rgba(60, 64, 67, 0.15);\n",
              "      fill: #174EA6;\n",
              "    }\n",
              "\n",
              "    .colab-df-buttons div {\n",
              "      margin-bottom: 4px;\n",
              "    }\n",
              "\n",
              "    [theme=dark] .colab-df-convert {\n",
              "      background-color: #3B4455;\n",
              "      fill: #D2E3FC;\n",
              "    }\n",
              "\n",
              "    [theme=dark] .colab-df-convert:hover {\n",
              "      background-color: #434B5C;\n",
              "      box-shadow: 0px 1px 3px 1px rgba(0, 0, 0, 0.15);\n",
              "      filter: drop-shadow(0px 1px 2px rgba(0, 0, 0, 0.3));\n",
              "      fill: #FFFFFF;\n",
              "    }\n",
              "  </style>\n",
              "\n",
              "    <script>\n",
              "      const buttonEl =\n",
              "        document.querySelector('#df-175f757e-3666-4e83-a175-806552f84c39 button.colab-df-convert');\n",
              "      buttonEl.style.display =\n",
              "        google.colab.kernel.accessAllowed ? 'block' : 'none';\n",
              "\n",
              "      async function convertToInteractive(key) {\n",
              "        const element = document.querySelector('#df-175f757e-3666-4e83-a175-806552f84c39');\n",
              "        const dataTable =\n",
              "          await google.colab.kernel.invokeFunction('convertToInteractive',\n",
              "                                                    [key], {});\n",
              "        if (!dataTable) return;\n",
              "\n",
              "        const docLinkHtml = 'Like what you see? Visit the ' +\n",
              "          '<a target=\"_blank\" href=https://colab.research.google.com/notebooks/data_table.ipynb>data table notebook</a>'\n",
              "          + ' to learn more about interactive tables.';\n",
              "        element.innerHTML = '';\n",
              "        dataTable['output_type'] = 'display_data';\n",
              "        await google.colab.output.renderOutput(dataTable, element);\n",
              "        const docLink = document.createElement('div');\n",
              "        docLink.innerHTML = docLinkHtml;\n",
              "        element.appendChild(docLink);\n",
              "      }\n",
              "    </script>\n",
              "  </div>\n",
              "\n",
              "\n",
              "<div id=\"df-ea1af2f7-87fc-46f4-902d-b5716ceb8937\">\n",
              "  <button class=\"colab-df-quickchart\" onclick=\"quickchart('df-ea1af2f7-87fc-46f4-902d-b5716ceb8937')\"\n",
              "            title=\"Suggest charts\"\n",
              "            style=\"display:none;\">\n",
              "\n",
              "<svg xmlns=\"http://www.w3.org/2000/svg\" height=\"24px\"viewBox=\"0 0 24 24\"\n",
              "     width=\"24px\">\n",
              "    <g>\n",
              "        <path d=\"M19 3H5c-1.1 0-2 .9-2 2v14c0 1.1.9 2 2 2h14c1.1 0 2-.9 2-2V5c0-1.1-.9-2-2-2zM9 17H7v-7h2v7zm4 0h-2V7h2v10zm4 0h-2v-4h2v4z\"/>\n",
              "    </g>\n",
              "</svg>\n",
              "  </button>\n",
              "\n",
              "<style>\n",
              "  .colab-df-quickchart {\n",
              "      --bg-color: #E8F0FE;\n",
              "      --fill-color: #1967D2;\n",
              "      --hover-bg-color: #E2EBFA;\n",
              "      --hover-fill-color: #174EA6;\n",
              "      --disabled-fill-color: #AAA;\n",
              "      --disabled-bg-color: #DDD;\n",
              "  }\n",
              "\n",
              "  [theme=dark] .colab-df-quickchart {\n",
              "      --bg-color: #3B4455;\n",
              "      --fill-color: #D2E3FC;\n",
              "      --hover-bg-color: #434B5C;\n",
              "      --hover-fill-color: #FFFFFF;\n",
              "      --disabled-bg-color: #3B4455;\n",
              "      --disabled-fill-color: #666;\n",
              "  }\n",
              "\n",
              "  .colab-df-quickchart {\n",
              "    background-color: var(--bg-color);\n",
              "    border: none;\n",
              "    border-radius: 50%;\n",
              "    cursor: pointer;\n",
              "    display: none;\n",
              "    fill: var(--fill-color);\n",
              "    height: 32px;\n",
              "    padding: 0;\n",
              "    width: 32px;\n",
              "  }\n",
              "\n",
              "  .colab-df-quickchart:hover {\n",
              "    background-color: var(--hover-bg-color);\n",
              "    box-shadow: 0 1px 2px rgba(60, 64, 67, 0.3), 0 1px 3px 1px rgba(60, 64, 67, 0.15);\n",
              "    fill: var(--button-hover-fill-color);\n",
              "  }\n",
              "\n",
              "  .colab-df-quickchart-complete:disabled,\n",
              "  .colab-df-quickchart-complete:disabled:hover {\n",
              "    background-color: var(--disabled-bg-color);\n",
              "    fill: var(--disabled-fill-color);\n",
              "    box-shadow: none;\n",
              "  }\n",
              "\n",
              "  .colab-df-spinner {\n",
              "    border: 2px solid var(--fill-color);\n",
              "    border-color: transparent;\n",
              "    border-bottom-color: var(--fill-color);\n",
              "    animation:\n",
              "      spin 1s steps(1) infinite;\n",
              "  }\n",
              "\n",
              "  @keyframes spin {\n",
              "    0% {\n",
              "      border-color: transparent;\n",
              "      border-bottom-color: var(--fill-color);\n",
              "      border-left-color: var(--fill-color);\n",
              "    }\n",
              "    20% {\n",
              "      border-color: transparent;\n",
              "      border-left-color: var(--fill-color);\n",
              "      border-top-color: var(--fill-color);\n",
              "    }\n",
              "    30% {\n",
              "      border-color: transparent;\n",
              "      border-left-color: var(--fill-color);\n",
              "      border-top-color: var(--fill-color);\n",
              "      border-right-color: var(--fill-color);\n",
              "    }\n",
              "    40% {\n",
              "      border-color: transparent;\n",
              "      border-right-color: var(--fill-color);\n",
              "      border-top-color: var(--fill-color);\n",
              "    }\n",
              "    60% {\n",
              "      border-color: transparent;\n",
              "      border-right-color: var(--fill-color);\n",
              "    }\n",
              "    80% {\n",
              "      border-color: transparent;\n",
              "      border-right-color: var(--fill-color);\n",
              "      border-bottom-color: var(--fill-color);\n",
              "    }\n",
              "    90% {\n",
              "      border-color: transparent;\n",
              "      border-bottom-color: var(--fill-color);\n",
              "    }\n",
              "  }\n",
              "</style>\n",
              "\n",
              "  <script>\n",
              "    async function quickchart(key) {\n",
              "      const quickchartButtonEl =\n",
              "        document.querySelector('#' + key + ' button');\n",
              "      quickchartButtonEl.disabled = true;  // To prevent multiple clicks.\n",
              "      quickchartButtonEl.classList.add('colab-df-spinner');\n",
              "      try {\n",
              "        const charts = await google.colab.kernel.invokeFunction(\n",
              "            'suggestCharts', [key], {});\n",
              "      } catch (error) {\n",
              "        console.error('Error during call to suggestCharts:', error);\n",
              "      }\n",
              "      quickchartButtonEl.classList.remove('colab-df-spinner');\n",
              "      quickchartButtonEl.classList.add('colab-df-quickchart-complete');\n",
              "    }\n",
              "    (() => {\n",
              "      let quickchartButtonEl =\n",
              "        document.querySelector('#df-ea1af2f7-87fc-46f4-902d-b5716ceb8937 button');\n",
              "      quickchartButtonEl.style.display =\n",
              "        google.colab.kernel.accessAllowed ? 'block' : 'none';\n",
              "    })();\n",
              "  </script>\n",
              "</div>\n",
              "    </div>\n",
              "  </div>\n"
            ]
          },
          "metadata": {},
          "execution_count": 9
        }
      ]
    },
    {
      "cell_type": "markdown",
      "source": [
        "Las medias en este caso son muy parecidas a las medianas, lo que nos podría estar hablando de distribuciones normales, pero esto es algo que veremos luego, así como la presencia de outliers o no, para decidir el tipo de transformación que aplicamos. A nivel de escala, hay un par de variables con una escala sensiblemente distinta al resto: `Magnesium` y `Proline`, que son además las que muestran una desviación típica alejada del 1.  \n",
        "Con esto ya tenemos una aproximación a la distribución de las variables independientes."
      ],
      "metadata": {
        "id": "iZg7A7WiIyPS"
      }
    },
    {
      "cell_type": "code",
      "source": [
        "clases = y.value_counts()\n",
        "print(clases)\n",
        "print()\n",
        "print('Total: '+str(clases.sum()))"
      ],
      "metadata": {
        "colab": {
          "base_uri": "https://localhost:8080/"
        },
        "id": "tom05LIrfLm_",
        "outputId": "fd40a4f0-9b8f-4473-cde1-a10b9e0e0c6f"
      },
      "execution_count": 10,
      "outputs": [
        {
          "output_type": "stream",
          "name": "stdout",
          "text": [
            "2    71\n",
            "1    59\n",
            "3    48\n",
            "Name: Class, dtype: int64\n",
            "\n",
            "Total: 178\n"
          ]
        }
      ]
    },
    {
      "cell_type": "markdown",
      "source": [
        "En cuanto a la variable dependiente, tal y como nos indica la descripción, tenemos tres valores posibles: 1, 2 y 3, las tres clases de vino."
      ],
      "metadata": {
        "id": "2vnuzBDlfbiD"
      }
    },
    {
      "cell_type": "markdown",
      "source": [
        "# EX01. Crea almenys dos models de classificació diferents per intentar predir el millor les classes de l'arxiu adjunt.<a name=\"EX01\"></a>"
      ],
      "metadata": {
        "id": "VNl_MyGpq7Hm"
      }
    },
    {
      "cell_type": "markdown",
      "source": [
        "En primer lugar dividimos el dataset original en los subconjuntos de entrenamiento y prueba, lo que nos permitirá evaluar el rendimiento de ambos modelos."
      ],
      "metadata": {
        "id": "2FNCrke-KpIu"
      }
    },
    {
      "cell_type": "code",
      "source": [
        "from sklearn.model_selection import train_test_split"
      ],
      "metadata": {
        "id": "cja9dV4gjnpt"
      },
      "execution_count": 11,
      "outputs": []
    },
    {
      "cell_type": "code",
      "source": [
        "X_train, X_test, y_train, y_test = train_test_split(X, y, test_size=0.3, random_state=1)"
      ],
      "metadata": {
        "id": "5C6pvSHusFyJ"
      },
      "execution_count": 12,
      "outputs": []
    },
    {
      "cell_type": "markdown",
      "source": [
        "# Modelo 1: árbol de decisión"
      ],
      "metadata": {
        "id": "rwTF76vwk5dc"
      }
    },
    {
      "cell_type": "code",
      "source": [
        "from sklearn.tree import DecisionTreeClassifier\n",
        "from sklearn import metrics"
      ],
      "metadata": {
        "id": "nwlnc6diN99r"
      },
      "execution_count": 13,
      "outputs": []
    },
    {
      "cell_type": "code",
      "source": [
        "clf_tree = DecisionTreeClassifier()\n",
        "clf_tree = clf_tree.fit(X_train, y_train)"
      ],
      "metadata": {
        "id": "H5Y-EhzZtVgb"
      },
      "execution_count": 14,
      "outputs": []
    },
    {
      "cell_type": "markdown",
      "source": [
        "Ajustamos el modelo a los datos de entrenamiento."
      ],
      "metadata": {
        "id": "T3WjTiLquQ8u"
      }
    },
    {
      "cell_type": "code",
      "source": [
        "y_tree = clf_tree.predict(X_test)\n",
        "y_tree"
      ],
      "metadata": {
        "id": "-ZMBRul1vROL",
        "colab": {
          "base_uri": "https://localhost:8080/"
        },
        "outputId": "3f15fdf2-8171-41a4-8ff3-d7548970e801"
      },
      "execution_count": 15,
      "outputs": [
        {
          "output_type": "execute_result",
          "data": {
            "text/plain": [
              "array([3, 2, 1, 2, 1, 3, 2, 1, 3, 2, 1, 2, 2, 1, 2, 2, 3, 1, 2, 1, 1, 2,\n",
              "       3, 2, 1, 3, 1, 1, 1, 3, 2, 3, 3, 1, 2, 2, 2, 2, 2, 1, 1, 3, 3, 1,\n",
              "       1, 1, 2, 1, 1, 1, 2, 3, 3, 1])"
            ]
          },
          "metadata": {},
          "execution_count": 15
        }
      ]
    },
    {
      "cell_type": "markdown",
      "source": [
        "Obtenemos las predicciones para y de acuerdo con el modelo y los datos de entrenamiento de X. Esto nos servirá después para calcular el nivel de precisión del modelo con respecto de los datos test."
      ],
      "metadata": {
        "id": "27u20bc5vSYH"
      }
    },
    {
      "cell_type": "markdown",
      "source": [
        "# Modelo 2: KNN"
      ],
      "metadata": {
        "id": "PsNqXcFhUg2T"
      }
    },
    {
      "cell_type": "markdown",
      "source": [
        "De manera similar, repetimos el proceso para el *algoritmo de los vecinos cercanos* (KNN), que nos permite inferir la variable dependiente en base a las muestras disponibles más cercanas."
      ],
      "metadata": {
        "id": "n-bHTxeUUopX"
      }
    },
    {
      "cell_type": "code",
      "source": [
        "from sklearn.neighbors import KNeighborsClassifier\n",
        "\n",
        "clf_knn = KNeighborsClassifier()\n",
        "clf_knn.fit(X_train, y_train)"
      ],
      "metadata": {
        "colab": {
          "base_uri": "https://localhost:8080/",
          "height": 74
        },
        "id": "rgV1Adf0XVM5",
        "outputId": "d2777a0e-d04c-4e25-da60-2e39f8b1d315"
      },
      "execution_count": 16,
      "outputs": [
        {
          "output_type": "execute_result",
          "data": {
            "text/plain": [
              "KNeighborsClassifier()"
            ],
            "text/html": [
              "<style>#sk-container-id-1 {color: black;background-color: white;}#sk-container-id-1 pre{padding: 0;}#sk-container-id-1 div.sk-toggleable {background-color: white;}#sk-container-id-1 label.sk-toggleable__label {cursor: pointer;display: block;width: 100%;margin-bottom: 0;padding: 0.3em;box-sizing: border-box;text-align: center;}#sk-container-id-1 label.sk-toggleable__label-arrow:before {content: \"▸\";float: left;margin-right: 0.25em;color: #696969;}#sk-container-id-1 label.sk-toggleable__label-arrow:hover:before {color: black;}#sk-container-id-1 div.sk-estimator:hover label.sk-toggleable__label-arrow:before {color: black;}#sk-container-id-1 div.sk-toggleable__content {max-height: 0;max-width: 0;overflow: hidden;text-align: left;background-color: #f0f8ff;}#sk-container-id-1 div.sk-toggleable__content pre {margin: 0.2em;color: black;border-radius: 0.25em;background-color: #f0f8ff;}#sk-container-id-1 input.sk-toggleable__control:checked~div.sk-toggleable__content {max-height: 200px;max-width: 100%;overflow: auto;}#sk-container-id-1 input.sk-toggleable__control:checked~label.sk-toggleable__label-arrow:before {content: \"▾\";}#sk-container-id-1 div.sk-estimator input.sk-toggleable__control:checked~label.sk-toggleable__label {background-color: #d4ebff;}#sk-container-id-1 div.sk-label input.sk-toggleable__control:checked~label.sk-toggleable__label {background-color: #d4ebff;}#sk-container-id-1 input.sk-hidden--visually {border: 0;clip: rect(1px 1px 1px 1px);clip: rect(1px, 1px, 1px, 1px);height: 1px;margin: -1px;overflow: hidden;padding: 0;position: absolute;width: 1px;}#sk-container-id-1 div.sk-estimator {font-family: monospace;background-color: #f0f8ff;border: 1px dotted black;border-radius: 0.25em;box-sizing: border-box;margin-bottom: 0.5em;}#sk-container-id-1 div.sk-estimator:hover {background-color: #d4ebff;}#sk-container-id-1 div.sk-parallel-item::after {content: \"\";width: 100%;border-bottom: 1px solid gray;flex-grow: 1;}#sk-container-id-1 div.sk-label:hover label.sk-toggleable__label {background-color: #d4ebff;}#sk-container-id-1 div.sk-serial::before {content: \"\";position: absolute;border-left: 1px solid gray;box-sizing: border-box;top: 0;bottom: 0;left: 50%;z-index: 0;}#sk-container-id-1 div.sk-serial {display: flex;flex-direction: column;align-items: center;background-color: white;padding-right: 0.2em;padding-left: 0.2em;position: relative;}#sk-container-id-1 div.sk-item {position: relative;z-index: 1;}#sk-container-id-1 div.sk-parallel {display: flex;align-items: stretch;justify-content: center;background-color: white;position: relative;}#sk-container-id-1 div.sk-item::before, #sk-container-id-1 div.sk-parallel-item::before {content: \"\";position: absolute;border-left: 1px solid gray;box-sizing: border-box;top: 0;bottom: 0;left: 50%;z-index: -1;}#sk-container-id-1 div.sk-parallel-item {display: flex;flex-direction: column;z-index: 1;position: relative;background-color: white;}#sk-container-id-1 div.sk-parallel-item:first-child::after {align-self: flex-end;width: 50%;}#sk-container-id-1 div.sk-parallel-item:last-child::after {align-self: flex-start;width: 50%;}#sk-container-id-1 div.sk-parallel-item:only-child::after {width: 0;}#sk-container-id-1 div.sk-dashed-wrapped {border: 1px dashed gray;margin: 0 0.4em 0.5em 0.4em;box-sizing: border-box;padding-bottom: 0.4em;background-color: white;}#sk-container-id-1 div.sk-label label {font-family: monospace;font-weight: bold;display: inline-block;line-height: 1.2em;}#sk-container-id-1 div.sk-label-container {text-align: center;}#sk-container-id-1 div.sk-container {/* jupyter's `normalize.less` sets `[hidden] { display: none; }` but bootstrap.min.css set `[hidden] { display: none !important; }` so we also need the `!important` here to be able to override the default hidden behavior on the sphinx rendered scikit-learn.org. See: https://github.com/scikit-learn/scikit-learn/issues/21755 */display: inline-block !important;position: relative;}#sk-container-id-1 div.sk-text-repr-fallback {display: none;}</style><div id=\"sk-container-id-1\" class=\"sk-top-container\"><div class=\"sk-text-repr-fallback\"><pre>KNeighborsClassifier()</pre><b>In a Jupyter environment, please rerun this cell to show the HTML representation or trust the notebook. <br />On GitHub, the HTML representation is unable to render, please try loading this page with nbviewer.org.</b></div><div class=\"sk-container\" hidden><div class=\"sk-item\"><div class=\"sk-estimator sk-toggleable\"><input class=\"sk-toggleable__control sk-hidden--visually\" id=\"sk-estimator-id-1\" type=\"checkbox\" checked><label for=\"sk-estimator-id-1\" class=\"sk-toggleable__label sk-toggleable__label-arrow\">KNeighborsClassifier</label><div class=\"sk-toggleable__content\"><pre>KNeighborsClassifier()</pre></div></div></div></div></div>"
            ]
          },
          "metadata": {},
          "execution_count": 16
        }
      ]
    },
    {
      "cell_type": "markdown",
      "source": [
        "Ajustamos el modelo KNN a los datos de entrenamiento (X_train e y_train)."
      ],
      "metadata": {
        "id": "sGPvm0-BXnlf"
      }
    },
    {
      "cell_type": "code",
      "source": [
        "y_knn = clf_knn.predict(X_test)\n",
        "y_knn"
      ],
      "metadata": {
        "colab": {
          "base_uri": "https://localhost:8080/"
        },
        "id": "Zt7Aq6ovX5LH",
        "outputId": "3a26e689-dd24-4a7d-a23d-ac87bf7f8d35"
      },
      "execution_count": 17,
      "outputs": [
        {
          "output_type": "execute_result",
          "data": {
            "text/plain": [
              "array([2, 2, 3, 3, 1, 2, 3, 1, 3, 2, 1, 3, 2, 1, 3, 2, 2, 1, 2, 1, 1, 2,\n",
              "       3, 1, 1, 2, 1, 1, 1, 2, 2, 2, 2, 1, 3, 2, 2, 3, 2, 1, 1, 2, 3, 1,\n",
              "       1, 1, 1, 1, 1, 1, 2, 3, 3, 1])"
            ]
          },
          "metadata": {},
          "execution_count": 17
        }
      ]
    },
    {
      "cell_type": "markdown",
      "source": [
        "... y obtenemos la predicción de clases para el subconjunto test con el modelo KNN."
      ],
      "metadata": {
        "id": "QY5q19OqYcDq"
      }
    },
    {
      "cell_type": "markdown",
      "source": [
        "# EX02. Compara els models de classificació utilitzant la precisió (accuracy), una matriu de confusió i d’altres mètriques més avançades.<a name=\"EX02\"></a>"
      ],
      "metadata": {
        "id": "N5cjYsAq-qu1"
      }
    },
    {
      "cell_type": "markdown",
      "source": [
        "Ahora tenemos las predicciones hechas por los dos modelos guardadas en y_tree y en y_knn, mientras y_test no varía, con lo cual nos tiene que resultar sencillo calcular el rendimiento de ambos modelos utilizando la precisión, las matrices de confusión ..."
      ],
      "metadata": {
        "id": "FVV5aT10Y4ML"
      }
    },
    {
      "cell_type": "code",
      "source": [
        "print(\"Precisión tree:\", metrics.accuracy_score(y_test, y_tree).round(2))"
      ],
      "metadata": {
        "colab": {
          "base_uri": "https://localhost:8080/"
        },
        "id": "e2dMZB6G_EgT",
        "outputId": "974bd1ab-baee-40d2-ce4e-845e35d60465"
      },
      "execution_count": 18,
      "outputs": [
        {
          "output_type": "stream",
          "name": "stdout",
          "text": [
            "Precisión tree: 0.96\n"
          ]
        }
      ]
    },
    {
      "cell_type": "markdown",
      "source": [
        "Obtenemos la precisión para el primer modelo (decision tree)."
      ],
      "metadata": {
        "id": "04WahR3eZtvx"
      }
    },
    {
      "cell_type": "code",
      "source": [
        "print(\"Precisión KNN:\", metrics.accuracy_score(y_test, y_knn).round(2))"
      ],
      "metadata": {
        "colab": {
          "base_uri": "https://localhost:8080/"
        },
        "id": "_D0s6RIfZ0ee",
        "outputId": "45bbdeb2-5b7d-4d88-99a4-950db68f9743"
      },
      "execution_count": 19,
      "outputs": [
        {
          "output_type": "stream",
          "name": "stdout",
          "text": [
            "Precisión KNN: 0.7\n"
          ]
        }
      ]
    },
    {
      "cell_type": "markdown",
      "source": [
        "... y para el segundo modelo (KNN)."
      ],
      "metadata": {
        "id": "GCzg1ErWk-ok"
      }
    },
    {
      "cell_type": "markdown",
      "source": [
        "Accuracy = (TP + TN) / (TP + TN + FP + FN)\n",
        "\n",
        "El significado de la precisión (Accuracy) es el número de clasificaciones acertadas (true positives + true negatives), dentro del total de clasificaciones hechas (TP + TN + false positives + false negatives) entre las tres clases.\n",
        "\n",
        "Por lo tanto 0.93 significa, de cada 100 predicciones que hace decision tree para una determinada clase, teniendo en cuenta los valores incluidos y excluidos, 93 son aciertos.\n",
        "\n",
        "Vemos como en este caso la precisión del modelo `DecisionTreeClassifier` es más alta que la de KNN.\n",
        "\n",
        "Esto se puede deber a la mayor sensibilidad a la escala del modelo KNN, lo que comprobaremos más adelante transformando los datos."
      ],
      "metadata": {
        "id": "SAttdZnMmDp3"
      }
    },
    {
      "cell_type": "markdown",
      "source": [
        "Vamos ahora con la matriz de confusión:"
      ],
      "metadata": {
        "id": "bo9aNVEyLsSi"
      }
    },
    {
      "cell_type": "code",
      "source": [
        "from sklearn.metrics import confusion_matrix"
      ],
      "metadata": {
        "id": "oatg3-3RonlP"
      },
      "execution_count": 20,
      "outputs": []
    },
    {
      "cell_type": "code",
      "source": [
        "print('Matriz de confusión tree:\\n')\n",
        "confusion_matrix(y_test, y_tree)"
      ],
      "metadata": {
        "colab": {
          "base_uri": "https://localhost:8080/"
        },
        "id": "iYYhlAT7nvbk",
        "outputId": "3eb989a2-893b-455f-a64a-437650e95298"
      },
      "execution_count": 21,
      "outputs": [
        {
          "output_type": "stream",
          "name": "stdout",
          "text": [
            "Matriz de confusión tree:\n",
            "\n"
          ]
        },
        {
          "output_type": "execute_result",
          "data": {
            "text/plain": [
              "array([[22,  1,  0],\n",
              "       [ 0, 18,  1],\n",
              "       [ 0,  0, 12]])"
            ]
          },
          "metadata": {},
          "execution_count": 21
        }
      ]
    },
    {
      "cell_type": "markdown",
      "source": [
        "Aquí la matriz de confusión para el primer modelo, siempre en orden: clase 1 - clase 2 - clase 3. Por lo tanto en la diagonal el número de valores correctamente clasificados para el subconjunto test, en las clases 1 - 2 - 3, y fuera de ella los que no, el orden es filas - columnas, por lo tanto: primera fila segunda columna, valores que pertenecían a la primera clase pero se han clasificado de manera equivocada en la segunda; y primera columna - segunda fila serían los que se han clasificado en la primera clase pero pertenecían a la segunda."
      ],
      "metadata": {
        "id": "faN8f1n-pZkp"
      }
    },
    {
      "cell_type": "code",
      "source": [
        "print('Matriz de confusión KNN:\\n')\n",
        "confusion_matrix(y_test, y_knn)"
      ],
      "metadata": {
        "colab": {
          "base_uri": "https://localhost:8080/"
        },
        "id": "RtOxWnZfRpNF",
        "outputId": "3d707d5d-e304-4679-bfe2-6f162250bc9e"
      },
      "execution_count": 22,
      "outputs": [
        {
          "output_type": "stream",
          "name": "stdout",
          "text": [
            "Matriz de confusión KNN:\n",
            "\n"
          ]
        },
        {
          "output_type": "execute_result",
          "data": {
            "text/plain": [
              "array([[21,  0,  2],\n",
              "       [ 2, 12,  5],\n",
              "       [ 0,  7,  5]])"
            ]
          },
          "metadata": {},
          "execution_count": 22
        }
      ]
    },
    {
      "cell_type": "markdown",
      "source": [
        "Vemos como la matriz de confusión del modelo KNN muestra 11 predicciones incorrectas (fuera de la diagonal) del total de 54 para el subconjunto de prueba (test)."
      ],
      "metadata": {
        "id": "1cYNnMlfRyA6"
      }
    },
    {
      "cell_type": "markdown",
      "source": [
        "Otra medida del rendimiento es el recall (o sensibilidad): TP / (TP + FN), que nos dice del total que pertenecían a cada clase, cuántos ha clasificado correctamente en la clase correspondiente el modelo.\n",
        "\n"
      ],
      "metadata": {
        "id": "KLWWgSvOc1x7"
      }
    },
    {
      "cell_type": "code",
      "source": [
        "from sklearn.metrics import recall_score\n",
        "\n",
        "print('Recall tree: '+str(recall_score(y_test, y_tree, average='macro').round(2)))\n",
        "print('Recall KNN: '+str(recall_score(y_test, y_knn, average='macro').round(2)))"
      ],
      "metadata": {
        "colab": {
          "base_uri": "https://localhost:8080/"
        },
        "id": "OvSNm-RSdHk-",
        "outputId": "f7b1b6ff-87e8-49ca-f086-a2cacc7b4150"
      },
      "execution_count": 23,
      "outputs": [
        {
          "output_type": "stream",
          "name": "stdout",
          "text": [
            "Recall tree: 0.97\n",
            "Recall KNN: 0.65\n"
          ]
        }
      ]
    },
    {
      "cell_type": "markdown",
      "source": [
        "Al indicar average=macro estamos teniendo en cuenta el total de 'aciertos' y 'errores' entre las tres clases, sin ponderar.\n",
        "De nuevo, la interpretación es muy parecida, del total que pertenecían a cada clase el modelo ha predicho correctamente el 96% y el 65% respectivamente (para los modelos de árbol y KNN)."
      ],
      "metadata": {
        "id": "ch5HSJW0diAn"
      }
    },
    {
      "cell_type": "markdown",
      "source": [
        "Promediando las dos medidas anteriores tenemos el f1 score, la fórmula es: 2 x (Precision+Recall)/(PrecisionxRecall)"
      ],
      "metadata": {
        "id": "OXLa7bPOYyxd"
      }
    },
    {
      "cell_type": "code",
      "source": [
        "from sklearn.metrics import f1_score"
      ],
      "metadata": {
        "id": "A41WtjSpYwx_"
      },
      "execution_count": 24,
      "outputs": []
    },
    {
      "cell_type": "code",
      "source": [
        "print('f1 decision tree: '+str(f1_score(y_test, y_tree, average='macro').round(2)))\n",
        "print('f1 KNN: '+str(f1_score(y_test, y_knn, average='macro').round(2)))"
      ],
      "metadata": {
        "colab": {
          "base_uri": "https://localhost:8080/"
        },
        "id": "1eZfCbS1a0h3",
        "outputId": "a4ba3dc1-6579-471f-df25-560d6f6479c7"
      },
      "execution_count": 25,
      "outputs": [
        {
          "output_type": "stream",
          "name": "stdout",
          "text": [
            "f1 decision tree: 0.96\n",
            "f1 KNN: 0.65\n"
          ]
        }
      ]
    },
    {
      "cell_type": "markdown",
      "source": [
        "En este caso observamos como los resultados son de nuevo dispares según el modelo utilizado. La interpretación en este caso sería: cuán acertado es el modelo teniendo en cuenta tanto precisión (predicciones correctas del total) como sensibilidad (cuánto no se ha dejado fuera si nos centramos en las 'positivas')."
      ],
      "metadata": {
        "id": "nLCxSJTfe5Lx"
      }
    },
    {
      "cell_type": "markdown",
      "source": [
        "# EX03. Entrena’ls usant els diferents paràmetres que admeten per tal de millorar-ne la predicció.<a name=\"EX03\"></a>"
      ],
      "metadata": {
        "id": "13itvMWB_FK6"
      }
    },
    {
      "cell_type": "markdown",
      "source": [
        "En primer lugar vamos a comprobar cuáles son los parámetros que toman los modelos por defecto:"
      ],
      "metadata": {
        "id": "T3Ja8N_MOH0f"
      }
    },
    {
      "cell_type": "code",
      "source": [
        "print('Parámetros tree: '+str(clf_tree.get_params()))\n",
        "print()\n",
        "print('Parámetros KNN: '+str(clf_knn.get_params()))"
      ],
      "metadata": {
        "colab": {
          "base_uri": "https://localhost:8080/"
        },
        "id": "kTH1RfyGOjR4",
        "outputId": "c680b6a4-036a-439b-d27f-704217bafb3d"
      },
      "execution_count": 26,
      "outputs": [
        {
          "output_type": "stream",
          "name": "stdout",
          "text": [
            "Parámetros tree: {'ccp_alpha': 0.0, 'class_weight': None, 'criterion': 'gini', 'max_depth': None, 'max_features': None, 'max_leaf_nodes': None, 'min_impurity_decrease': 0.0, 'min_samples_leaf': 1, 'min_samples_split': 2, 'min_weight_fraction_leaf': 0.0, 'random_state': None, 'splitter': 'best'}\n",
            "\n",
            "Parámetros KNN: {'algorithm': 'auto', 'leaf_size': 30, 'metric': 'minkowski', 'metric_params': None, 'n_jobs': None, 'n_neighbors': 5, 'p': 2, 'weights': 'uniform'}\n"
          ]
        }
      ]
    },
    {
      "cell_type": "markdown",
      "source": [
        "En segundo lugar vamos a utilizar RandomizedSearchCV para obtener los parámetros óptimos para cada modelo de entre una muestra aleatoria:"
      ],
      "metadata": {
        "id": "DWATLwx_PjRu"
      }
    },
    {
      "cell_type": "code",
      "source": [
        "from sklearn.model_selection import RandomizedSearchCV"
      ],
      "metadata": {
        "id": "fiJsZyG-XVvS"
      },
      "execution_count": 27,
      "outputs": []
    },
    {
      "cell_type": "code",
      "source": [
        "param_grid_tree = {\n",
        "    'criterion': ['gini', 'entropy'],\n",
        "    'max_depth': [None, 10, 20, 30],\n",
        "    'min_samples_split': [2, 5, 10],\n",
        "    'min_samples_leaf': [1, 2, 4],\n",
        "    'max_features': [None, 'sqrt', 'log2'],\n",
        "    'max_leaf_nodes': [None, 10, 20, 30],\n",
        "    'random_state': [None, 42]\n",
        "}\n",
        "\n",
        "model_random = RandomizedSearchCV(DecisionTreeClassifier(), param_distributions=param_grid_tree, n_iter=100, cv=5, random_state=1)\n",
        "model_random.fit(X_train, y_train)\n",
        "print(\"Mejores parámetros tree: \", model_random.best_params_)\n",
        "params_tree = model_random.best_params_"
      ],
      "metadata": {
        "colab": {
          "base_uri": "https://localhost:8080/"
        },
        "id": "KpOzInWBRdLO",
        "outputId": "e14708d7-b771-4ee4-90d9-154b5b8ab609"
      },
      "execution_count": 28,
      "outputs": [
        {
          "output_type": "stream",
          "name": "stdout",
          "text": [
            "Mejores parámetros tree:  {'random_state': None, 'min_samples_split': 10, 'min_samples_leaf': 1, 'max_leaf_nodes': 10, 'max_features': 'log2', 'max_depth': 20, 'criterion': 'entropy'}\n"
          ]
        }
      ]
    },
    {
      "cell_type": "markdown",
      "source": [
        "Repetimos el proceso para KNN:"
      ],
      "metadata": {
        "id": "YRG936CHVweV"
      }
    },
    {
      "cell_type": "code",
      "source": [
        "param_grid_knn = {\n",
        "     'n_neighbors': [3, 5, 10, 20],\n",
        "    'weights': ['uniform', 'distance'],\n",
        "    'algorithm': ['auto', 'ball_tree', 'kd_tree', 'brute'],\n",
        "    'p': [1, 2]\n",
        "}\n",
        "\n",
        "model_random = RandomizedSearchCV(KNeighborsClassifier(), param_distributions=param_grid_knn, n_iter=64, cv=5, random_state=1)\n",
        "model_random.fit(X_train, y_train)\n",
        "print(\"Mejores parámetros KNN: \", model_random.best_params_)\n",
        "params_knn = model_random.best_params_"
      ],
      "metadata": {
        "colab": {
          "base_uri": "https://localhost:8080/"
        },
        "id": "rRL1fEYuV7zH",
        "outputId": "7724d64f-5f4e-485d-b840-65b8cb90b83b"
      },
      "execution_count": 29,
      "outputs": [
        {
          "output_type": "stream",
          "name": "stdout",
          "text": [
            "Mejores parámetros KNN:  {'weights': 'distance', 'p': 1, 'n_neighbors': 20, 'algorithm': 'auto'}\n"
          ]
        }
      ]
    },
    {
      "cell_type": "markdown",
      "source": [
        "Ahora ya tenemos los parámetros óptimos según `RandomizedSearchCV` para entrenar nuestros modelos. Sigamos:"
      ],
      "metadata": {
        "id": "_6AZWNxRaJrj"
      }
    },
    {
      "cell_type": "code",
      "source": [
        "best_clf_tree = DecisionTreeClassifier(**params_tree)"
      ],
      "metadata": {
        "id": "vEPQ4CY8adSz"
      },
      "execution_count": 30,
      "outputs": []
    },
    {
      "cell_type": "code",
      "source": [
        "best_clf_knn = KNeighborsClassifier(**params_knn)"
      ],
      "metadata": {
        "id": "sDO4cFcIb-Ka"
      },
      "execution_count": 31,
      "outputs": []
    },
    {
      "cell_type": "markdown",
      "source": [
        "Entrenamos los dos modelos desempaquetando los parámetros óptimos guardados en las variables params_tree y params_knn."
      ],
      "metadata": {
        "id": "7uubh_HOy2Dx"
      }
    },
    {
      "cell_type": "code",
      "source": [
        "best_clf_tree.fit(X_train, y_train)\n",
        "best_clf_knn.fit(X_train, y_train)"
      ],
      "metadata": {
        "colab": {
          "base_uri": "https://localhost:8080/",
          "height": 74
        },
        "id": "snb9vfmXda_B",
        "outputId": "f4eeb369-a349-4168-ce63-357e19d2fd02"
      },
      "execution_count": 32,
      "outputs": [
        {
          "output_type": "execute_result",
          "data": {
            "text/plain": [
              "KNeighborsClassifier(n_neighbors=20, p=1, weights='distance')"
            ],
            "text/html": [
              "<style>#sk-container-id-2 {color: black;background-color: white;}#sk-container-id-2 pre{padding: 0;}#sk-container-id-2 div.sk-toggleable {background-color: white;}#sk-container-id-2 label.sk-toggleable__label {cursor: pointer;display: block;width: 100%;margin-bottom: 0;padding: 0.3em;box-sizing: border-box;text-align: center;}#sk-container-id-2 label.sk-toggleable__label-arrow:before {content: \"▸\";float: left;margin-right: 0.25em;color: #696969;}#sk-container-id-2 label.sk-toggleable__label-arrow:hover:before {color: black;}#sk-container-id-2 div.sk-estimator:hover label.sk-toggleable__label-arrow:before {color: black;}#sk-container-id-2 div.sk-toggleable__content {max-height: 0;max-width: 0;overflow: hidden;text-align: left;background-color: #f0f8ff;}#sk-container-id-2 div.sk-toggleable__content pre {margin: 0.2em;color: black;border-radius: 0.25em;background-color: #f0f8ff;}#sk-container-id-2 input.sk-toggleable__control:checked~div.sk-toggleable__content {max-height: 200px;max-width: 100%;overflow: auto;}#sk-container-id-2 input.sk-toggleable__control:checked~label.sk-toggleable__label-arrow:before {content: \"▾\";}#sk-container-id-2 div.sk-estimator input.sk-toggleable__control:checked~label.sk-toggleable__label {background-color: #d4ebff;}#sk-container-id-2 div.sk-label input.sk-toggleable__control:checked~label.sk-toggleable__label {background-color: #d4ebff;}#sk-container-id-2 input.sk-hidden--visually {border: 0;clip: rect(1px 1px 1px 1px);clip: rect(1px, 1px, 1px, 1px);height: 1px;margin: -1px;overflow: hidden;padding: 0;position: absolute;width: 1px;}#sk-container-id-2 div.sk-estimator {font-family: monospace;background-color: #f0f8ff;border: 1px dotted black;border-radius: 0.25em;box-sizing: border-box;margin-bottom: 0.5em;}#sk-container-id-2 div.sk-estimator:hover {background-color: #d4ebff;}#sk-container-id-2 div.sk-parallel-item::after {content: \"\";width: 100%;border-bottom: 1px solid gray;flex-grow: 1;}#sk-container-id-2 div.sk-label:hover label.sk-toggleable__label {background-color: #d4ebff;}#sk-container-id-2 div.sk-serial::before {content: \"\";position: absolute;border-left: 1px solid gray;box-sizing: border-box;top: 0;bottom: 0;left: 50%;z-index: 0;}#sk-container-id-2 div.sk-serial {display: flex;flex-direction: column;align-items: center;background-color: white;padding-right: 0.2em;padding-left: 0.2em;position: relative;}#sk-container-id-2 div.sk-item {position: relative;z-index: 1;}#sk-container-id-2 div.sk-parallel {display: flex;align-items: stretch;justify-content: center;background-color: white;position: relative;}#sk-container-id-2 div.sk-item::before, #sk-container-id-2 div.sk-parallel-item::before {content: \"\";position: absolute;border-left: 1px solid gray;box-sizing: border-box;top: 0;bottom: 0;left: 50%;z-index: -1;}#sk-container-id-2 div.sk-parallel-item {display: flex;flex-direction: column;z-index: 1;position: relative;background-color: white;}#sk-container-id-2 div.sk-parallel-item:first-child::after {align-self: flex-end;width: 50%;}#sk-container-id-2 div.sk-parallel-item:last-child::after {align-self: flex-start;width: 50%;}#sk-container-id-2 div.sk-parallel-item:only-child::after {width: 0;}#sk-container-id-2 div.sk-dashed-wrapped {border: 1px dashed gray;margin: 0 0.4em 0.5em 0.4em;box-sizing: border-box;padding-bottom: 0.4em;background-color: white;}#sk-container-id-2 div.sk-label label {font-family: monospace;font-weight: bold;display: inline-block;line-height: 1.2em;}#sk-container-id-2 div.sk-label-container {text-align: center;}#sk-container-id-2 div.sk-container {/* jupyter's `normalize.less` sets `[hidden] { display: none; }` but bootstrap.min.css set `[hidden] { display: none !important; }` so we also need the `!important` here to be able to override the default hidden behavior on the sphinx rendered scikit-learn.org. See: https://github.com/scikit-learn/scikit-learn/issues/21755 */display: inline-block !important;position: relative;}#sk-container-id-2 div.sk-text-repr-fallback {display: none;}</style><div id=\"sk-container-id-2\" class=\"sk-top-container\"><div class=\"sk-text-repr-fallback\"><pre>KNeighborsClassifier(n_neighbors=20, p=1, weights=&#x27;distance&#x27;)</pre><b>In a Jupyter environment, please rerun this cell to show the HTML representation or trust the notebook. <br />On GitHub, the HTML representation is unable to render, please try loading this page with nbviewer.org.</b></div><div class=\"sk-container\" hidden><div class=\"sk-item\"><div class=\"sk-estimator sk-toggleable\"><input class=\"sk-toggleable__control sk-hidden--visually\" id=\"sk-estimator-id-2\" type=\"checkbox\" checked><label for=\"sk-estimator-id-2\" class=\"sk-toggleable__label sk-toggleable__label-arrow\">KNeighborsClassifier</label><div class=\"sk-toggleable__content\"><pre>KNeighborsClassifier(n_neighbors=20, p=1, weights=&#x27;distance&#x27;)</pre></div></div></div></div></div>"
            ]
          },
          "metadata": {},
          "execution_count": 32
        }
      ]
    },
    {
      "cell_type": "markdown",
      "source": [
        "# EX04. Compara el seu rendiment fent servir l’aproximació train/test o cross-validation.<a name=\"EX04\"></a>"
      ],
      "metadata": {
        "id": "sPUCBUJP_Ni5"
      }
    },
    {
      "cell_type": "markdown",
      "source": [
        "Utilizaremos la aproximación train/test:"
      ],
      "metadata": {
        "id": "gE7dcH_pflyC"
      }
    },
    {
      "cell_type": "code",
      "source": [
        "y_tree_best = best_clf_tree.predict(X_test)\n",
        "score_y_tree_best = f1_score(y_test, y_tree_best, average='macro').round(2)\n",
        "print('f1 tree óptimo: ', score_y_tree_best)"
      ],
      "metadata": {
        "id": "ryaXPAGV_QIg",
        "colab": {
          "base_uri": "https://localhost:8080/"
        },
        "outputId": "9cf93791-43d5-4045-8540-7ed14c436e2b"
      },
      "execution_count": 33,
      "outputs": [
        {
          "output_type": "stream",
          "name": "stdout",
          "text": [
            "f1 tree óptimo:  0.98\n"
          ]
        }
      ]
    },
    {
      "cell_type": "code",
      "source": [
        "y_knn_best = best_clf_knn.predict(X_test)\n",
        "score_y_knn_best = f1_score(y_test, y_knn_best, average='macro').round(2)\n",
        "print('f1 knn óptimo: ', score_y_knn_best)"
      ],
      "metadata": {
        "colab": {
          "base_uri": "https://localhost:8080/"
        },
        "outputId": "4f1f50dc-bf32-4f2f-bbf1-61cd38b7cebd",
        "id": "fthjsGlugab_"
      },
      "execution_count": 34,
      "outputs": [
        {
          "output_type": "stream",
          "name": "stdout",
          "text": [
            "f1 knn óptimo:  0.74\n"
          ]
        }
      ]
    },
    {
      "cell_type": "markdown",
      "source": [
        "Vemos como el rendimiento f1 al utilizar parámetros óptimos mejora en ambos modelos, pasando de 0.92 a 0.94 para decision tree y de 0.65 a 0.74 con knn."
      ],
      "metadata": {
        "id": "CCEIPxt4vlE-"
      }
    },
    {
      "cell_type": "markdown",
      "source": [
        "# EX05. Aplica algun procés d'enginyeria per millorar els resultats (normalització, estandardització, mostreig...).<a name=\"EX05\"></a>"
      ],
      "metadata": {
        "id": "zjGcMSh4_Q_r"
      }
    },
    {
      "cell_type": "markdown",
      "source": [
        "Primero vamos a comprobar la normalidad de las distribuciones y la presencia de valores extremos en el subconjunto de entrenamiento, con el objetivo de elegir los métodos de estandarización adecuados."
      ],
      "metadata": {
        "id": "dPOvE2WqjuaQ"
      }
    },
    {
      "cell_type": "code",
      "source": [
        "from scipy.stats import shapiro"
      ],
      "metadata": {
        "id": "4C-NtHk_zCue"
      },
      "execution_count": 35,
      "outputs": []
    },
    {
      "cell_type": "code",
      "source": [
        "for x in X_train:\n",
        "  stat, p = shapiro(X_train[x])\n",
        "  if p > 0.05:\n",
        "    print(x+': Gaussiana'+' - p='+f\"{p:.5f}\")\n",
        "  else:\n",
        "    print(x+': No gaussiana'+' - p='+f\"{p:.5f}\")"
      ],
      "metadata": {
        "colab": {
          "base_uri": "https://localhost:8080/"
        },
        "id": "Zo94m05CyrO7",
        "outputId": "a56af96f-5178-48a9-d35d-75eb26e8b837"
      },
      "execution_count": 36,
      "outputs": [
        {
          "output_type": "stream",
          "name": "stdout",
          "text": [
            "Alcohol: Gaussiana - p=0.46630\n",
            "Malic acid: No gaussiana - p=0.00000\n",
            "Ash: Gaussiana - p=0.07849\n",
            "Alcalinity of ash: Gaussiana - p=0.44874\n",
            "Magnesium: No gaussiana - p=0.00002\n",
            "Total phenols: No gaussiana - p=0.02640\n",
            "Flavanoids: No gaussiana - p=0.00034\n",
            "Nonflavanoid phenols: No gaussiana - p=0.00118\n",
            "Proanthocyanins: No gaussiana - p=0.00155\n",
            "Color intensity: No gaussiana - p=0.00000\n",
            "Hue: No gaussiana - p=0.01888\n",
            "OD280/OD315 of diluted wines: No gaussiana - p=0.00017\n",
            "Proline: No gaussiana - p=0.00001\n"
          ]
        }
      ]
    },
    {
      "cell_type": "markdown",
      "source": [
        "Ya tenemos las variables gaussianas, vamos a estandarizarlas:"
      ],
      "metadata": {
        "id": "hTwBIWuJ0GYa"
      }
    },
    {
      "cell_type": "code",
      "source": [
        "from sklearn.preprocessing import StandardScaler\n",
        "\n",
        "scaler = StandardScaler()\n",
        "\n",
        "gaussianas = ['Alcohol','Ash','Alcalinity of ash']\n",
        "\n",
        "for x in gaussianas:\n",
        "  X_train[x] = scaler.fit_transform(X_train[[x]])\n",
        "  X_test[x] = scaler.fit_transform(X_test[[x]])"
      ],
      "metadata": {
        "id": "E6fukjP-0OgX"
      },
      "execution_count": 37,
      "outputs": []
    },
    {
      "cell_type": "markdown",
      "source": [
        "Ya tenemos las variables gaussianas estandarizadas y guardadas en X_train y X_test. Veremos ahora los valores extremos en el resto de variables, para diferenciar en cuáles aplicamos MinMax (sin outliers) y en cuáles RobustScaler(con outliers):"
      ],
      "metadata": {
        "id": "IjNlczp93kKA"
      }
    },
    {
      "cell_type": "code",
      "source": [
        "no_gaussianas = []\n",
        "\n",
        "for x in X.columns:\n",
        "  if x not in gaussianas:\n",
        "    no_gaussianas.append(x)"
      ],
      "metadata": {
        "id": "-EeuRsYk5EG_"
      },
      "execution_count": 38,
      "outputs": []
    },
    {
      "cell_type": "markdown",
      "source": [
        "Guardamos los nombres de las variables no gaussianas en un array, y ya podemos iterar sobre ellas para mostrarlas gráficamente:"
      ],
      "metadata": {
        "id": "lE-nvvvX7cYn"
      }
    },
    {
      "cell_type": "code",
      "source": [
        "import matplotlib.pyplot as plt\n",
        "import seaborn as sns"
      ],
      "metadata": {
        "id": "MMHgeCMG8Z7B"
      },
      "execution_count": 39,
      "outputs": []
    },
    {
      "cell_type": "code",
      "source": [
        "fig, axes = plt.subplots(4, 3, figsize=(35, 35))\n",
        "axes = axes.flatten()\n",
        "\n",
        "i = 0\n",
        "\n",
        "for x in X_train[no_gaussianas]:\n",
        "  sns.boxplot(X_train[x], ax=axes[i], orient='h')\n",
        "  axes[i].set_title(x, fontsize=25)\n",
        "  axes[i].set_xlabel('')\n",
        "  axes[i].set_ylabel('')\n",
        "  axes[i].set_xticks([])\n",
        "  axes[i].set_yticks([])\n",
        "  i +=1\n",
        "\n",
        "axes[10].set_visible(False)\n",
        "axes[11].set_visible(False)"
      ],
      "metadata": {
        "id": "YkbiVNuZItbw",
        "colab": {
          "base_uri": "https://localhost:8080/",
          "height": 925
        },
        "outputId": "1f4aa40e-63cd-443b-e246-6b2a15080c8f"
      },
      "execution_count": 40,
      "outputs": [
        {
          "output_type": "display_data",
          "data": {
            "text/plain": [
              "<Figure size 3500x3500 with 12 Axes>"
            ],
            "image/png": "[encoded data removed]"
          },
          "metadata": {}
        }
      ]
    },
    {
      "cell_type": "code",
      "source": [
        "for x in no_gaussianas:\n",
        "  print (x)"
      ],
      "metadata": {
        "colab": {
          "base_uri": "https://localhost:8080/"
        },
        "id": "A9MJASTk9jLN",
        "outputId": "997f3502-5d4a-4bf3-ec80-4cafc467c002"
      },
      "execution_count": 41,
      "outputs": [
        {
          "output_type": "stream",
          "name": "stdout",
          "text": [
            "Malic acid\n",
            "Magnesium\n",
            "Total phenols\n",
            "Flavanoids\n",
            "Nonflavanoid phenols\n",
            "Proanthocyanins\n",
            "Color intensity\n",
            "Hue\n",
            "OD280/OD315 of diluted wines\n",
            "Proline\n"
          ]
        }
      ]
    },
    {
      "cell_type": "code",
      "source": [
        "extremos = ['Magnesium', 'Proanthocyanins', 'Color intensity', 'Hue', 'Proline']\n",
        "no_extremos = []\n",
        "\n",
        "for x in no_gaussianas:\n",
        "  if x not in extremos:\n",
        "    no_extremos.append(x)"
      ],
      "metadata": {
        "id": "GjdniTwR9X23"
      },
      "execution_count": 42,
      "outputs": []
    },
    {
      "cell_type": "markdown",
      "source": [
        "Guardamos los nombres de las columnas con y sin valores extremos dentro de las no gaussianas en dos nuevas listas.  \n",
        "Ahora ya podemos aplicar la estandarización:"
      ],
      "metadata": {
        "id": "3lViXEBI-Vj8"
      }
    },
    {
      "cell_type": "code",
      "source": [
        "from sklearn.preprocessing import MinMaxScaler\n",
        "from sklearn.preprocessing import RobustScaler\n",
        "\n",
        "scaler = MinMaxScaler()\n",
        "\n",
        "for x in extremos:\n",
        "  X_train[x] = scaler.fit_transform(X_train[[x]])\n",
        "  X_test[x] = scaler.fit_transform(X_test[[x]])\n",
        "\n",
        "scaler = RobustScaler()\n",
        "\n",
        "for x in no_extremos:\n",
        "  X_train[x] = scaler.fit_transform(X_train[[x]])\n",
        "  X_test[x] = scaler.fit_transform(X_test[[x]])"
      ],
      "metadata": {
        "id": "zBLMkyGg-hmV"
      },
      "execution_count": 43,
      "outputs": []
    },
    {
      "cell_type": "markdown",
      "source": [
        "Tenemos todas las variables para los subconjuntos train y test estandarizadas y guardadas en X_train y en X_test:"
      ],
      "metadata": {
        "id": "TmA_fUpP_U90"
      }
    },
    {
      "cell_type": "code",
      "source": [
        "X_train.describe().round(2)"
      ],
      "metadata": {
        "colab": {
          "base_uri": "https://localhost:8080/",
          "height": 354
        },
        "id": "wvAX7uY-_gE_",
        "outputId": "bb8b4973-73dc-4b94-e904-11648aa9e05c"
      },
      "execution_count": 44,
      "outputs": [
        {
          "output_type": "execute_result",
          "data": {
            "text/plain": [
              "       Alcohol  Malic acid     Ash  Alcalinity of ash  Magnesium  \\\n",
              "count   124.00      124.00  124.00             124.00     124.00   \n",
              "mean     -0.00        0.28   -0.00               0.00       0.31   \n",
              "std       1.00        0.67    1.00               1.00       0.15   \n",
              "min      -2.44       -0.60   -2.39              -2.66       0.00   \n",
              "25%      -0.78       -0.20   -0.57              -0.61       0.20   \n",
              "50%       0.06        0.00   -0.08              -0.06       0.29   \n",
              "75%       0.72        0.80    0.71               0.57       0.37   \n",
              "max       2.39        2.16    3.18               2.76       1.00   \n",
              "\n",
              "       Total phenols  Flavanoids  Nonflavanoid phenols  Proanthocyanins  \\\n",
              "count         124.00      124.00                124.00           124.00   \n",
              "mean            0.03       -0.02                  0.18             0.36   \n",
              "std             0.61        0.60                  0.75             0.19   \n",
              "min            -1.19       -0.98                 -1.31             0.00   \n",
              "25%            -0.50       -0.57                 -0.44             0.23   \n",
              "50%             0.00        0.00                  0.00             0.33   \n",
              "75%             0.50        0.43                  0.56             0.46   \n",
              "max             1.62        1.87                  1.81             1.00   \n",
              "\n",
              "       Color intensity     Hue  OD280/OD315 of diluted wines  Proline  \n",
              "count           124.00  124.00                        124.00   124.00  \n",
              "mean              0.31    0.35                         -0.15     0.36  \n",
              "std               0.20    0.21                          0.57     0.23  \n",
              "min               0.00    0.00                         -1.17     0.00  \n",
              "25%               0.15    0.17                         -0.68     0.18  \n",
              "50%               0.27    0.37                          0.00     0.31  \n",
              "75%               0.39    0.49                          0.32     0.50  \n",
              "max               1.00    1.00                          0.97     1.00  "
            ],
            "text/html": [
              "\n",
              "  <div id=\"df-772e99f2-cb98-4d61-9c5d-58be0919ea22\" class=\"colab-df-container\">\n",
              "    <div>\n",
              "<style scoped>\n",
              "    .dataframe tbody tr th:only-of-type {\n",
              "        vertical-align: middle;\n",
              "    }\n",
              "\n",
              "    .dataframe tbody tr th {\n",
              "        vertical-align: top;\n",
              "    }\n",
              "\n",
              "    .dataframe thead th {\n",
              "        text-align: right;\n",
              "    }\n",
              "</style>\n",
              "<table border=\"1\" class=\"dataframe\">\n",
              "  <thead>\n",
              "    <tr style=\"text-align: right;\">\n",
              "      <th></th>\n",
              "      <th>Alcohol</th>\n",
              "      <th>Malic acid</th>\n",
              "      <th>Ash</th>\n",
              "      <th>Alcalinity of ash</th>\n",
              "      <th>Magnesium</th>\n",
              "      <th>Total phenols</th>\n",
              "      <th>Flavanoids</th>\n",
              "      <th>Nonflavanoid phenols</th>\n",
              "      <th>Proanthocyanins</th>\n",
              "      <th>Color intensity</th>\n",
              "      <th>Hue</th>\n",
              "      <th>OD280/OD315 of diluted wines</th>\n",
              "      <th>Proline</th>\n",
              "    </tr>\n",
              "  </thead>\n",
              "  <tbody>\n",
              "    <tr>\n",
              "      <th>count</th>\n",
              "      <td>124.00</td>\n",
              "      <td>124.00</td>\n",
              "      <td>124.00</td>\n",
              "      <td>124.00</td>\n",
              "      <td>124.00</td>\n",
              "      <td>124.00</td>\n",
              "      <td>124.00</td>\n",
              "      <td>124.00</td>\n",
              "      <td>124.00</td>\n",
              "      <td>124.00</td>\n",
              "      <td>124.00</td>\n",
              "      <td>124.00</td>\n",
              "      <td>124.00</td>\n",
              "    </tr>\n",
              "    <tr>\n",
              "      <th>mean</th>\n",
              "      <td>-0.00</td>\n",
              "      <td>0.28</td>\n",
              "      <td>-0.00</td>\n",
              "      <td>0.00</td>\n",
              "      <td>0.31</td>\n",
              "      <td>0.03</td>\n",
              "      <td>-0.02</td>\n",
              "      <td>0.18</td>\n",
              "      <td>0.36</td>\n",
              "      <td>0.31</td>\n",
              "      <td>0.35</td>\n",
              "      <td>-0.15</td>\n",
              "      <td>0.36</td>\n",
              "    </tr>\n",
              "    <tr>\n",
              "      <th>std</th>\n",
              "      <td>1.00</td>\n",
              "      <td>0.67</td>\n",
              "      <td>1.00</td>\n",
              "      <td>1.00</td>\n",
              "      <td>0.15</td>\n",
              "      <td>0.61</td>\n",
              "      <td>0.60</td>\n",
              "      <td>0.75</td>\n",
              "      <td>0.19</td>\n",
              "      <td>0.20</td>\n",
              "      <td>0.21</td>\n",
              "      <td>0.57</td>\n",
              "      <td>0.23</td>\n",
              "    </tr>\n",
              "    <tr>\n",
              "      <th>min</th>\n",
              "      <td>-2.44</td>\n",
              "      <td>-0.60</td>\n",
              "      <td>-2.39</td>\n",
              "      <td>-2.66</td>\n",
              "      <td>0.00</td>\n",
              "      <td>-1.19</td>\n",
              "      <td>-0.98</td>\n",
              "      <td>-1.31</td>\n",
              "      <td>0.00</td>\n",
              "      <td>0.00</td>\n",
              "      <td>0.00</td>\n",
              "      <td>-1.17</td>\n",
              "      <td>0.00</td>\n",
              "    </tr>\n",
              "    <tr>\n",
              "      <th>25%</th>\n",
              "      <td>-0.78</td>\n",
              "      <td>-0.20</td>\n",
              "      <td>-0.57</td>\n",
              "      <td>-0.61</td>\n",
              "      <td>0.20</td>\n",
              "      <td>-0.50</td>\n",
              "      <td>-0.57</td>\n",
              "      <td>-0.44</td>\n",
              "      <td>0.23</td>\n",
              "      <td>0.15</td>\n",
              "      <td>0.17</td>\n",
              "      <td>-0.68</td>\n",
              "      <td>0.18</td>\n",
              "    </tr>\n",
              "    <tr>\n",
              "      <th>50%</th>\n",
              "      <td>0.06</td>\n",
              "      <td>0.00</td>\n",
              "      <td>-0.08</td>\n",
              "      <td>-0.06</td>\n",
              "      <td>0.29</td>\n",
              "      <td>0.00</td>\n",
              "      <td>0.00</td>\n",
              "      <td>0.00</td>\n",
              "      <td>0.33</td>\n",
              "      <td>0.27</td>\n",
              "      <td>0.37</td>\n",
              "      <td>0.00</td>\n",
              "      <td>0.31</td>\n",
              "    </tr>\n",
              "    <tr>\n",
              "      <th>75%</th>\n",
              "      <td>0.72</td>\n",
              "      <td>0.80</td>\n",
              "      <td>0.71</td>\n",
              "      <td>0.57</td>\n",
              "      <td>0.37</td>\n",
              "      <td>0.50</td>\n",
              "      <td>0.43</td>\n",
              "      <td>0.56</td>\n",
              "      <td>0.46</td>\n",
              "      <td>0.39</td>\n",
              "      <td>0.49</td>\n",
              "      <td>0.32</td>\n",
              "      <td>0.50</td>\n",
              "    </tr>\n",
              "    <tr>\n",
              "      <th>max</th>\n",
              "      <td>2.39</td>\n",
              "      <td>2.16</td>\n",
              "      <td>3.18</td>\n",
              "      <td>2.76</td>\n",
              "      <td>1.00</td>\n",
              "      <td>1.62</td>\n",
              "      <td>1.87</td>\n",
              "      <td>1.81</td>\n",
              "      <td>1.00</td>\n",
              "      <td>1.00</td>\n",
              "      <td>1.00</td>\n",
              "      <td>0.97</td>\n",
              "      <td>1.00</td>\n",
              "    </tr>\n",
              "  </tbody>\n",
              "</table>\n",
              "</div>\n",
              "    <div class=\"colab-df-buttons\">\n",
              "\n",
              "  <div class=\"colab-df-container\">\n",
              "    <button class=\"colab-df-convert\" onclick=\"convertToInteractive('df-772e99f2-cb98-4d61-9c5d-58be0919ea22')\"\n",
              "            title=\"Convert this dataframe to an interactive table.\"\n",
              "            style=\"display:none;\">\n",
              "\n",
              "  <svg xmlns=\"http://www.w3.org/2000/svg\" height=\"24px\" viewBox=\"0 -960 960 960\">\n",
              "    <path d=\"M120-120v-720h720v720H120Zm60-500h600v-160H180v160Zm220 220h160v-160H400v160Zm0 220h160v-160H400v160ZM180-400h160v-160H180v160Zm440 0h160v-160H620v160ZM180-180h160v-160H180v160Zm440 0h160v-160H620v160Z\"/>\n",
              "  </svg>\n",
              "    </button>\n",
              "\n",
              "  <style>\n",
              "    .colab-df-container {\n",
              "      display:flex;\n",
              "      gap: 12px;\n",
              "    }\n",
              "\n",
              "    .colab-df-convert {\n",
              "      background-color: #E8F0FE;\n",
              "      border: none;\n",
              "      border-radius: 50%;\n",
              "      cursor: pointer;\n",
              "      display: none;\n",
              "      fill: #1967D2;\n",
              "      height: 32px;\n",
              "      padding: 0 0 0 0;\n",
              "      width: 32px;\n",
              "    }\n",
              "\n",
              "    .colab-df-convert:hover {\n",
              "      background-color: #E2EBFA;\n",
              "      box-shadow: 0px 1px 2px rgba(60, 64, 67, 0.3), 0px 1px 3px 1px rgba(60, 64, 67, 0.15);\n",
              "      fill: #174EA6;\n",
              "    }\n",
              "\n",
              "    .colab-df-buttons div {\n",
              "      margin-bottom: 4px;\n",
              "    }\n",
              "\n",
              "    [theme=dark] .colab-df-convert {\n",
              "      background-color: #3B4455;\n",
              "      fill: #D2E3FC;\n",
              "    }\n",
              "\n",
              "    [theme=dark] .colab-df-convert:hover {\n",
              "      background-color: #434B5C;\n",
              "      box-shadow: 0px 1px 3px 1px rgba(0, 0, 0, 0.15);\n",
              "      filter: drop-shadow(0px 1px 2px rgba(0, 0, 0, 0.3));\n",
              "      fill: #FFFFFF;\n",
              "    }\n",
              "  </style>\n",
              "\n",
              "    <script>\n",
              "      const buttonEl =\n",
              "        document.querySelector('#df-772e99f2-cb98-4d61-9c5d-58be0919ea22 button.colab-df-convert');\n",
              "      buttonEl.style.display =\n",
              "        google.colab.kernel.accessAllowed ? 'block' : 'none';\n",
              "\n",
              "      async function convertToInteractive(key) {\n",
              "        const element = document.querySelector('#df-772e99f2-cb98-4d61-9c5d-58be0919ea22');\n",
              "        const dataTable =\n",
              "          await google.colab.kernel.invokeFunction('convertToInteractive',\n",
              "                                                    [key], {});\n",
              "        if (!dataTable) return;\n",
              "\n",
              "        const docLinkHtml = 'Like what you see? Visit the ' +\n",
              "          '<a target=\"_blank\" href=https://colab.research.google.com/notebooks/data_table.ipynb>data table notebook</a>'\n",
              "          + ' to learn more about interactive tables.';\n",
              "        element.innerHTML = '';\n",
              "        dataTable['output_type'] = 'display_data';\n",
              "        await google.colab.output.renderOutput(dataTable, element);\n",
              "        const docLink = document.createElement('div');\n",
              "        docLink.innerHTML = docLinkHtml;\n",
              "        element.appendChild(docLink);\n",
              "      }\n",
              "    </script>\n",
              "  </div>\n",
              "\n",
              "\n",
              "<div id=\"df-63841e00-09f2-47ff-9446-8ce8a767284f\">\n",
              "  <button class=\"colab-df-quickchart\" onclick=\"quickchart('df-63841e00-09f2-47ff-9446-8ce8a767284f')\"\n",
              "            title=\"Suggest charts\"\n",
              "            style=\"display:none;\">\n",
              "\n",
              "<svg xmlns=\"http://www.w3.org/2000/svg\" height=\"24px\"viewBox=\"0 0 24 24\"\n",
              "     width=\"24px\">\n",
              "    <g>\n",
              "        <path d=\"M19 3H5c-1.1 0-2 .9-2 2v14c0 1.1.9 2 2 2h14c1.1 0 2-.9 2-2V5c0-1.1-.9-2-2-2zM9 17H7v-7h2v7zm4 0h-2V7h2v10zm4 0h-2v-4h2v4z\"/>\n",
              "    </g>\n",
              "</svg>\n",
              "  </button>\n",
              "\n",
              "<style>\n",
              "  .colab-df-quickchart {\n",
              "      --bg-color: #E8F0FE;\n",
              "      --fill-color: #1967D2;\n",
              "      --hover-bg-color: #E2EBFA;\n",
              "      --hover-fill-color: #174EA6;\n",
              "      --disabled-fill-color: #AAA;\n",
              "      --disabled-bg-color: #DDD;\n",
              "  }\n",
              "\n",
              "  [theme=dark] .colab-df-quickchart {\n",
              "      --bg-color: #3B4455;\n",
              "      --fill-color: #D2E3FC;\n",
              "      --hover-bg-color: #434B5C;\n",
              "      --hover-fill-color: #FFFFFF;\n",
              "      --disabled-bg-color: #3B4455;\n",
              "      --disabled-fill-color: #666;\n",
              "  }\n",
              "\n",
              "  .colab-df-quickchart {\n",
              "    background-color: var(--bg-color);\n",
              "    border: none;\n",
              "    border-radius: 50%;\n",
              "    cursor: pointer;\n",
              "    display: none;\n",
              "    fill: var(--fill-color);\n",
              "    height: 32px;\n",
              "    padding: 0;\n",
              "    width: 32px;\n",
              "  }\n",
              "\n",
              "  .colab-df-quickchart:hover {\n",
              "    background-color: var(--hover-bg-color);\n",
              "    box-shadow: 0 1px 2px rgba(60, 64, 67, 0.3), 0 1px 3px 1px rgba(60, 64, 67, 0.15);\n",
              "    fill: var(--button-hover-fill-color);\n",
              "  }\n",
              "\n",
              "  .colab-df-quickchart-complete:disabled,\n",
              "  .colab-df-quickchart-complete:disabled:hover {\n",
              "    background-color: var(--disabled-bg-color);\n",
              "    fill: var(--disabled-fill-color);\n",
              "    box-shadow: none;\n",
              "  }\n",
              "\n",
              "  .colab-df-spinner {\n",
              "    border: 2px solid var(--fill-color);\n",
              "    border-color: transparent;\n",
              "    border-bottom-color: var(--fill-color);\n",
              "    animation:\n",
              "      spin 1s steps(1) infinite;\n",
              "  }\n",
              "\n",
              "  @keyframes spin {\n",
              "    0% {\n",
              "      border-color: transparent;\n",
              "      border-bottom-color: var(--fill-color);\n",
              "      border-left-color: var(--fill-color);\n",
              "    }\n",
              "    20% {\n",
              "      border-color: transparent;\n",
              "      border-left-color: var(--fill-color);\n",
              "      border-top-color: var(--fill-color);\n",
              "    }\n",
              "    30% {\n",
              "      border-color: transparent;\n",
              "      border-left-color: var(--fill-color);\n",
              "      border-top-color: var(--fill-color);\n",
              "      border-right-color: var(--fill-color);\n",
              "    }\n",
              "    40% {\n",
              "      border-color: transparent;\n",
              "      border-right-color: var(--fill-color);\n",
              "      border-top-color: var(--fill-color);\n",
              "    }\n",
              "    60% {\n",
              "      border-color: transparent;\n",
              "      border-right-color: var(--fill-color);\n",
              "    }\n",
              "    80% {\n",
              "      border-color: transparent;\n",
              "      border-right-color: var(--fill-color);\n",
              "      border-bottom-color: var(--fill-color);\n",
              "    }\n",
              "    90% {\n",
              "      border-color: transparent;\n",
              "      border-bottom-color: var(--fill-color);\n",
              "    }\n",
              "  }\n",
              "</style>\n",
              "\n",
              "  <script>\n",
              "    async function quickchart(key) {\n",
              "      const quickchartButtonEl =\n",
              "        document.querySelector('#' + key + ' button');\n",
              "      quickchartButtonEl.disabled = true;  // To prevent multiple clicks.\n",
              "      quickchartButtonEl.classList.add('colab-df-spinner');\n",
              "      try {\n",
              "        const charts = await google.colab.kernel.invokeFunction(\n",
              "            'suggestCharts', [key], {});\n",
              "      } catch (error) {\n",
              "        console.error('Error during call to suggestCharts:', error);\n",
              "      }\n",
              "      quickchartButtonEl.classList.remove('colab-df-spinner');\n",
              "      quickchartButtonEl.classList.add('colab-df-quickchart-complete');\n",
              "    }\n",
              "    (() => {\n",
              "      let quickchartButtonEl =\n",
              "        document.querySelector('#df-63841e00-09f2-47ff-9446-8ce8a767284f button');\n",
              "      quickchartButtonEl.style.display =\n",
              "        google.colab.kernel.accessAllowed ? 'block' : 'none';\n",
              "    })();\n",
              "  </script>\n",
              "</div>\n",
              "    </div>\n",
              "  </div>\n"
            ]
          },
          "metadata": {},
          "execution_count": 44
        }
      ]
    },
    {
      "cell_type": "code",
      "source": [
        "X_test.describe().round(2)"
      ],
      "metadata": {
        "colab": {
          "base_uri": "https://localhost:8080/",
          "height": 354
        },
        "id": "m4qkHcHX_sOv",
        "outputId": "d2a72322-4a46-4156-8d64-8200b03869f7"
      },
      "execution_count": 45,
      "outputs": [
        {
          "output_type": "execute_result",
          "data": {
            "text/plain": [
              "       Alcohol  Malic acid    Ash  Alcalinity of ash  Magnesium  \\\n",
              "count    54.00       54.00  54.00              54.00      54.00   \n",
              "mean     -0.00        0.32  -0.00              -0.00       0.29   \n",
              "std       1.01        0.93   1.01               1.01       0.24   \n",
              "min      -2.02       -1.08  -3.81              -2.35       0.00   \n",
              "25%      -0.87       -0.22  -0.43              -0.73       0.08   \n",
              "50%       0.19        0.00   0.08               0.00       0.25   \n",
              "75%       0.76        0.78   0.62               0.68       0.45   \n",
              "max       1.49        3.05   1.97               3.05       1.00   \n",
              "\n",
              "       Total phenols  Flavanoids  Nonflavanoid phenols  Proanthocyanins  \\\n",
              "count          54.00       54.00                 54.00            54.00   \n",
              "mean           -0.12       -0.09                  0.13             0.50   \n",
              "std             0.59        0.58                  0.66             0.20   \n",
              "min            -1.24       -1.13                 -0.89             0.00   \n",
              "25%            -0.63       -0.64                 -0.37             0.37   \n",
              "50%             0.00        0.00                  0.00             0.53   \n",
              "75%             0.37        0.36                  0.63             0.63   \n",
              "max             0.82        0.91                  1.68             1.00   \n",
              "\n",
              "       Color intensity    Hue  OD280/OD315 of diluted wines  Proline  \n",
              "count            54.00  54.00                         54.00    54.00  \n",
              "mean              0.34   0.57                         -0.20     0.36  \n",
              "std               0.22   0.26                          0.74     0.27  \n",
              "min               0.00   0.00                         -1.79     0.00  \n",
              "25%               0.14   0.46                         -0.64     0.15  \n",
              "50%               0.34   0.58                          0.00     0.28  \n",
              "75%               0.45   0.74                          0.36     0.54  \n",
              "max               1.00   1.00                          0.81     1.00  "
            ],
            "text/html": [
              "\n",
              "  <div id=\"df-ba70c3a8-c5aa-488f-9b50-34aa735eb903\" class=\"colab-df-container\">\n",
              "    <div>\n",
              "<style scoped>\n",
              "    .dataframe tbody tr th:only-of-type {\n",
              "        vertical-align: middle;\n",
              "    }\n",
              "\n",
              "    .dataframe tbody tr th {\n",
              "        vertical-align: top;\n",
              "    }\n",
              "\n",
              "    .dataframe thead th {\n",
              "        text-align: right;\n",
              "    }\n",
              "</style>\n",
              "<table border=\"1\" class=\"dataframe\">\n",
              "  <thead>\n",
              "    <tr style=\"text-align: right;\">\n",
              "      <th></th>\n",
              "      <th>Alcohol</th>\n",
              "      <th>Malic acid</th>\n",
              "      <th>Ash</th>\n",
              "      <th>Alcalinity of ash</th>\n",
              "      <th>Magnesium</th>\n",
              "      <th>Total phenols</th>\n",
              "      <th>Flavanoids</th>\n",
              "      <th>Nonflavanoid phenols</th>\n",
              "      <th>Proanthocyanins</th>\n",
              "      <th>Color intensity</th>\n",
              "      <th>Hue</th>\n",
              "      <th>OD280/OD315 of diluted wines</th>\n",
              "      <th>Proline</th>\n",
              "    </tr>\n",
              "  </thead>\n",
              "  <tbody>\n",
              "    <tr>\n",
              "      <th>count</th>\n",
              "      <td>54.00</td>\n",
              "      <td>54.00</td>\n",
              "      <td>54.00</td>\n",
              "      <td>54.00</td>\n",
              "      <td>54.00</td>\n",
              "      <td>54.00</td>\n",
              "      <td>54.00</td>\n",
              "      <td>54.00</td>\n",
              "      <td>54.00</td>\n",
              "      <td>54.00</td>\n",
              "      <td>54.00</td>\n",
              "      <td>54.00</td>\n",
              "      <td>54.00</td>\n",
              "    </tr>\n",
              "    <tr>\n",
              "      <th>mean</th>\n",
              "      <td>-0.00</td>\n",
              "      <td>0.32</td>\n",
              "      <td>-0.00</td>\n",
              "      <td>-0.00</td>\n",
              "      <td>0.29</td>\n",
              "      <td>-0.12</td>\n",
              "      <td>-0.09</td>\n",
              "      <td>0.13</td>\n",
              "      <td>0.50</td>\n",
              "      <td>0.34</td>\n",
              "      <td>0.57</td>\n",
              "      <td>-0.20</td>\n",
              "      <td>0.36</td>\n",
              "    </tr>\n",
              "    <tr>\n",
              "      <th>std</th>\n",
              "      <td>1.01</td>\n",
              "      <td>0.93</td>\n",
              "      <td>1.01</td>\n",
              "      <td>1.01</td>\n",
              "      <td>0.24</td>\n",
              "      <td>0.59</td>\n",
              "      <td>0.58</td>\n",
              "      <td>0.66</td>\n",
              "      <td>0.20</td>\n",
              "      <td>0.22</td>\n",
              "      <td>0.26</td>\n",
              "      <td>0.74</td>\n",
              "      <td>0.27</td>\n",
              "    </tr>\n",
              "    <tr>\n",
              "      <th>min</th>\n",
              "      <td>-2.02</td>\n",
              "      <td>-1.08</td>\n",
              "      <td>-3.81</td>\n",
              "      <td>-2.35</td>\n",
              "      <td>0.00</td>\n",
              "      <td>-1.24</td>\n",
              "      <td>-1.13</td>\n",
              "      <td>-0.89</td>\n",
              "      <td>0.00</td>\n",
              "      <td>0.00</td>\n",
              "      <td>0.00</td>\n",
              "      <td>-1.79</td>\n",
              "      <td>0.00</td>\n",
              "    </tr>\n",
              "    <tr>\n",
              "      <th>25%</th>\n",
              "      <td>-0.87</td>\n",
              "      <td>-0.22</td>\n",
              "      <td>-0.43</td>\n",
              "      <td>-0.73</td>\n",
              "      <td>0.08</td>\n",
              "      <td>-0.63</td>\n",
              "      <td>-0.64</td>\n",
              "      <td>-0.37</td>\n",
              "      <td>0.37</td>\n",
              "      <td>0.14</td>\n",
              "      <td>0.46</td>\n",
              "      <td>-0.64</td>\n",
              "      <td>0.15</td>\n",
              "    </tr>\n",
              "    <tr>\n",
              "      <th>50%</th>\n",
              "      <td>0.19</td>\n",
              "      <td>0.00</td>\n",
              "      <td>0.08</td>\n",
              "      <td>0.00</td>\n",
              "      <td>0.25</td>\n",
              "      <td>0.00</td>\n",
              "      <td>0.00</td>\n",
              "      <td>0.00</td>\n",
              "      <td>0.53</td>\n",
              "      <td>0.34</td>\n",
              "      <td>0.58</td>\n",
              "      <td>0.00</td>\n",
              "      <td>0.28</td>\n",
              "    </tr>\n",
              "    <tr>\n",
              "      <th>75%</th>\n",
              "      <td>0.76</td>\n",
              "      <td>0.78</td>\n",
              "      <td>0.62</td>\n",
              "      <td>0.68</td>\n",
              "      <td>0.45</td>\n",
              "      <td>0.37</td>\n",
              "      <td>0.36</td>\n",
              "      <td>0.63</td>\n",
              "      <td>0.63</td>\n",
              "      <td>0.45</td>\n",
              "      <td>0.74</td>\n",
              "      <td>0.36</td>\n",
              "      <td>0.54</td>\n",
              "    </tr>\n",
              "    <tr>\n",
              "      <th>max</th>\n",
              "      <td>1.49</td>\n",
              "      <td>3.05</td>\n",
              "      <td>1.97</td>\n",
              "      <td>3.05</td>\n",
              "      <td>1.00</td>\n",
              "      <td>0.82</td>\n",
              "      <td>0.91</td>\n",
              "      <td>1.68</td>\n",
              "      <td>1.00</td>\n",
              "      <td>1.00</td>\n",
              "      <td>1.00</td>\n",
              "      <td>0.81</td>\n",
              "      <td>1.00</td>\n",
              "    </tr>\n",
              "  </tbody>\n",
              "</table>\n",
              "</div>\n",
              "    <div class=\"colab-df-buttons\">\n",
              "\n",
              "  <div class=\"colab-df-container\">\n",
              "    <button class=\"colab-df-convert\" onclick=\"convertToInteractive('df-ba70c3a8-c5aa-488f-9b50-34aa735eb903')\"\n",
              "            title=\"Convert this dataframe to an interactive table.\"\n",
              "            style=\"display:none;\">\n",
              "\n",
              "  <svg xmlns=\"http://www.w3.org/2000/svg\" height=\"24px\" viewBox=\"0 -960 960 960\">\n",
              "    <path d=\"M120-120v-720h720v720H120Zm60-500h600v-160H180v160Zm220 220h160v-160H400v160Zm0 220h160v-160H400v160ZM180-400h160v-160H180v160Zm440 0h160v-160H620v160ZM180-180h160v-160H180v160Zm440 0h160v-160H620v160Z\"/>\n",
              "  </svg>\n",
              "    </button>\n",
              "\n",
              "  <style>\n",
              "    .colab-df-container {\n",
              "      display:flex;\n",
              "      gap: 12px;\n",
              "    }\n",
              "\n",
              "    .colab-df-convert {\n",
              "      background-color: #E8F0FE;\n",
              "      border: none;\n",
              "      border-radius: 50%;\n",
              "      cursor: pointer;\n",
              "      display: none;\n",
              "      fill: #1967D2;\n",
              "      height: 32px;\n",
              "      padding: 0 0 0 0;\n",
              "      width: 32px;\n",
              "    }\n",
              "\n",
              "    .colab-df-convert:hover {\n",
              "      background-color: #E2EBFA;\n",
              "      box-shadow: 0px 1px 2px rgba(60, 64, 67, 0.3), 0px 1px 3px 1px rgba(60, 64, 67, 0.15);\n",
              "      fill: #174EA6;\n",
              "    }\n",
              "\n",
              "    .colab-df-buttons div {\n",
              "      margin-bottom: 4px;\n",
              "    }\n",
              "\n",
              "    [theme=dark] .colab-df-convert {\n",
              "      background-color: #3B4455;\n",
              "      fill: #D2E3FC;\n",
              "    }\n",
              "\n",
              "    [theme=dark] .colab-df-convert:hover {\n",
              "      background-color: #434B5C;\n",
              "      box-shadow: 0px 1px 3px 1px rgba(0, 0, 0, 0.15);\n",
              "      filter: drop-shadow(0px 1px 2px rgba(0, 0, 0, 0.3));\n",
              "      fill: #FFFFFF;\n",
              "    }\n",
              "  </style>\n",
              "\n",
              "    <script>\n",
              "      const buttonEl =\n",
              "        document.querySelector('#df-ba70c3a8-c5aa-488f-9b50-34aa735eb903 button.colab-df-convert');\n",
              "      buttonEl.style.display =\n",
              "        google.colab.kernel.accessAllowed ? 'block' : 'none';\n",
              "\n",
              "      async function convertToInteractive(key) {\n",
              "        const element = document.querySelector('#df-ba70c3a8-c5aa-488f-9b50-34aa735eb903');\n",
              "        const dataTable =\n",
              "          await google.colab.kernel.invokeFunction('convertToInteractive',\n",
              "                                                    [key], {});\n",
              "        if (!dataTable) return;\n",
              "\n",
              "        const docLinkHtml = 'Like what you see? Visit the ' +\n",
              "          '<a target=\"_blank\" href=https://colab.research.google.com/notebooks/data_table.ipynb>data table notebook</a>'\n",
              "          + ' to learn more about interactive tables.';\n",
              "        element.innerHTML = '';\n",
              "        dataTable['output_type'] = 'display_data';\n",
              "        await google.colab.output.renderOutput(dataTable, element);\n",
              "        const docLink = document.createElement('div');\n",
              "        docLink.innerHTML = docLinkHtml;\n",
              "        element.appendChild(docLink);\n",
              "      }\n",
              "    </script>\n",
              "  </div>\n",
              "\n",
              "\n",
              "<div id=\"df-fc1380b8-00d6-4228-ad28-82f4580d13e4\">\n",
              "  <button class=\"colab-df-quickchart\" onclick=\"quickchart('df-fc1380b8-00d6-4228-ad28-82f4580d13e4')\"\n",
              "            title=\"Suggest charts\"\n",
              "            style=\"display:none;\">\n",
              "\n",
              "<svg xmlns=\"http://www.w3.org/2000/svg\" height=\"24px\"viewBox=\"0 0 24 24\"\n",
              "     width=\"24px\">\n",
              "    <g>\n",
              "        <path d=\"M19 3H5c-1.1 0-2 .9-2 2v14c0 1.1.9 2 2 2h14c1.1 0 2-.9 2-2V5c0-1.1-.9-2-2-2zM9 17H7v-7h2v7zm4 0h-2V7h2v10zm4 0h-2v-4h2v4z\"/>\n",
              "    </g>\n",
              "</svg>\n",
              "  </button>\n",
              "\n",
              "<style>\n",
              "  .colab-df-quickchart {\n",
              "      --bg-color: #E8F0FE;\n",
              "      --fill-color: #1967D2;\n",
              "      --hover-bg-color: #E2EBFA;\n",
              "      --hover-fill-color: #174EA6;\n",
              "      --disabled-fill-color: #AAA;\n",
              "      --disabled-bg-color: #DDD;\n",
              "  }\n",
              "\n",
              "  [theme=dark] .colab-df-quickchart {\n",
              "      --bg-color: #3B4455;\n",
              "      --fill-color: #D2E3FC;\n",
              "      --hover-bg-color: #434B5C;\n",
              "      --hover-fill-color: #FFFFFF;\n",
              "      --disabled-bg-color: #3B4455;\n",
              "      --disabled-fill-color: #666;\n",
              "  }\n",
              "\n",
              "  .colab-df-quickchart {\n",
              "    background-color: var(--bg-color);\n",
              "    border: none;\n",
              "    border-radius: 50%;\n",
              "    cursor: pointer;\n",
              "    display: none;\n",
              "    fill: var(--fill-color);\n",
              "    height: 32px;\n",
              "    padding: 0;\n",
              "    width: 32px;\n",
              "  }\n",
              "\n",
              "  .colab-df-quickchart:hover {\n",
              "    background-color: var(--hover-bg-color);\n",
              "    box-shadow: 0 1px 2px rgba(60, 64, 67, 0.3), 0 1px 3px 1px rgba(60, 64, 67, 0.15);\n",
              "    fill: var(--button-hover-fill-color);\n",
              "  }\n",
              "\n",
              "  .colab-df-quickchart-complete:disabled,\n",
              "  .colab-df-quickchart-complete:disabled:hover {\n",
              "    background-color: var(--disabled-bg-color);\n",
              "    fill: var(--disabled-fill-color);\n",
              "    box-shadow: none;\n",
              "  }\n",
              "\n",
              "  .colab-df-spinner {\n",
              "    border: 2px solid var(--fill-color);\n",
              "    border-color: transparent;\n",
              "    border-bottom-color: var(--fill-color);\n",
              "    animation:\n",
              "      spin 1s steps(1) infinite;\n",
              "  }\n",
              "\n",
              "  @keyframes spin {\n",
              "    0% {\n",
              "      border-color: transparent;\n",
              "      border-bottom-color: var(--fill-color);\n",
              "      border-left-color: var(--fill-color);\n",
              "    }\n",
              "    20% {\n",
              "      border-color: transparent;\n",
              "      border-left-color: var(--fill-color);\n",
              "      border-top-color: var(--fill-color);\n",
              "    }\n",
              "    30% {\n",
              "      border-color: transparent;\n",
              "      border-left-color: var(--fill-color);\n",
              "      border-top-color: var(--fill-color);\n",
              "      border-right-color: var(--fill-color);\n",
              "    }\n",
              "    40% {\n",
              "      border-color: transparent;\n",
              "      border-right-color: var(--fill-color);\n",
              "      border-top-color: var(--fill-color);\n",
              "    }\n",
              "    60% {\n",
              "      border-color: transparent;\n",
              "      border-right-color: var(--fill-color);\n",
              "    }\n",
              "    80% {\n",
              "      border-color: transparent;\n",
              "      border-right-color: var(--fill-color);\n",
              "      border-bottom-color: var(--fill-color);\n",
              "    }\n",
              "    90% {\n",
              "      border-color: transparent;\n",
              "      border-bottom-color: var(--fill-color);\n",
              "    }\n",
              "  }\n",
              "</style>\n",
              "\n",
              "  <script>\n",
              "    async function quickchart(key) {\n",
              "      const quickchartButtonEl =\n",
              "        document.querySelector('#' + key + ' button');\n",
              "      quickchartButtonEl.disabled = true;  // To prevent multiple clicks.\n",
              "      quickchartButtonEl.classList.add('colab-df-spinner');\n",
              "      try {\n",
              "        const charts = await google.colab.kernel.invokeFunction(\n",
              "            'suggestCharts', [key], {});\n",
              "      } catch (error) {\n",
              "        console.error('Error during call to suggestCharts:', error);\n",
              "      }\n",
              "      quickchartButtonEl.classList.remove('colab-df-spinner');\n",
              "      quickchartButtonEl.classList.add('colab-df-quickchart-complete');\n",
              "    }\n",
              "    (() => {\n",
              "      let quickchartButtonEl =\n",
              "        document.querySelector('#df-fc1380b8-00d6-4228-ad28-82f4580d13e4 button');\n",
              "      quickchartButtonEl.style.display =\n",
              "        google.colab.kernel.accessAllowed ? 'block' : 'none';\n",
              "    })();\n",
              "  </script>\n",
              "</div>\n",
              "    </div>\n",
              "  </div>\n"
            ]
          },
          "metadata": {},
          "execution_count": 45
        }
      ]
    },
    {
      "cell_type": "markdown",
      "source": [
        "Estamos ya en condiciones de aplicar nuestros modelos predictivos de machine learning."
      ],
      "metadata": {
        "id": "cb50FYFM_73m"
      }
    },
    {
      "cell_type": "code",
      "source": [
        "best_clf_tree.fit(X_train, y_train)\n",
        "best_clf_knn.fit(X_train, y_train)"
      ],
      "metadata": {
        "colab": {
          "base_uri": "https://localhost:8080/",
          "height": 74
        },
        "id": "8NLSAPdulkm7",
        "outputId": "e508c36f-008a-44d0-fa96-3bf4c55c3610"
      },
      "execution_count": 46,
      "outputs": [
        {
          "output_type": "execute_result",
          "data": {
            "text/plain": [
              "KNeighborsClassifier(n_neighbors=20, p=1, weights='distance')"
            ],
            "text/html": [
              "<style>#sk-container-id-3 {color: black;background-color: white;}#sk-container-id-3 pre{padding: 0;}#sk-container-id-3 div.sk-toggleable {background-color: white;}#sk-container-id-3 label.sk-toggleable__label {cursor: pointer;display: block;width: 100%;margin-bottom: 0;padding: 0.3em;box-sizing: border-box;text-align: center;}#sk-container-id-3 label.sk-toggleable__label-arrow:before {content: \"▸\";float: left;margin-right: 0.25em;color: #696969;}#sk-container-id-3 label.sk-toggleable__label-arrow:hover:before {color: black;}#sk-container-id-3 div.sk-estimator:hover label.sk-toggleable__label-arrow:before {color: black;}#sk-container-id-3 div.sk-toggleable__content {max-height: 0;max-width: 0;overflow: hidden;text-align: left;background-color: #f0f8ff;}#sk-container-id-3 div.sk-toggleable__content pre {margin: 0.2em;color: black;border-radius: 0.25em;background-color: #f0f8ff;}#sk-container-id-3 input.sk-toggleable__control:checked~div.sk-toggleable__content {max-height: 200px;max-width: 100%;overflow: auto;}#sk-container-id-3 input.sk-toggleable__control:checked~label.sk-toggleable__label-arrow:before {content: \"▾\";}#sk-container-id-3 div.sk-estimator input.sk-toggleable__control:checked~label.sk-toggleable__label {background-color: #d4ebff;}#sk-container-id-3 div.sk-label input.sk-toggleable__control:checked~label.sk-toggleable__label {background-color: #d4ebff;}#sk-container-id-3 input.sk-hidden--visually {border: 0;clip: rect(1px 1px 1px 1px);clip: rect(1px, 1px, 1px, 1px);height: 1px;margin: -1px;overflow: hidden;padding: 0;position: absolute;width: 1px;}#sk-container-id-3 div.sk-estimator {font-family: monospace;background-color: #f0f8ff;border: 1px dotted black;border-radius: 0.25em;box-sizing: border-box;margin-bottom: 0.5em;}#sk-container-id-3 div.sk-estimator:hover {background-color: #d4ebff;}#sk-container-id-3 div.sk-parallel-item::after {content: \"\";width: 100%;border-bottom: 1px solid gray;flex-grow: 1;}#sk-container-id-3 div.sk-label:hover label.sk-toggleable__label {background-color: #d4ebff;}#sk-container-id-3 div.sk-serial::before {content: \"\";position: absolute;border-left: 1px solid gray;box-sizing: border-box;top: 0;bottom: 0;left: 50%;z-index: 0;}#sk-container-id-3 div.sk-serial {display: flex;flex-direction: column;align-items: center;background-color: white;padding-right: 0.2em;padding-left: 0.2em;position: relative;}#sk-container-id-3 div.sk-item {position: relative;z-index: 1;}#sk-container-id-3 div.sk-parallel {display: flex;align-items: stretch;justify-content: center;background-color: white;position: relative;}#sk-container-id-3 div.sk-item::before, #sk-container-id-3 div.sk-parallel-item::before {content: \"\";position: absolute;border-left: 1px solid gray;box-sizing: border-box;top: 0;bottom: 0;left: 50%;z-index: -1;}#sk-container-id-3 div.sk-parallel-item {display: flex;flex-direction: column;z-index: 1;position: relative;background-color: white;}#sk-container-id-3 div.sk-parallel-item:first-child::after {align-self: flex-end;width: 50%;}#sk-container-id-3 div.sk-parallel-item:last-child::after {align-self: flex-start;width: 50%;}#sk-container-id-3 div.sk-parallel-item:only-child::after {width: 0;}#sk-container-id-3 div.sk-dashed-wrapped {border: 1px dashed gray;margin: 0 0.4em 0.5em 0.4em;box-sizing: border-box;padding-bottom: 0.4em;background-color: white;}#sk-container-id-3 div.sk-label label {font-family: monospace;font-weight: bold;display: inline-block;line-height: 1.2em;}#sk-container-id-3 div.sk-label-container {text-align: center;}#sk-container-id-3 div.sk-container {/* jupyter's `normalize.less` sets `[hidden] { display: none; }` but bootstrap.min.css set `[hidden] { display: none !important; }` so we also need the `!important` here to be able to override the default hidden behavior on the sphinx rendered scikit-learn.org. See: https://github.com/scikit-learn/scikit-learn/issues/21755 */display: inline-block !important;position: relative;}#sk-container-id-3 div.sk-text-repr-fallback {display: none;}</style><div id=\"sk-container-id-3\" class=\"sk-top-container\"><div class=\"sk-text-repr-fallback\"><pre>KNeighborsClassifier(n_neighbors=20, p=1, weights=&#x27;distance&#x27;)</pre><b>In a Jupyter environment, please rerun this cell to show the HTML representation or trust the notebook. <br />On GitHub, the HTML representation is unable to render, please try loading this page with nbviewer.org.</b></div><div class=\"sk-container\" hidden><div class=\"sk-item\"><div class=\"sk-estimator sk-toggleable\"><input class=\"sk-toggleable__control sk-hidden--visually\" id=\"sk-estimator-id-3\" type=\"checkbox\" checked><label for=\"sk-estimator-id-3\" class=\"sk-toggleable__label sk-toggleable__label-arrow\">KNeighborsClassifier</label><div class=\"sk-toggleable__content\"><pre>KNeighborsClassifier(n_neighbors=20, p=1, weights=&#x27;distance&#x27;)</pre></div></div></div></div></div>"
            ]
          },
          "metadata": {},
          "execution_count": 46
        }
      ]
    },
    {
      "cell_type": "markdown",
      "source": [
        "Vamos ahora a repetir el proceso de entrenamiento y predicción para los dos modelos en su versión óptima y ver si obtenemos un aumento del rendimiento."
      ],
      "metadata": {
        "id": "VCHv91KI9b1C"
      }
    },
    {
      "cell_type": "code",
      "source": [
        "y_tree_best_scaled = best_clf_tree.predict(X_test)\n",
        "score_y_tree_best = f1_score(y_test, y_tree_best_scaled, average='macro').round(2)\n",
        "print('f1 tree óptimo escalado: ', score_y_tree_best)"
      ],
      "metadata": {
        "colab": {
          "base_uri": "https://localhost:8080/"
        },
        "id": "tnBqSGb9jVQ3",
        "outputId": "4bfd437e-49c0-402d-b01d-b07d00861c0a"
      },
      "execution_count": 47,
      "outputs": [
        {
          "output_type": "stream",
          "name": "stdout",
          "text": [
            "f1 tree óptimo escalado:  0.83\n"
          ]
        }
      ]
    },
    {
      "cell_type": "code",
      "source": [
        "y_knn_best_scaled = best_clf_knn.predict(X_test)\n",
        "score_y_knn_best = f1_score(y_test, y_knn_best_scaled, average='macro').round(2)\n",
        "print('f1 knn óptimo escalado: ', score_y_knn_best)"
      ],
      "metadata": {
        "colab": {
          "base_uri": "https://localhost:8080/"
        },
        "id": "oDI5g2VdmcI3",
        "outputId": "b6af96dd-512a-40d5-a9b4-842a9707fd00"
      },
      "execution_count": 48,
      "outputs": [
        {
          "output_type": "stream",
          "name": "stdout",
          "text": [
            "f1 knn óptimo escalado:  0.98\n"
          ]
        }
      ]
    },
    {
      "cell_type": "code",
      "source": [
        "from sklearn.metrics import classification_report\n",
        "\n",
        "print('Tree:')\n",
        "report_tree_scaled = classification_report(y_test, y_tree_best_scaled)\n",
        "print(report_tree_scaled)\n",
        "\n",
        "print('KNN:')\n",
        "report_knn_scaled = classification_report(y_test, y_knn_best_scaled)\n",
        "print(report_knn_scaled)"
      ],
      "metadata": {
        "colab": {
          "base_uri": "https://localhost:8080/"
        },
        "id": "y7dkupJ1DQVJ",
        "outputId": "efda1ba0-6ee7-4284-ece5-7eec29623250"
      },
      "execution_count": 49,
      "outputs": [
        {
          "output_type": "stream",
          "name": "stdout",
          "text": [
            "Tree:\n",
            "              precision    recall  f1-score   support\n",
            "\n",
            "           1       0.95      0.83      0.88        23\n",
            "           2       0.78      0.74      0.76        19\n",
            "           3       0.75      1.00      0.86        12\n",
            "\n",
            "    accuracy                           0.83        54\n",
            "   macro avg       0.83      0.85      0.83        54\n",
            "weighted avg       0.84      0.83      0.83        54\n",
            "\n",
            "KNN:\n",
            "              precision    recall  f1-score   support\n",
            "\n",
            "           1       0.96      1.00      0.98        23\n",
            "           2       1.00      0.95      0.97        19\n",
            "           3       1.00      1.00      1.00        12\n",
            "\n",
            "    accuracy                           0.98        54\n",
            "   macro avg       0.99      0.98      0.98        54\n",
            "weighted avg       0.98      0.98      0.98        54\n",
            "\n"
          ]
        }
      ]
    },
    {
      "cell_type": "markdown",
      "source": [
        "Al transformar los parámetros de entrenamiento y prueba y aplicar de nuevo los dos modelos con los parámetros optimizados, observamos lo siguiente:  \n",
        "\n",
        "- El rendimiento del modelo `DecisionTreeClassifier` empeora algo, pasando del 0.94 al 0.88.\n",
        "\n",
        "- El rendimiento del modelo `KNeighborsClassifier` mejora significativamente, pasando del 0.74 al 0.98.\n",
        "\n",
        "Comprobamos entonces tanto la idoneidad de cualquiera de los dos modelos con los datos estandarizados, la sensibilidad del modelo KNN a la escala y el mayor rendimiento del modelo KNN si transformamos los datos, incluso comparándolo con DecisionTree con los datos sin transformar (0.94).\n",
        "\n",
        "Una última lectura es ver la conveniencia o no de transformar los datos según el modelo utilizado."
      ],
      "metadata": {
        "id": "DLz6LBc-DwXD"
      }
    },
    {
      "cell_type": "markdown",
      "source": [
        "Finalmente, podemos evaluar los rendimientos de nuevo utilizando una la `CrossValidation`, vamos con ello:"
      ],
      "metadata": {
        "id": "Pr7hQ-4Vo-3q"
      }
    },
    {
      "cell_type": "code",
      "source": [
        "y_combinada = pd.concat([y_train, y_test])\n",
        "X_combinada = pd.concat([X_train, X_test])"
      ],
      "metadata": {
        "id": "_hUkXcgeHgsl"
      },
      "execution_count": 59,
      "outputs": []
    },
    {
      "cell_type": "markdown",
      "source": [
        "Recuperamos los datos de y y los datos de X transformados para todo el dataset para aplicar `cross-validation`:"
      ],
      "metadata": {
        "id": "fIKJQKYBIQUt"
      }
    },
    {
      "cell_type": "code",
      "source": [
        "from sklearn.tree import DecisionTreeClassifier\n",
        "from sklearn.model_selection import cross_val_score\n",
        "\n",
        "cross_tree = cross_val_score(best_clf_tree, X_combinada, y_combinada, cv=5)\n",
        "print(cross_tree)"
      ],
      "metadata": {
        "colab": {
          "base_uri": "https://localhost:8080/"
        },
        "id": "H46YA21ZN2ZN",
        "outputId": "3d86d30a-064f-4f24-9798-e7a687e15058"
      },
      "execution_count": 63,
      "outputs": [
        {
          "output_type": "stream",
          "name": "stdout",
          "text": [
            "[0.97222222 0.91666667 0.86111111 0.85714286 0.85714286]\n"
          ]
        }
      ]
    },
    {
      "cell_type": "code",
      "source": [
        "cross_knn = cross_val_score(best_clf_knn, X_combinada, y_combinada, cv=5)\n",
        "print(cross_knn)"
      ],
      "metadata": {
        "colab": {
          "base_uri": "https://localhost:8080/"
        },
        "id": "2aCm2KVgQC-N",
        "outputId": "77efb146-ed64-40f3-dcf9-626206d679c3"
      },
      "execution_count": 64,
      "outputs": [
        {
          "output_type": "stream",
          "name": "stdout",
          "text": [
            "[0.94444444 0.97222222 1.         0.97142857 0.97142857]\n"
          ]
        }
      ]
    },
    {
      "cell_type": "markdown",
      "source": [
        "Vemos como el rendimiento obtenido para ambos modelos es muy similar al del método train/test. Los 5 valores se corresponden con el tanto por 1 de acierto en cada una de las 5 iteraciones del dataset separando 1/5 de los datos que hace cross-validation para cada modelo."
      ],
      "metadata": {
        "id": "SLfbFUrrTAp3"
      }
    },
    {
      "cell_type": "markdown",
      "source": [
        "# Conclusión <a name=\"conclusion\"></a>\n",
        "\n",
        "Para terminar, en la práctica se ha trabajado con el dataset `Winedata.txt` que refleja 178 registros de distintos vinos, clasificándolos en 3 clases, en función de 13 columnas con distintas características químicas. Se han ajustado dos modelos de machine learning: `DecisionTreeClassifier` y `KNeighborsClassifier`, ambos de la librería sklearn, evaluando la precisión y sensibilidad, primero con los parámetros sin optimizar y sin transformar los datos, después optimizando los parámetros y finalmente también con los datos transformados. El rendimiento más alto lo ha dado KNN aplicado sobre los datos transformados, 0.98 en f1, junto con el árbol de decisión con los parámetros óptimos, con el mismo valor, mientras el más bajo también lo ha dado KNN sobre los datos sin transformar y con parámetros no óptimos, 0.7 en f1. El modelo del árbol de decisión en general aplicado sobre los datos sin transformar ha dado un f1 de 0.96 y sobre los mismos datos, y sobre los datos transformados de 0.83, es decir, peor, ya que no es un modelo sensible a la escala al que le ayude una estandarización, sino al contrario, en tanto se le están variando las unidades de medida. Finalmente se ha hecho un último contraste utilizando la aproximación cross-validation para ambos modelos y todo el dataset, obteniendo resultados muy similares, lo que refuerza los resultados obtenidos previamente."
      ],
      "metadata": {
        "id": "tK706uF1OK6o"
      }
    }
  ]
}