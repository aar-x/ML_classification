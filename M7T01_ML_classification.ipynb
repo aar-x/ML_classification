{
  "nbformat": 4,
  "nbformat_minor": 0,
  "metadata": {
    "colab": {
      "provenance": []
    },
    "kernelspec": {
      "name": "python3",
      "display_name": "Python 3"
    },
    "language_info": {
      "name": "python"
    }
  },
  "cells": [
    {
      "cell_type": "markdown",
      "source": [
        "Exercicis d'algoritmes de Classificació."
      ],
      "metadata": {
        "id": "XgtyKeDJ-wTO"
      }
    },
    {
      "cell_type": "markdown",
      "source": [
        "# Importaciones y datos"
      ],
      "metadata": {
        "id": "pfTO--u_I5bN"
      }
    },
    {
      "cell_type": "code",
      "source": [
        "import pandas as pd"
      ],
      "metadata": {
        "id": "2S7KN_i5AhmG"
      },
      "execution_count": 80,
      "outputs": []
    },
    {
      "cell_type": "code",
      "execution_count": 143,
      "metadata": {
        "id": "ocsyRGGB-ami",
        "colab": {
          "base_uri": "https://localhost:8080/"
        },
        "outputId": "d951ca5b-5635-4d58-99e0-d023a2168e4e"
      },
      "outputs": [
        {
          "output_type": "stream",
          "name": "stdout",
          "text": [
            "1. Title of Database: Wine recognition data\n",
            "\tUpdated Sept 21, 1998 by C.Blake : Added attribute information\n",
            "\n",
            "2. Sources:\n",
            "   (a) Forina, M. et al, PARVUS - An Extendible Package for Data\n",
            "       Exploration, Classification and Correlation. Institute of Pharmaceutical\n",
            "       and Food Analysis and Technologies, Via Brigata Salerno, \n",
            "       16147 Genoa, Italy.\n",
            "\n",
            "   (b) Stefan Aeberhard, email: stefan@coral.cs.jcu.edu.au\n",
            "   (c) July 1991\n",
            "3. Past Usage:\n",
            "\n",
            "   (1)\n",
            "   S. Aeberhard, D. Coomans and O. de Vel,\n",
            "   Comparison of Classifiers in High Dimensional Settings,\n",
            "   Tech. Rep. no. 92-02, (1992), Dept. of Computer Science and Dept. of\n",
            "   Mathematics and Statistics, James Cook University of North Queensland.\n",
            "   (Also submitted to Technometrics).\n",
            "\n",
            "   The data was used with many others for comparing various \n",
            "   classifiers. The classes are separable, though only RDA \n",
            "   has achieved 100% correct classification.\n",
            "   (RDA : 100%, QDA 99.4%, LDA 98.9%, 1NN 96.1% (z-transformed data))\n",
            "   (All results using the leave-one-out technique)\n",
            "\n",
            "   In a classification context, this is a well posed problem \n",
            "   with \"well behaved\" class structures. A good data set \n",
            "   for first testing of a new classifier, but not very \n",
            "   challenging.\n",
            "\n",
            "   (2) \n",
            "   S. Aeberhard, D. Coomans and O. de Vel,\n",
            "   \"THE CLASSIFICATION PERFORMANCE OF RDA\"\n",
            "   Tech. Rep. no. 92-01, (1992), Dept. of Computer Science and Dept. of\n",
            "   Mathematics and Statistics, James Cook University of North Queensland.\n",
            "   (Also submitted to Journal of Chemometrics).\n",
            "\n",
            "   Here, the data was used to illustrate the superior performance of\n",
            "   the use of a new appreciation function with RDA. \n",
            "\n",
            "4. Relevant Information:\n",
            "\n",
            "   -- These data are the results of a chemical analysis of\n",
            "      wines grown in the same region in Italy but derived from three\n",
            "      different cultivars.\n",
            "      The analysis determined the quantities of 13 constituents\n",
            "      found in each of the three types of wines. \n",
            "\n",
            "   -- I think that the initial data set had around 30 variables, but \n",
            "      for some reason I only have the 13 dimensional version. \n",
            "      I had a list of what the 30 or so variables were, but a.) \n",
            "      I lost it, and b.), I would not know which 13 variables\n",
            "      are included in the set.\n",
            "\n",
            "   -- The attributes are (dontated by Riccardo Leardi, \n",
            "\triclea@anchem.unige.it )\n",
            " \t1) Alcohol\n",
            " \t2) Malic acid\n",
            " \t3) Ash\n",
            "\t4) Alcalinity of ash  \n",
            " \t5) Magnesium\n",
            "\t6) Total phenols\n",
            " \t7) Flavanoids\n",
            " \t8) Nonflavanoid phenols\n",
            " \t9) Proanthocyanins\n",
            "\t10)Color intensity\n",
            " \t11)Hue\n",
            " \t12)OD280/OD315 of diluted wines\n",
            " \t13)Proline            \n",
            "\n",
            "5. Number of Instances\n",
            "\n",
            "      \tclass 1 59\n",
            "\tclass 2 71\n",
            "\tclass 3 48\n",
            "\n",
            "6. Number of Attributes \n",
            "\t\n",
            "\t13\n",
            "\n",
            "7. For Each Attribute:\n",
            "\n",
            "\tAll attributes are continuous\n",
            "\t\n",
            "\tNo statistics available, but suggest to standardise\n",
            "\tvariables for certain uses (e.g. for us with classifiers\n",
            "\twhich are NOT scale invariant)\n",
            "\n",
            "\tNOTE: 1st attribute is class identifier (1-3)\n",
            "\n",
            "8. Missing Attribute Values:\n",
            "\n",
            "\tNone\n",
            "\n",
            "9. Class Distribution: number of instances per class\n",
            "\n",
            "      \tclass 1 59\n",
            "\tclass 2 71\n",
            "\tclass 3 48\n",
            "\n"
          ]
        }
      ],
      "source": [
        "print(open('wineNames.txt').read())"
      ]
    },
    {
      "cell_type": "code",
      "source": [
        "caracteristicas = [\"Class\", \"Alcohol\", \"Malic acid\", \"Ash\", \"Alcalinity of ash\", \"Magnesium\",\n",
        "         \"Total phenols\", \"Flavanoids\", \"Nonflavanoid phenols\", \"Proanthocyanins\",\n",
        "         \"Color intensity\", \"Hue\", \"OD280/OD315 of diluted wines\", \"Proline\"]\n",
        "\n",
        "wines = pd.read_csv('wineData.txt', sep=',', encoding='utf-8', names=caracteristicas)"
      ],
      "metadata": {
        "id": "ywGzAlCwA4oT"
      },
      "execution_count": 82,
      "outputs": []
    },
    {
      "cell_type": "markdown",
      "source": [
        "# Limpieza de datos"
      ],
      "metadata": {
        "id": "TeCux7gqqhEN"
      }
    },
    {
      "cell_type": "markdown",
      "source": [
        "Empezaremos inspeccionando y limpiando los datos si es necesario ..."
      ],
      "metadata": {
        "id": "sd5lWGZsD6zX"
      }
    },
    {
      "cell_type": "code",
      "source": [
        "wines.head()"
      ],
      "metadata": {
        "id": "olJ0yP-gENfC",
        "colab": {
          "base_uri": "https://localhost:8080/",
          "height": 261
        },
        "outputId": "fc079d87-2d3a-4a19-ab08-69c08c62db46"
      },
      "execution_count": 144,
      "outputs": [
        {
          "output_type": "execute_result",
          "data": {
            "text/plain": [
              "   Class  Alcohol  Malic acid   Ash  Alcalinity of ash  Magnesium  \\\n",
              "0      1    14.23        1.71  2.43               15.6        127   \n",
              "1      1    13.20        1.78  2.14               11.2        100   \n",
              "2      1    13.16        2.36  2.67               18.6        101   \n",
              "3      1    14.37        1.95  2.50               16.8        113   \n",
              "4      1    13.24        2.59  2.87               21.0        118   \n",
              "\n",
              "   Total phenols  Flavanoids  Nonflavanoid phenols  Proanthocyanins  \\\n",
              "0           2.80        3.06                  0.28             2.29   \n",
              "1           2.65        2.76                  0.26             1.28   \n",
              "2           2.80        3.24                  0.30             2.81   \n",
              "3           3.85        3.49                  0.24             2.18   \n",
              "4           2.80        2.69                  0.39             1.82   \n",
              "\n",
              "   Color intensity   Hue  OD280/OD315 of diluted wines  Proline  \n",
              "0             5.64  1.04                          3.92     1065  \n",
              "1             4.38  1.05                          3.40     1050  \n",
              "2             5.68  1.03                          3.17     1185  \n",
              "3             7.80  0.86                          3.45     1480  \n",
              "4             4.32  1.04                          2.93      735  "
            ],
            "text/html": [
              "\n",
              "  <div id=\"df-2e3dc423-c36d-4856-8c77-5263e32fd5e5\" class=\"colab-df-container\">\n",
              "    <div>\n",
              "<style scoped>\n",
              "    .dataframe tbody tr th:only-of-type {\n",
              "        vertical-align: middle;\n",
              "    }\n",
              "\n",
              "    .dataframe tbody tr th {\n",
              "        vertical-align: top;\n",
              "    }\n",
              "\n",
              "    .dataframe thead th {\n",
              "        text-align: right;\n",
              "    }\n",
              "</style>\n",
              "<table border=\"1\" class=\"dataframe\">\n",
              "  <thead>\n",
              "    <tr style=\"text-align: right;\">\n",
              "      <th></th>\n",
              "      <th>Class</th>\n",
              "      <th>Alcohol</th>\n",
              "      <th>Malic acid</th>\n",
              "      <th>Ash</th>\n",
              "      <th>Alcalinity of ash</th>\n",
              "      <th>Magnesium</th>\n",
              "      <th>Total phenols</th>\n",
              "      <th>Flavanoids</th>\n",
              "      <th>Nonflavanoid phenols</th>\n",
              "      <th>Proanthocyanins</th>\n",
              "      <th>Color intensity</th>\n",
              "      <th>Hue</th>\n",
              "      <th>OD280/OD315 of diluted wines</th>\n",
              "      <th>Proline</th>\n",
              "    </tr>\n",
              "  </thead>\n",
              "  <tbody>\n",
              "    <tr>\n",
              "      <th>0</th>\n",
              "      <td>1</td>\n",
              "      <td>14.23</td>\n",
              "      <td>1.71</td>\n",
              "      <td>2.43</td>\n",
              "      <td>15.6</td>\n",
              "      <td>127</td>\n",
              "      <td>2.80</td>\n",
              "      <td>3.06</td>\n",
              "      <td>0.28</td>\n",
              "      <td>2.29</td>\n",
              "      <td>5.64</td>\n",
              "      <td>1.04</td>\n",
              "      <td>3.92</td>\n",
              "      <td>1065</td>\n",
              "    </tr>\n",
              "    <tr>\n",
              "      <th>1</th>\n",
              "      <td>1</td>\n",
              "      <td>13.20</td>\n",
              "      <td>1.78</td>\n",
              "      <td>2.14</td>\n",
              "      <td>11.2</td>\n",
              "      <td>100</td>\n",
              "      <td>2.65</td>\n",
              "      <td>2.76</td>\n",
              "      <td>0.26</td>\n",
              "      <td>1.28</td>\n",
              "      <td>4.38</td>\n",
              "      <td>1.05</td>\n",
              "      <td>3.40</td>\n",
              "      <td>1050</td>\n",
              "    </tr>\n",
              "    <tr>\n",
              "      <th>2</th>\n",
              "      <td>1</td>\n",
              "      <td>13.16</td>\n",
              "      <td>2.36</td>\n",
              "      <td>2.67</td>\n",
              "      <td>18.6</td>\n",
              "      <td>101</td>\n",
              "      <td>2.80</td>\n",
              "      <td>3.24</td>\n",
              "      <td>0.30</td>\n",
              "      <td>2.81</td>\n",
              "      <td>5.68</td>\n",
              "      <td>1.03</td>\n",
              "      <td>3.17</td>\n",
              "      <td>1185</td>\n",
              "    </tr>\n",
              "    <tr>\n",
              "      <th>3</th>\n",
              "      <td>1</td>\n",
              "      <td>14.37</td>\n",
              "      <td>1.95</td>\n",
              "      <td>2.50</td>\n",
              "      <td>16.8</td>\n",
              "      <td>113</td>\n",
              "      <td>3.85</td>\n",
              "      <td>3.49</td>\n",
              "      <td>0.24</td>\n",
              "      <td>2.18</td>\n",
              "      <td>7.80</td>\n",
              "      <td>0.86</td>\n",
              "      <td>3.45</td>\n",
              "      <td>1480</td>\n",
              "    </tr>\n",
              "    <tr>\n",
              "      <th>4</th>\n",
              "      <td>1</td>\n",
              "      <td>13.24</td>\n",
              "      <td>2.59</td>\n",
              "      <td>2.87</td>\n",
              "      <td>21.0</td>\n",
              "      <td>118</td>\n",
              "      <td>2.80</td>\n",
              "      <td>2.69</td>\n",
              "      <td>0.39</td>\n",
              "      <td>1.82</td>\n",
              "      <td>4.32</td>\n",
              "      <td>1.04</td>\n",
              "      <td>2.93</td>\n",
              "      <td>735</td>\n",
              "    </tr>\n",
              "  </tbody>\n",
              "</table>\n",
              "</div>\n",
              "    <div class=\"colab-df-buttons\">\n",
              "\n",
              "  <div class=\"colab-df-container\">\n",
              "    <button class=\"colab-df-convert\" onclick=\"convertToInteractive('df-2e3dc423-c36d-4856-8c77-5263e32fd5e5')\"\n",
              "            title=\"Convert this dataframe to an interactive table.\"\n",
              "            style=\"display:none;\">\n",
              "\n",
              "  <svg xmlns=\"http://www.w3.org/2000/svg\" height=\"24px\" viewBox=\"0 -960 960 960\">\n",
              "    <path d=\"M120-120v-720h720v720H120Zm60-500h600v-160H180v160Zm220 220h160v-160H400v160Zm0 220h160v-160H400v160ZM180-400h160v-160H180v160Zm440 0h160v-160H620v160ZM180-180h160v-160H180v160Zm440 0h160v-160H620v160Z\"/>\n",
              "  </svg>\n",
              "    </button>\n",
              "\n",
              "  <style>\n",
              "    .colab-df-container {\n",
              "      display:flex;\n",
              "      gap: 12px;\n",
              "    }\n",
              "\n",
              "    .colab-df-convert {\n",
              "      background-color: #E8F0FE;\n",
              "      border: none;\n",
              "      border-radius: 50%;\n",
              "      cursor: pointer;\n",
              "      display: none;\n",
              "      fill: #1967D2;\n",
              "      height: 32px;\n",
              "      padding: 0 0 0 0;\n",
              "      width: 32px;\n",
              "    }\n",
              "\n",
              "    .colab-df-convert:hover {\n",
              "      background-color: #E2EBFA;\n",
              "      box-shadow: 0px 1px 2px rgba(60, 64, 67, 0.3), 0px 1px 3px 1px rgba(60, 64, 67, 0.15);\n",
              "      fill: #174EA6;\n",
              "    }\n",
              "\n",
              "    .colab-df-buttons div {\n",
              "      margin-bottom: 4px;\n",
              "    }\n",
              "\n",
              "    [theme=dark] .colab-df-convert {\n",
              "      background-color: #3B4455;\n",
              "      fill: #D2E3FC;\n",
              "    }\n",
              "\n",
              "    [theme=dark] .colab-df-convert:hover {\n",
              "      background-color: #434B5C;\n",
              "      box-shadow: 0px 1px 3px 1px rgba(0, 0, 0, 0.15);\n",
              "      filter: drop-shadow(0px 1px 2px rgba(0, 0, 0, 0.3));\n",
              "      fill: #FFFFFF;\n",
              "    }\n",
              "  </style>\n",
              "\n",
              "    <script>\n",
              "      const buttonEl =\n",
              "        document.querySelector('#df-2e3dc423-c36d-4856-8c77-5263e32fd5e5 button.colab-df-convert');\n",
              "      buttonEl.style.display =\n",
              "        google.colab.kernel.accessAllowed ? 'block' : 'none';\n",
              "\n",
              "      async function convertToInteractive(key) {\n",
              "        const element = document.querySelector('#df-2e3dc423-c36d-4856-8c77-5263e32fd5e5');\n",
              "        const dataTable =\n",
              "          await google.colab.kernel.invokeFunction('convertToInteractive',\n",
              "                                                    [key], {});\n",
              "        if (!dataTable) return;\n",
              "\n",
              "        const docLinkHtml = 'Like what you see? Visit the ' +\n",
              "          '<a target=\"_blank\" href=https://colab.research.google.com/notebooks/data_table.ipynb>data table notebook</a>'\n",
              "          + ' to learn more about interactive tables.';\n",
              "        element.innerHTML = '';\n",
              "        dataTable['output_type'] = 'display_data';\n",
              "        await google.colab.output.renderOutput(dataTable, element);\n",
              "        const docLink = document.createElement('div');\n",
              "        docLink.innerHTML = docLinkHtml;\n",
              "        element.appendChild(docLink);\n",
              "      }\n",
              "    </script>\n",
              "  </div>\n",
              "\n",
              "\n",
              "<div id=\"df-ac54b999-c39f-40b2-8dc6-4f1c92b67804\">\n",
              "  <button class=\"colab-df-quickchart\" onclick=\"quickchart('df-ac54b999-c39f-40b2-8dc6-4f1c92b67804')\"\n",
              "            title=\"Suggest charts\"\n",
              "            style=\"display:none;\">\n",
              "\n",
              "<svg xmlns=\"http://www.w3.org/2000/svg\" height=\"24px\"viewBox=\"0 0 24 24\"\n",
              "     width=\"24px\">\n",
              "    <g>\n",
              "        <path d=\"M19 3H5c-1.1 0-2 .9-2 2v14c0 1.1.9 2 2 2h14c1.1 0 2-.9 2-2V5c0-1.1-.9-2-2-2zM9 17H7v-7h2v7zm4 0h-2V7h2v10zm4 0h-2v-4h2v4z\"/>\n",
              "    </g>\n",
              "</svg>\n",
              "  </button>\n",
              "\n",
              "<style>\n",
              "  .colab-df-quickchart {\n",
              "      --bg-color: #E8F0FE;\n",
              "      --fill-color: #1967D2;\n",
              "      --hover-bg-color: #E2EBFA;\n",
              "      --hover-fill-color: #174EA6;\n",
              "      --disabled-fill-color: #AAA;\n",
              "      --disabled-bg-color: #DDD;\n",
              "  }\n",
              "\n",
              "  [theme=dark] .colab-df-quickchart {\n",
              "      --bg-color: #3B4455;\n",
              "      --fill-color: #D2E3FC;\n",
              "      --hover-bg-color: #434B5C;\n",
              "      --hover-fill-color: #FFFFFF;\n",
              "      --disabled-bg-color: #3B4455;\n",
              "      --disabled-fill-color: #666;\n",
              "  }\n",
              "\n",
              "  .colab-df-quickchart {\n",
              "    background-color: var(--bg-color);\n",
              "    border: none;\n",
              "    border-radius: 50%;\n",
              "    cursor: pointer;\n",
              "    display: none;\n",
              "    fill: var(--fill-color);\n",
              "    height: 32px;\n",
              "    padding: 0;\n",
              "    width: 32px;\n",
              "  }\n",
              "\n",
              "  .colab-df-quickchart:hover {\n",
              "    background-color: var(--hover-bg-color);\n",
              "    box-shadow: 0 1px 2px rgba(60, 64, 67, 0.3), 0 1px 3px 1px rgba(60, 64, 67, 0.15);\n",
              "    fill: var(--button-hover-fill-color);\n",
              "  }\n",
              "\n",
              "  .colab-df-quickchart-complete:disabled,\n",
              "  .colab-df-quickchart-complete:disabled:hover {\n",
              "    background-color: var(--disabled-bg-color);\n",
              "    fill: var(--disabled-fill-color);\n",
              "    box-shadow: none;\n",
              "  }\n",
              "\n",
              "  .colab-df-spinner {\n",
              "    border: 2px solid var(--fill-color);\n",
              "    border-color: transparent;\n",
              "    border-bottom-color: var(--fill-color);\n",
              "    animation:\n",
              "      spin 1s steps(1) infinite;\n",
              "  }\n",
              "\n",
              "  @keyframes spin {\n",
              "    0% {\n",
              "      border-color: transparent;\n",
              "      border-bottom-color: var(--fill-color);\n",
              "      border-left-color: var(--fill-color);\n",
              "    }\n",
              "    20% {\n",
              "      border-color: transparent;\n",
              "      border-left-color: var(--fill-color);\n",
              "      border-top-color: var(--fill-color);\n",
              "    }\n",
              "    30% {\n",
              "      border-color: transparent;\n",
              "      border-left-color: var(--fill-color);\n",
              "      border-top-color: var(--fill-color);\n",
              "      border-right-color: var(--fill-color);\n",
              "    }\n",
              "    40% {\n",
              "      border-color: transparent;\n",
              "      border-right-color: var(--fill-color);\n",
              "      border-top-color: var(--fill-color);\n",
              "    }\n",
              "    60% {\n",
              "      border-color: transparent;\n",
              "      border-right-color: var(--fill-color);\n",
              "    }\n",
              "    80% {\n",
              "      border-color: transparent;\n",
              "      border-right-color: var(--fill-color);\n",
              "      border-bottom-color: var(--fill-color);\n",
              "    }\n",
              "    90% {\n",
              "      border-color: transparent;\n",
              "      border-bottom-color: var(--fill-color);\n",
              "    }\n",
              "  }\n",
              "</style>\n",
              "\n",
              "  <script>\n",
              "    async function quickchart(key) {\n",
              "      const quickchartButtonEl =\n",
              "        document.querySelector('#' + key + ' button');\n",
              "      quickchartButtonEl.disabled = true;  // To prevent multiple clicks.\n",
              "      quickchartButtonEl.classList.add('colab-df-spinner');\n",
              "      try {\n",
              "        const charts = await google.colab.kernel.invokeFunction(\n",
              "            'suggestCharts', [key], {});\n",
              "      } catch (error) {\n",
              "        console.error('Error during call to suggestCharts:', error);\n",
              "      }\n",
              "      quickchartButtonEl.classList.remove('colab-df-spinner');\n",
              "      quickchartButtonEl.classList.add('colab-df-quickchart-complete');\n",
              "    }\n",
              "    (() => {\n",
              "      let quickchartButtonEl =\n",
              "        document.querySelector('#df-ac54b999-c39f-40b2-8dc6-4f1c92b67804 button');\n",
              "      quickchartButtonEl.style.display =\n",
              "        google.colab.kernel.accessAllowed ? 'block' : 'none';\n",
              "    })();\n",
              "  </script>\n",
              "</div>\n",
              "    </div>\n",
              "  </div>\n"
            ]
          },
          "metadata": {},
          "execution_count": 144
        }
      ]
    },
    {
      "cell_type": "code",
      "source": [
        "wines.tail()"
      ],
      "metadata": {
        "id": "9nAIKxQBEBgS",
        "colab": {
          "base_uri": "https://localhost:8080/",
          "height": 261
        },
        "outputId": "61835141-c3df-466b-bd60-c2316f6f7c47"
      },
      "execution_count": 145,
      "outputs": [
        {
          "output_type": "execute_result",
          "data": {
            "text/plain": [
              "     Class  Alcohol  Malic acid   Ash  Alcalinity of ash  Magnesium  \\\n",
              "173      3    13.71        5.65  2.45               20.5         95   \n",
              "174      3    13.40        3.91  2.48               23.0        102   \n",
              "175      3    13.27        4.28  2.26               20.0        120   \n",
              "176      3    13.17        2.59  2.37               20.0        120   \n",
              "177      3    14.13        4.10  2.74               24.5         96   \n",
              "\n",
              "     Total phenols  Flavanoids  Nonflavanoid phenols  Proanthocyanins  \\\n",
              "173           1.68        0.61                  0.52             1.06   \n",
              "174           1.80        0.75                  0.43             1.41   \n",
              "175           1.59        0.69                  0.43             1.35   \n",
              "176           1.65        0.68                  0.53             1.46   \n",
              "177           2.05        0.76                  0.56             1.35   \n",
              "\n",
              "     Color intensity   Hue  OD280/OD315 of diluted wines  Proline  \n",
              "173              7.7  0.64                          1.74      740  \n",
              "174              7.3  0.70                          1.56      750  \n",
              "175             10.2  0.59                          1.56      835  \n",
              "176              9.3  0.60                          1.62      840  \n",
              "177              9.2  0.61                          1.60      560  "
            ],
            "text/html": [
              "\n",
              "  <div id=\"df-296047cf-d1a8-4411-a533-b95a24226cd7\" class=\"colab-df-container\">\n",
              "    <div>\n",
              "<style scoped>\n",
              "    .dataframe tbody tr th:only-of-type {\n",
              "        vertical-align: middle;\n",
              "    }\n",
              "\n",
              "    .dataframe tbody tr th {\n",
              "        vertical-align: top;\n",
              "    }\n",
              "\n",
              "    .dataframe thead th {\n",
              "        text-align: right;\n",
              "    }\n",
              "</style>\n",
              "<table border=\"1\" class=\"dataframe\">\n",
              "  <thead>\n",
              "    <tr style=\"text-align: right;\">\n",
              "      <th></th>\n",
              "      <th>Class</th>\n",
              "      <th>Alcohol</th>\n",
              "      <th>Malic acid</th>\n",
              "      <th>Ash</th>\n",
              "      <th>Alcalinity of ash</th>\n",
              "      <th>Magnesium</th>\n",
              "      <th>Total phenols</th>\n",
              "      <th>Flavanoids</th>\n",
              "      <th>Nonflavanoid phenols</th>\n",
              "      <th>Proanthocyanins</th>\n",
              "      <th>Color intensity</th>\n",
              "      <th>Hue</th>\n",
              "      <th>OD280/OD315 of diluted wines</th>\n",
              "      <th>Proline</th>\n",
              "    </tr>\n",
              "  </thead>\n",
              "  <tbody>\n",
              "    <tr>\n",
              "      <th>173</th>\n",
              "      <td>3</td>\n",
              "      <td>13.71</td>\n",
              "      <td>5.65</td>\n",
              "      <td>2.45</td>\n",
              "      <td>20.5</td>\n",
              "      <td>95</td>\n",
              "      <td>1.68</td>\n",
              "      <td>0.61</td>\n",
              "      <td>0.52</td>\n",
              "      <td>1.06</td>\n",
              "      <td>7.7</td>\n",
              "      <td>0.64</td>\n",
              "      <td>1.74</td>\n",
              "      <td>740</td>\n",
              "    </tr>\n",
              "    <tr>\n",
              "      <th>174</th>\n",
              "      <td>3</td>\n",
              "      <td>13.40</td>\n",
              "      <td>3.91</td>\n",
              "      <td>2.48</td>\n",
              "      <td>23.0</td>\n",
              "      <td>102</td>\n",
              "      <td>1.80</td>\n",
              "      <td>0.75</td>\n",
              "      <td>0.43</td>\n",
              "      <td>1.41</td>\n",
              "      <td>7.3</td>\n",
              "      <td>0.70</td>\n",
              "      <td>1.56</td>\n",
              "      <td>750</td>\n",
              "    </tr>\n",
              "    <tr>\n",
              "      <th>175</th>\n",
              "      <td>3</td>\n",
              "      <td>13.27</td>\n",
              "      <td>4.28</td>\n",
              "      <td>2.26</td>\n",
              "      <td>20.0</td>\n",
              "      <td>120</td>\n",
              "      <td>1.59</td>\n",
              "      <td>0.69</td>\n",
              "      <td>0.43</td>\n",
              "      <td>1.35</td>\n",
              "      <td>10.2</td>\n",
              "      <td>0.59</td>\n",
              "      <td>1.56</td>\n",
              "      <td>835</td>\n",
              "    </tr>\n",
              "    <tr>\n",
              "      <th>176</th>\n",
              "      <td>3</td>\n",
              "      <td>13.17</td>\n",
              "      <td>2.59</td>\n",
              "      <td>2.37</td>\n",
              "      <td>20.0</td>\n",
              "      <td>120</td>\n",
              "      <td>1.65</td>\n",
              "      <td>0.68</td>\n",
              "      <td>0.53</td>\n",
              "      <td>1.46</td>\n",
              "      <td>9.3</td>\n",
              "      <td>0.60</td>\n",
              "      <td>1.62</td>\n",
              "      <td>840</td>\n",
              "    </tr>\n",
              "    <tr>\n",
              "      <th>177</th>\n",
              "      <td>3</td>\n",
              "      <td>14.13</td>\n",
              "      <td>4.10</td>\n",
              "      <td>2.74</td>\n",
              "      <td>24.5</td>\n",
              "      <td>96</td>\n",
              "      <td>2.05</td>\n",
              "      <td>0.76</td>\n",
              "      <td>0.56</td>\n",
              "      <td>1.35</td>\n",
              "      <td>9.2</td>\n",
              "      <td>0.61</td>\n",
              "      <td>1.60</td>\n",
              "      <td>560</td>\n",
              "    </tr>\n",
              "  </tbody>\n",
              "</table>\n",
              "</div>\n",
              "    <div class=\"colab-df-buttons\">\n",
              "\n",
              "  <div class=\"colab-df-container\">\n",
              "    <button class=\"colab-df-convert\" onclick=\"convertToInteractive('df-296047cf-d1a8-4411-a533-b95a24226cd7')\"\n",
              "            title=\"Convert this dataframe to an interactive table.\"\n",
              "            style=\"display:none;\">\n",
              "\n",
              "  <svg xmlns=\"http://www.w3.org/2000/svg\" height=\"24px\" viewBox=\"0 -960 960 960\">\n",
              "    <path d=\"M120-120v-720h720v720H120Zm60-500h600v-160H180v160Zm220 220h160v-160H400v160Zm0 220h160v-160H400v160ZM180-400h160v-160H180v160Zm440 0h160v-160H620v160ZM180-180h160v-160H180v160Zm440 0h160v-160H620v160Z\"/>\n",
              "  </svg>\n",
              "    </button>\n",
              "\n",
              "  <style>\n",
              "    .colab-df-container {\n",
              "      display:flex;\n",
              "      gap: 12px;\n",
              "    }\n",
              "\n",
              "    .colab-df-convert {\n",
              "      background-color: #E8F0FE;\n",
              "      border: none;\n",
              "      border-radius: 50%;\n",
              "      cursor: pointer;\n",
              "      display: none;\n",
              "      fill: #1967D2;\n",
              "      height: 32px;\n",
              "      padding: 0 0 0 0;\n",
              "      width: 32px;\n",
              "    }\n",
              "\n",
              "    .colab-df-convert:hover {\n",
              "      background-color: #E2EBFA;\n",
              "      box-shadow: 0px 1px 2px rgba(60, 64, 67, 0.3), 0px 1px 3px 1px rgba(60, 64, 67, 0.15);\n",
              "      fill: #174EA6;\n",
              "    }\n",
              "\n",
              "    .colab-df-buttons div {\n",
              "      margin-bottom: 4px;\n",
              "    }\n",
              "\n",
              "    [theme=dark] .colab-df-convert {\n",
              "      background-color: #3B4455;\n",
              "      fill: #D2E3FC;\n",
              "    }\n",
              "\n",
              "    [theme=dark] .colab-df-convert:hover {\n",
              "      background-color: #434B5C;\n",
              "      box-shadow: 0px 1px 3px 1px rgba(0, 0, 0, 0.15);\n",
              "      filter: drop-shadow(0px 1px 2px rgba(0, 0, 0, 0.3));\n",
              "      fill: #FFFFFF;\n",
              "    }\n",
              "  </style>\n",
              "\n",
              "    <script>\n",
              "      const buttonEl =\n",
              "        document.querySelector('#df-296047cf-d1a8-4411-a533-b95a24226cd7 button.colab-df-convert');\n",
              "      buttonEl.style.display =\n",
              "        google.colab.kernel.accessAllowed ? 'block' : 'none';\n",
              "\n",
              "      async function convertToInteractive(key) {\n",
              "        const element = document.querySelector('#df-296047cf-d1a8-4411-a533-b95a24226cd7');\n",
              "        const dataTable =\n",
              "          await google.colab.kernel.invokeFunction('convertToInteractive',\n",
              "                                                    [key], {});\n",
              "        if (!dataTable) return;\n",
              "\n",
              "        const docLinkHtml = 'Like what you see? Visit the ' +\n",
              "          '<a target=\"_blank\" href=https://colab.research.google.com/notebooks/data_table.ipynb>data table notebook</a>'\n",
              "          + ' to learn more about interactive tables.';\n",
              "        element.innerHTML = '';\n",
              "        dataTable['output_type'] = 'display_data';\n",
              "        await google.colab.output.renderOutput(dataTable, element);\n",
              "        const docLink = document.createElement('div');\n",
              "        docLink.innerHTML = docLinkHtml;\n",
              "        element.appendChild(docLink);\n",
              "      }\n",
              "    </script>\n",
              "  </div>\n",
              "\n",
              "\n",
              "<div id=\"df-b8ba4a90-78bc-4cbe-af12-947386edac1f\">\n",
              "  <button class=\"colab-df-quickchart\" onclick=\"quickchart('df-b8ba4a90-78bc-4cbe-af12-947386edac1f')\"\n",
              "            title=\"Suggest charts\"\n",
              "            style=\"display:none;\">\n",
              "\n",
              "<svg xmlns=\"http://www.w3.org/2000/svg\" height=\"24px\"viewBox=\"0 0 24 24\"\n",
              "     width=\"24px\">\n",
              "    <g>\n",
              "        <path d=\"M19 3H5c-1.1 0-2 .9-2 2v14c0 1.1.9 2 2 2h14c1.1 0 2-.9 2-2V5c0-1.1-.9-2-2-2zM9 17H7v-7h2v7zm4 0h-2V7h2v10zm4 0h-2v-4h2v4z\"/>\n",
              "    </g>\n",
              "</svg>\n",
              "  </button>\n",
              "\n",
              "<style>\n",
              "  .colab-df-quickchart {\n",
              "      --bg-color: #E8F0FE;\n",
              "      --fill-color: #1967D2;\n",
              "      --hover-bg-color: #E2EBFA;\n",
              "      --hover-fill-color: #174EA6;\n",
              "      --disabled-fill-color: #AAA;\n",
              "      --disabled-bg-color: #DDD;\n",
              "  }\n",
              "\n",
              "  [theme=dark] .colab-df-quickchart {\n",
              "      --bg-color: #3B4455;\n",
              "      --fill-color: #D2E3FC;\n",
              "      --hover-bg-color: #434B5C;\n",
              "      --hover-fill-color: #FFFFFF;\n",
              "      --disabled-bg-color: #3B4455;\n",
              "      --disabled-fill-color: #666;\n",
              "  }\n",
              "\n",
              "  .colab-df-quickchart {\n",
              "    background-color: var(--bg-color);\n",
              "    border: none;\n",
              "    border-radius: 50%;\n",
              "    cursor: pointer;\n",
              "    display: none;\n",
              "    fill: var(--fill-color);\n",
              "    height: 32px;\n",
              "    padding: 0;\n",
              "    width: 32px;\n",
              "  }\n",
              "\n",
              "  .colab-df-quickchart:hover {\n",
              "    background-color: var(--hover-bg-color);\n",
              "    box-shadow: 0 1px 2px rgba(60, 64, 67, 0.3), 0 1px 3px 1px rgba(60, 64, 67, 0.15);\n",
              "    fill: var(--button-hover-fill-color);\n",
              "  }\n",
              "\n",
              "  .colab-df-quickchart-complete:disabled,\n",
              "  .colab-df-quickchart-complete:disabled:hover {\n",
              "    background-color: var(--disabled-bg-color);\n",
              "    fill: var(--disabled-fill-color);\n",
              "    box-shadow: none;\n",
              "  }\n",
              "\n",
              "  .colab-df-spinner {\n",
              "    border: 2px solid var(--fill-color);\n",
              "    border-color: transparent;\n",
              "    border-bottom-color: var(--fill-color);\n",
              "    animation:\n",
              "      spin 1s steps(1) infinite;\n",
              "  }\n",
              "\n",
              "  @keyframes spin {\n",
              "    0% {\n",
              "      border-color: transparent;\n",
              "      border-bottom-color: var(--fill-color);\n",
              "      border-left-color: var(--fill-color);\n",
              "    }\n",
              "    20% {\n",
              "      border-color: transparent;\n",
              "      border-left-color: var(--fill-color);\n",
              "      border-top-color: var(--fill-color);\n",
              "    }\n",
              "    30% {\n",
              "      border-color: transparent;\n",
              "      border-left-color: var(--fill-color);\n",
              "      border-top-color: var(--fill-color);\n",
              "      border-right-color: var(--fill-color);\n",
              "    }\n",
              "    40% {\n",
              "      border-color: transparent;\n",
              "      border-right-color: var(--fill-color);\n",
              "      border-top-color: var(--fill-color);\n",
              "    }\n",
              "    60% {\n",
              "      border-color: transparent;\n",
              "      border-right-color: var(--fill-color);\n",
              "    }\n",
              "    80% {\n",
              "      border-color: transparent;\n",
              "      border-right-color: var(--fill-color);\n",
              "      border-bottom-color: var(--fill-color);\n",
              "    }\n",
              "    90% {\n",
              "      border-color: transparent;\n",
              "      border-bottom-color: var(--fill-color);\n",
              "    }\n",
              "  }\n",
              "</style>\n",
              "\n",
              "  <script>\n",
              "    async function quickchart(key) {\n",
              "      const quickchartButtonEl =\n",
              "        document.querySelector('#' + key + ' button');\n",
              "      quickchartButtonEl.disabled = true;  // To prevent multiple clicks.\n",
              "      quickchartButtonEl.classList.add('colab-df-spinner');\n",
              "      try {\n",
              "        const charts = await google.colab.kernel.invokeFunction(\n",
              "            'suggestCharts', [key], {});\n",
              "      } catch (error) {\n",
              "        console.error('Error during call to suggestCharts:', error);\n",
              "      }\n",
              "      quickchartButtonEl.classList.remove('colab-df-spinner');\n",
              "      quickchartButtonEl.classList.add('colab-df-quickchart-complete');\n",
              "    }\n",
              "    (() => {\n",
              "      let quickchartButtonEl =\n",
              "        document.querySelector('#df-b8ba4a90-78bc-4cbe-af12-947386edac1f button');\n",
              "      quickchartButtonEl.style.display =\n",
              "        google.colab.kernel.accessAllowed ? 'block' : 'none';\n",
              "    })();\n",
              "  </script>\n",
              "</div>\n",
              "    </div>\n",
              "  </div>\n"
            ]
          },
          "metadata": {},
          "execution_count": 145
        }
      ]
    },
    {
      "cell_type": "markdown",
      "source": [
        "En head y tail no observamos anomalías ..."
      ],
      "metadata": {
        "id": "iP1gi394FaKh"
      }
    },
    {
      "cell_type": "code",
      "source": [
        "wines.info()"
      ],
      "metadata": {
        "id": "BI3YsA6zFdtr",
        "colab": {
          "base_uri": "https://localhost:8080/"
        },
        "outputId": "40f0c918-8c87-456d-91ed-99d523e5de51"
      },
      "execution_count": 146,
      "outputs": [
        {
          "output_type": "stream",
          "name": "stdout",
          "text": [
            "<class 'pandas.core.frame.DataFrame'>\n",
            "RangeIndex: 178 entries, 0 to 177\n",
            "Data columns (total 14 columns):\n",
            " #   Column                        Non-Null Count  Dtype  \n",
            "---  ------                        --------------  -----  \n",
            " 0   Class                         178 non-null    int64  \n",
            " 1   Alcohol                       178 non-null    float64\n",
            " 2   Malic acid                    178 non-null    float64\n",
            " 3   Ash                           178 non-null    float64\n",
            " 4   Alcalinity of ash             178 non-null    float64\n",
            " 5   Magnesium                     178 non-null    int64  \n",
            " 6   Total phenols                 178 non-null    float64\n",
            " 7   Flavanoids                    178 non-null    float64\n",
            " 8   Nonflavanoid phenols          178 non-null    float64\n",
            " 9   Proanthocyanins               178 non-null    float64\n",
            " 10  Color intensity               178 non-null    float64\n",
            " 11  Hue                           178 non-null    float64\n",
            " 12  OD280/OD315 of diluted wines  178 non-null    float64\n",
            " 13  Proline                       178 non-null    int64  \n",
            "dtypes: float64(11), int64(3)\n",
            "memory usage: 19.6 KB\n"
          ]
        }
      ]
    },
    {
      "cell_type": "markdown",
      "source": [
        "... tampoco hay valores nulos en ninguna columna, y todos los datos son de tipo numérico ..."
      ],
      "metadata": {
        "id": "DNYjxDPkF3zN"
      }
    },
    {
      "cell_type": "code",
      "source": [
        "wines.duplicated().sum()"
      ],
      "metadata": {
        "colab": {
          "base_uri": "https://localhost:8080/"
        },
        "id": "kZsRHzu5Fldg",
        "outputId": "dbe327ee-e499-48d5-b724-44ce1667766e"
      },
      "execution_count": 147,
      "outputs": [
        {
          "output_type": "execute_result",
          "data": {
            "text/plain": [
              "0"
            ]
          },
          "metadata": {},
          "execution_count": 147
        }
      ]
    },
    {
      "cell_type": "markdown",
      "source": [
        "No hay filas duplicadas."
      ],
      "metadata": {
        "id": "6zdOFsHfG6Kb"
      }
    },
    {
      "cell_type": "code",
      "source": [
        "wines.describe()"
      ],
      "metadata": {
        "id": "we26mDKHH1TU",
        "colab": {
          "base_uri": "https://localhost:8080/",
          "height": 355
        },
        "outputId": "57bd4a64-edd9-4cb5-c5b4-edbcb82741d5"
      },
      "execution_count": 148,
      "outputs": [
        {
          "output_type": "execute_result",
          "data": {
            "text/plain": [
              "            Class     Alcohol  Malic acid         Ash  Alcalinity of ash  \\\n",
              "count  178.000000  178.000000  178.000000  178.000000         178.000000   \n",
              "mean     1.938202   13.000618    2.336348    2.366517          19.494944   \n",
              "std      0.775035    0.811827    1.117146    0.274344           3.339564   \n",
              "min      1.000000   11.030000    0.740000    1.360000          10.600000   \n",
              "25%      1.000000   12.362500    1.602500    2.210000          17.200000   \n",
              "50%      2.000000   13.050000    1.865000    2.360000          19.500000   \n",
              "75%      3.000000   13.677500    3.082500    2.557500          21.500000   \n",
              "max      3.000000   14.830000    5.800000    3.230000          30.000000   \n",
              "\n",
              "        Magnesium  Total phenols  Flavanoids  Nonflavanoid phenols  \\\n",
              "count  178.000000     178.000000  178.000000            178.000000   \n",
              "mean    99.741573       2.295112    2.029270              0.361854   \n",
              "std     14.282484       0.625851    0.998859              0.124453   \n",
              "min     70.000000       0.980000    0.340000              0.130000   \n",
              "25%     88.000000       1.742500    1.205000              0.270000   \n",
              "50%     98.000000       2.355000    2.135000              0.340000   \n",
              "75%    107.000000       2.800000    2.875000              0.437500   \n",
              "max    162.000000       3.880000    5.080000              0.660000   \n",
              "\n",
              "       Proanthocyanins  Color intensity         Hue  \\\n",
              "count       178.000000       178.000000  178.000000   \n",
              "mean          1.590899         5.058090    0.957449   \n",
              "std           0.572359         2.318286    0.228572   \n",
              "min           0.410000         1.280000    0.480000   \n",
              "25%           1.250000         3.220000    0.782500   \n",
              "50%           1.555000         4.690000    0.965000   \n",
              "75%           1.950000         6.200000    1.120000   \n",
              "max           3.580000        13.000000    1.710000   \n",
              "\n",
              "       OD280/OD315 of diluted wines      Proline  \n",
              "count                    178.000000   178.000000  \n",
              "mean                       2.611685   746.893258  \n",
              "std                        0.709990   314.907474  \n",
              "min                        1.270000   278.000000  \n",
              "25%                        1.937500   500.500000  \n",
              "50%                        2.780000   673.500000  \n",
              "75%                        3.170000   985.000000  \n",
              "max                        4.000000  1680.000000  "
            ],
            "text/html": [
              "\n",
              "  <div id=\"df-10a73636-b2d2-4f5e-bc6d-1318e85fd445\" class=\"colab-df-container\">\n",
              "    <div>\n",
              "<style scoped>\n",
              "    .dataframe tbody tr th:only-of-type {\n",
              "        vertical-align: middle;\n",
              "    }\n",
              "\n",
              "    .dataframe tbody tr th {\n",
              "        vertical-align: top;\n",
              "    }\n",
              "\n",
              "    .dataframe thead th {\n",
              "        text-align: right;\n",
              "    }\n",
              "</style>\n",
              "<table border=\"1\" class=\"dataframe\">\n",
              "  <thead>\n",
              "    <tr style=\"text-align: right;\">\n",
              "      <th></th>\n",
              "      <th>Class</th>\n",
              "      <th>Alcohol</th>\n",
              "      <th>Malic acid</th>\n",
              "      <th>Ash</th>\n",
              "      <th>Alcalinity of ash</th>\n",
              "      <th>Magnesium</th>\n",
              "      <th>Total phenols</th>\n",
              "      <th>Flavanoids</th>\n",
              "      <th>Nonflavanoid phenols</th>\n",
              "      <th>Proanthocyanins</th>\n",
              "      <th>Color intensity</th>\n",
              "      <th>Hue</th>\n",
              "      <th>OD280/OD315 of diluted wines</th>\n",
              "      <th>Proline</th>\n",
              "    </tr>\n",
              "  </thead>\n",
              "  <tbody>\n",
              "    <tr>\n",
              "      <th>count</th>\n",
              "      <td>178.000000</td>\n",
              "      <td>178.000000</td>\n",
              "      <td>178.000000</td>\n",
              "      <td>178.000000</td>\n",
              "      <td>178.000000</td>\n",
              "      <td>178.000000</td>\n",
              "      <td>178.000000</td>\n",
              "      <td>178.000000</td>\n",
              "      <td>178.000000</td>\n",
              "      <td>178.000000</td>\n",
              "      <td>178.000000</td>\n",
              "      <td>178.000000</td>\n",
              "      <td>178.000000</td>\n",
              "      <td>178.000000</td>\n",
              "    </tr>\n",
              "    <tr>\n",
              "      <th>mean</th>\n",
              "      <td>1.938202</td>\n",
              "      <td>13.000618</td>\n",
              "      <td>2.336348</td>\n",
              "      <td>2.366517</td>\n",
              "      <td>19.494944</td>\n",
              "      <td>99.741573</td>\n",
              "      <td>2.295112</td>\n",
              "      <td>2.029270</td>\n",
              "      <td>0.361854</td>\n",
              "      <td>1.590899</td>\n",
              "      <td>5.058090</td>\n",
              "      <td>0.957449</td>\n",
              "      <td>2.611685</td>\n",
              "      <td>746.893258</td>\n",
              "    </tr>\n",
              "    <tr>\n",
              "      <th>std</th>\n",
              "      <td>0.775035</td>\n",
              "      <td>0.811827</td>\n",
              "      <td>1.117146</td>\n",
              "      <td>0.274344</td>\n",
              "      <td>3.339564</td>\n",
              "      <td>14.282484</td>\n",
              "      <td>0.625851</td>\n",
              "      <td>0.998859</td>\n",
              "      <td>0.124453</td>\n",
              "      <td>0.572359</td>\n",
              "      <td>2.318286</td>\n",
              "      <td>0.228572</td>\n",
              "      <td>0.709990</td>\n",
              "      <td>314.907474</td>\n",
              "    </tr>\n",
              "    <tr>\n",
              "      <th>min</th>\n",
              "      <td>1.000000</td>\n",
              "      <td>11.030000</td>\n",
              "      <td>0.740000</td>\n",
              "      <td>1.360000</td>\n",
              "      <td>10.600000</td>\n",
              "      <td>70.000000</td>\n",
              "      <td>0.980000</td>\n",
              "      <td>0.340000</td>\n",
              "      <td>0.130000</td>\n",
              "      <td>0.410000</td>\n",
              "      <td>1.280000</td>\n",
              "      <td>0.480000</td>\n",
              "      <td>1.270000</td>\n",
              "      <td>278.000000</td>\n",
              "    </tr>\n",
              "    <tr>\n",
              "      <th>25%</th>\n",
              "      <td>1.000000</td>\n",
              "      <td>12.362500</td>\n",
              "      <td>1.602500</td>\n",
              "      <td>2.210000</td>\n",
              "      <td>17.200000</td>\n",
              "      <td>88.000000</td>\n",
              "      <td>1.742500</td>\n",
              "      <td>1.205000</td>\n",
              "      <td>0.270000</td>\n",
              "      <td>1.250000</td>\n",
              "      <td>3.220000</td>\n",
              "      <td>0.782500</td>\n",
              "      <td>1.937500</td>\n",
              "      <td>500.500000</td>\n",
              "    </tr>\n",
              "    <tr>\n",
              "      <th>50%</th>\n",
              "      <td>2.000000</td>\n",
              "      <td>13.050000</td>\n",
              "      <td>1.865000</td>\n",
              "      <td>2.360000</td>\n",
              "      <td>19.500000</td>\n",
              "      <td>98.000000</td>\n",
              "      <td>2.355000</td>\n",
              "      <td>2.135000</td>\n",
              "      <td>0.340000</td>\n",
              "      <td>1.555000</td>\n",
              "      <td>4.690000</td>\n",
              "      <td>0.965000</td>\n",
              "      <td>2.780000</td>\n",
              "      <td>673.500000</td>\n",
              "    </tr>\n",
              "    <tr>\n",
              "      <th>75%</th>\n",
              "      <td>3.000000</td>\n",
              "      <td>13.677500</td>\n",
              "      <td>3.082500</td>\n",
              "      <td>2.557500</td>\n",
              "      <td>21.500000</td>\n",
              "      <td>107.000000</td>\n",
              "      <td>2.800000</td>\n",
              "      <td>2.875000</td>\n",
              "      <td>0.437500</td>\n",
              "      <td>1.950000</td>\n",
              "      <td>6.200000</td>\n",
              "      <td>1.120000</td>\n",
              "      <td>3.170000</td>\n",
              "      <td>985.000000</td>\n",
              "    </tr>\n",
              "    <tr>\n",
              "      <th>max</th>\n",
              "      <td>3.000000</td>\n",
              "      <td>14.830000</td>\n",
              "      <td>5.800000</td>\n",
              "      <td>3.230000</td>\n",
              "      <td>30.000000</td>\n",
              "      <td>162.000000</td>\n",
              "      <td>3.880000</td>\n",
              "      <td>5.080000</td>\n",
              "      <td>0.660000</td>\n",
              "      <td>3.580000</td>\n",
              "      <td>13.000000</td>\n",
              "      <td>1.710000</td>\n",
              "      <td>4.000000</td>\n",
              "      <td>1680.000000</td>\n",
              "    </tr>\n",
              "  </tbody>\n",
              "</table>\n",
              "</div>\n",
              "    <div class=\"colab-df-buttons\">\n",
              "\n",
              "  <div class=\"colab-df-container\">\n",
              "    <button class=\"colab-df-convert\" onclick=\"convertToInteractive('df-10a73636-b2d2-4f5e-bc6d-1318e85fd445')\"\n",
              "            title=\"Convert this dataframe to an interactive table.\"\n",
              "            style=\"display:none;\">\n",
              "\n",
              "  <svg xmlns=\"http://www.w3.org/2000/svg\" height=\"24px\" viewBox=\"0 -960 960 960\">\n",
              "    <path d=\"M120-120v-720h720v720H120Zm60-500h600v-160H180v160Zm220 220h160v-160H400v160Zm0 220h160v-160H400v160ZM180-400h160v-160H180v160Zm440 0h160v-160H620v160ZM180-180h160v-160H180v160Zm440 0h160v-160H620v160Z\"/>\n",
              "  </svg>\n",
              "    </button>\n",
              "\n",
              "  <style>\n",
              "    .colab-df-container {\n",
              "      display:flex;\n",
              "      gap: 12px;\n",
              "    }\n",
              "\n",
              "    .colab-df-convert {\n",
              "      background-color: #E8F0FE;\n",
              "      border: none;\n",
              "      border-radius: 50%;\n",
              "      cursor: pointer;\n",
              "      display: none;\n",
              "      fill: #1967D2;\n",
              "      height: 32px;\n",
              "      padding: 0 0 0 0;\n",
              "      width: 32px;\n",
              "    }\n",
              "\n",
              "    .colab-df-convert:hover {\n",
              "      background-color: #E2EBFA;\n",
              "      box-shadow: 0px 1px 2px rgba(60, 64, 67, 0.3), 0px 1px 3px 1px rgba(60, 64, 67, 0.15);\n",
              "      fill: #174EA6;\n",
              "    }\n",
              "\n",
              "    .colab-df-buttons div {\n",
              "      margin-bottom: 4px;\n",
              "    }\n",
              "\n",
              "    [theme=dark] .colab-df-convert {\n",
              "      background-color: #3B4455;\n",
              "      fill: #D2E3FC;\n",
              "    }\n",
              "\n",
              "    [theme=dark] .colab-df-convert:hover {\n",
              "      background-color: #434B5C;\n",
              "      box-shadow: 0px 1px 3px 1px rgba(0, 0, 0, 0.15);\n",
              "      filter: drop-shadow(0px 1px 2px rgba(0, 0, 0, 0.3));\n",
              "      fill: #FFFFFF;\n",
              "    }\n",
              "  </style>\n",
              "\n",
              "    <script>\n",
              "      const buttonEl =\n",
              "        document.querySelector('#df-10a73636-b2d2-4f5e-bc6d-1318e85fd445 button.colab-df-convert');\n",
              "      buttonEl.style.display =\n",
              "        google.colab.kernel.accessAllowed ? 'block' : 'none';\n",
              "\n",
              "      async function convertToInteractive(key) {\n",
              "        const element = document.querySelector('#df-10a73636-b2d2-4f5e-bc6d-1318e85fd445');\n",
              "        const dataTable =\n",
              "          await google.colab.kernel.invokeFunction('convertToInteractive',\n",
              "                                                    [key], {});\n",
              "        if (!dataTable) return;\n",
              "\n",
              "        const docLinkHtml = 'Like what you see? Visit the ' +\n",
              "          '<a target=\"_blank\" href=https://colab.research.google.com/notebooks/data_table.ipynb>data table notebook</a>'\n",
              "          + ' to learn more about interactive tables.';\n",
              "        element.innerHTML = '';\n",
              "        dataTable['output_type'] = 'display_data';\n",
              "        await google.colab.output.renderOutput(dataTable, element);\n",
              "        const docLink = document.createElement('div');\n",
              "        docLink.innerHTML = docLinkHtml;\n",
              "        element.appendChild(docLink);\n",
              "      }\n",
              "    </script>\n",
              "  </div>\n",
              "\n",
              "\n",
              "<div id=\"df-5c833920-e53b-45d6-8eb5-947af97b74fc\">\n",
              "  <button class=\"colab-df-quickchart\" onclick=\"quickchart('df-5c833920-e53b-45d6-8eb5-947af97b74fc')\"\n",
              "            title=\"Suggest charts\"\n",
              "            style=\"display:none;\">\n",
              "\n",
              "<svg xmlns=\"http://www.w3.org/2000/svg\" height=\"24px\"viewBox=\"0 0 24 24\"\n",
              "     width=\"24px\">\n",
              "    <g>\n",
              "        <path d=\"M19 3H5c-1.1 0-2 .9-2 2v14c0 1.1.9 2 2 2h14c1.1 0 2-.9 2-2V5c0-1.1-.9-2-2-2zM9 17H7v-7h2v7zm4 0h-2V7h2v10zm4 0h-2v-4h2v4z\"/>\n",
              "    </g>\n",
              "</svg>\n",
              "  </button>\n",
              "\n",
              "<style>\n",
              "  .colab-df-quickchart {\n",
              "      --bg-color: #E8F0FE;\n",
              "      --fill-color: #1967D2;\n",
              "      --hover-bg-color: #E2EBFA;\n",
              "      --hover-fill-color: #174EA6;\n",
              "      --disabled-fill-color: #AAA;\n",
              "      --disabled-bg-color: #DDD;\n",
              "  }\n",
              "\n",
              "  [theme=dark] .colab-df-quickchart {\n",
              "      --bg-color: #3B4455;\n",
              "      --fill-color: #D2E3FC;\n",
              "      --hover-bg-color: #434B5C;\n",
              "      --hover-fill-color: #FFFFFF;\n",
              "      --disabled-bg-color: #3B4455;\n",
              "      --disabled-fill-color: #666;\n",
              "  }\n",
              "\n",
              "  .colab-df-quickchart {\n",
              "    background-color: var(--bg-color);\n",
              "    border: none;\n",
              "    border-radius: 50%;\n",
              "    cursor: pointer;\n",
              "    display: none;\n",
              "    fill: var(--fill-color);\n",
              "    height: 32px;\n",
              "    padding: 0;\n",
              "    width: 32px;\n",
              "  }\n",
              "\n",
              "  .colab-df-quickchart:hover {\n",
              "    background-color: var(--hover-bg-color);\n",
              "    box-shadow: 0 1px 2px rgba(60, 64, 67, 0.3), 0 1px 3px 1px rgba(60, 64, 67, 0.15);\n",
              "    fill: var(--button-hover-fill-color);\n",
              "  }\n",
              "\n",
              "  .colab-df-quickchart-complete:disabled,\n",
              "  .colab-df-quickchart-complete:disabled:hover {\n",
              "    background-color: var(--disabled-bg-color);\n",
              "    fill: var(--disabled-fill-color);\n",
              "    box-shadow: none;\n",
              "  }\n",
              "\n",
              "  .colab-df-spinner {\n",
              "    border: 2px solid var(--fill-color);\n",
              "    border-color: transparent;\n",
              "    border-bottom-color: var(--fill-color);\n",
              "    animation:\n",
              "      spin 1s steps(1) infinite;\n",
              "  }\n",
              "\n",
              "  @keyframes spin {\n",
              "    0% {\n",
              "      border-color: transparent;\n",
              "      border-bottom-color: var(--fill-color);\n",
              "      border-left-color: var(--fill-color);\n",
              "    }\n",
              "    20% {\n",
              "      border-color: transparent;\n",
              "      border-left-color: var(--fill-color);\n",
              "      border-top-color: var(--fill-color);\n",
              "    }\n",
              "    30% {\n",
              "      border-color: transparent;\n",
              "      border-left-color: var(--fill-color);\n",
              "      border-top-color: var(--fill-color);\n",
              "      border-right-color: var(--fill-color);\n",
              "    }\n",
              "    40% {\n",
              "      border-color: transparent;\n",
              "      border-right-color: var(--fill-color);\n",
              "      border-top-color: var(--fill-color);\n",
              "    }\n",
              "    60% {\n",
              "      border-color: transparent;\n",
              "      border-right-color: var(--fill-color);\n",
              "    }\n",
              "    80% {\n",
              "      border-color: transparent;\n",
              "      border-right-color: var(--fill-color);\n",
              "      border-bottom-color: var(--fill-color);\n",
              "    }\n",
              "    90% {\n",
              "      border-color: transparent;\n",
              "      border-bottom-color: var(--fill-color);\n",
              "    }\n",
              "  }\n",
              "</style>\n",
              "\n",
              "  <script>\n",
              "    async function quickchart(key) {\n",
              "      const quickchartButtonEl =\n",
              "        document.querySelector('#' + key + ' button');\n",
              "      quickchartButtonEl.disabled = true;  // To prevent multiple clicks.\n",
              "      quickchartButtonEl.classList.add('colab-df-spinner');\n",
              "      try {\n",
              "        const charts = await google.colab.kernel.invokeFunction(\n",
              "            'suggestCharts', [key], {});\n",
              "      } catch (error) {\n",
              "        console.error('Error during call to suggestCharts:', error);\n",
              "      }\n",
              "      quickchartButtonEl.classList.remove('colab-df-spinner');\n",
              "      quickchartButtonEl.classList.add('colab-df-quickchart-complete');\n",
              "    }\n",
              "    (() => {\n",
              "      let quickchartButtonEl =\n",
              "        document.querySelector('#df-5c833920-e53b-45d6-8eb5-947af97b74fc button');\n",
              "      quickchartButtonEl.style.display =\n",
              "        google.colab.kernel.accessAllowed ? 'block' : 'none';\n",
              "    })();\n",
              "  </script>\n",
              "</div>\n",
              "    </div>\n",
              "  </div>\n"
            ]
          },
          "metadata": {},
          "execution_count": 148
        }
      ]
    },
    {
      "cell_type": "markdown",
      "source": [
        "Viendo los parámetros de centralización y dispersión tampoco observamos valores demasiado extremos."
      ],
      "metadata": {
        "id": "iZg7A7WiIyPS"
      }
    },
    {
      "cell_type": "code",
      "source": [
        "import matplotlib.pyplot as plt\n",
        "\n",
        "wines.drop(['Proline', 'Magnesium'], axis=1).boxplot()\n",
        "plt.xticks(rotation=90)\n",
        "plt.show()"
      ],
      "metadata": {
        "id": "YkbiVNuZItbw",
        "colab": {
          "base_uri": "https://localhost:8080/",
          "height": 631
        },
        "outputId": "8391b8a5-4bab-41e2-bada-99edb5d2b370"
      },
      "execution_count": 149,
      "outputs": [
        {
          "output_type": "display_data",
          "data": {
            "text/plain": [
              "<Figure size 640x480 with 1 Axes>"
            ],
            "image/png": "[encoded data removed]"
          },
          "metadata": {}
        }
      ]
    },
    {
      "cell_type": "code",
      "source": [
        "wines[['Proline', 'Magnesium']].boxplot()\n",
        "plt.show()"
      ],
      "metadata": {
        "id": "5o6KfAWuKEc2",
        "colab": {
          "base_uri": "https://localhost:8080/",
          "height": 430
        },
        "outputId": "a6a9b850-2ed6-49b2-ef94-f8957f180975"
      },
      "execution_count": 150,
      "outputs": [
        {
          "output_type": "display_data",
          "data": {
            "text/plain": [
              "<Figure size 640x480 with 1 Axes>"
            ],
            "image/png": "[encoded data removed]"
          },
          "metadata": {}
        }
      ]
    },
    {
      "cell_type": "markdown",
      "source": [
        "Gráficamente comprobamos como sí hay algunos valores extremos, pero de nuevo, no tanto como para tenerlos que descartar (porque puedan significar un error en la recogida de datos)."
      ],
      "metadata": {
        "id": "rl_h8I9_L8vE"
      }
    },
    {
      "cell_type": "markdown",
      "source": [
        "# EX01. Crea almenys dos models de classificació diferents per intentar predir el millor les classes de l'arxiu adjunt."
      ],
      "metadata": {
        "id": "VNl_MyGpq7Hm"
      }
    },
    {
      "cell_type": "markdown",
      "source": [
        "# Modelo 1: árbol de decisión"
      ],
      "metadata": {
        "id": "rwTF76vwk5dc"
      }
    },
    {
      "cell_type": "code",
      "source": [
        "from sklearn.tree import DecisionTreeClassifier\n",
        "from sklearn.model_selection import train_test_split\n",
        "from sklearn import metrics"
      ],
      "metadata": {
        "id": "nwlnc6diN99r"
      },
      "execution_count": 96,
      "outputs": []
    },
    {
      "cell_type": "code",
      "source": [
        "X = wines[caracteristicas].drop('Class', axis=1)\n",
        "y = wines.Class"
      ],
      "metadata": {
        "id": "oy0jHcOxoNXY"
      },
      "execution_count": 97,
      "outputs": []
    },
    {
      "cell_type": "markdown",
      "source": [
        "Separamos el dataframe en las variables independientes X - matriz - (caracteristicas) y la variable dependiente y - vector - (Class)."
      ],
      "metadata": {
        "id": "rZCZ_qZ8sKoO"
      }
    },
    {
      "cell_type": "code",
      "source": [
        "X_train, X_test, y_train, y_test = train_test_split(X, y, test_size=0.3, random_state=1)"
      ],
      "metadata": {
        "id": "5C6pvSHusFyJ"
      },
      "execution_count": 98,
      "outputs": []
    },
    {
      "cell_type": "markdown",
      "source": [
        "Separamos los datos, con una proporción 70 - 30 (entrenamiento - test). Random_state = 1 hace que cada vez que entrenemos los datos se utilicen los mismos para entrenamiento y los mismos para test (podría tomar cualquier otro valor entero positivo)."
      ],
      "metadata": {
        "id": "8ld9VprutWQu"
      }
    },
    {
      "cell_type": "code",
      "source": [
        "clf_tree = DecisionTreeClassifier()\n",
        "clf_tree = clf_tree.fit(X_train, y_train)"
      ],
      "metadata": {
        "id": "H5Y-EhzZtVgb"
      },
      "execution_count": 130,
      "outputs": []
    },
    {
      "cell_type": "markdown",
      "source": [
        "Ajustamos el modelo a los datos de entrenamiento."
      ],
      "metadata": {
        "id": "T3WjTiLquQ8u"
      }
    },
    {
      "cell_type": "code",
      "source": [
        "y_tree = clf_tree.predict(X_test)\n",
        "y_tree"
      ],
      "metadata": {
        "id": "-ZMBRul1vROL",
        "colab": {
          "base_uri": "https://localhost:8080/"
        },
        "outputId": "f5fc164e-ab30-45e3-a34a-bdb22a1380f0"
      },
      "execution_count": 131,
      "outputs": [
        {
          "output_type": "execute_result",
          "data": {
            "text/plain": [
              "array([3, 2, 1, 2, 1, 3, 2, 1, 3, 2, 1, 2, 2, 1, 2, 2, 3, 1, 2, 1, 1, 2,\n",
              "       3, 1, 1, 3, 1, 1, 1, 3, 2, 3, 3, 1, 2, 2, 2, 2, 2, 1, 1, 3, 3, 1,\n",
              "       1, 1, 2, 1, 1, 1, 2, 3, 3, 1])"
            ]
          },
          "metadata": {},
          "execution_count": 131
        }
      ]
    },
    {
      "cell_type": "markdown",
      "source": [
        "Obtenemos las predicciones para y de acuerdo con el modelo y los datos de entrenamiento de X. Esto nos servirá después para calcular el nivel de precisión del modelo con respecto de los datos test."
      ],
      "metadata": {
        "id": "27u20bc5vSYH"
      }
    },
    {
      "cell_type": "markdown",
      "source": [
        "# Modelo 2: KNN"
      ],
      "metadata": {
        "id": "PsNqXcFhUg2T"
      }
    },
    {
      "cell_type": "markdown",
      "source": [
        "De manera similar, repetimos el proceso para el *algoritmo de los vecinos cercanos* (KNN), que nos permite inferir la variable dependiente en base a las muestras disponibles más cercanas."
      ],
      "metadata": {
        "id": "n-bHTxeUUopX"
      }
    },
    {
      "cell_type": "code",
      "source": [
        "from sklearn.neighbors import KNeighborsClassifier\n",
        "\n",
        "clf_KNN = KNeighborsClassifier()\n",
        "clf_KNN.fit(X_train, y_train)"
      ],
      "metadata": {
        "colab": {
          "base_uri": "https://localhost:8080/",
          "height": 74
        },
        "id": "rgV1Adf0XVM5",
        "outputId": "e20fada5-fc12-4353-fbe8-b98d6ef0c376"
      },
      "execution_count": 107,
      "outputs": [
        {
          "output_type": "execute_result",
          "data": {
            "text/plain": [
              "KNeighborsClassifier()"
            ],
            "text/html": [
              "<style>#sk-container-id-4 {color: black;background-color: white;}#sk-container-id-4 pre{padding: 0;}#sk-container-id-4 div.sk-toggleable {background-color: white;}#sk-container-id-4 label.sk-toggleable__label {cursor: pointer;display: block;width: 100%;margin-bottom: 0;padding: 0.3em;box-sizing: border-box;text-align: center;}#sk-container-id-4 label.sk-toggleable__label-arrow:before {content: \"▸\";float: left;margin-right: 0.25em;color: #696969;}#sk-container-id-4 label.sk-toggleable__label-arrow:hover:before {color: black;}#sk-container-id-4 div.sk-estimator:hover label.sk-toggleable__label-arrow:before {color: black;}#sk-container-id-4 div.sk-toggleable__content {max-height: 0;max-width: 0;overflow: hidden;text-align: left;background-color: #f0f8ff;}#sk-container-id-4 div.sk-toggleable__content pre {margin: 0.2em;color: black;border-radius: 0.25em;background-color: #f0f8ff;}#sk-container-id-4 input.sk-toggleable__control:checked~div.sk-toggleable__content {max-height: 200px;max-width: 100%;overflow: auto;}#sk-container-id-4 input.sk-toggleable__control:checked~label.sk-toggleable__label-arrow:before {content: \"▾\";}#sk-container-id-4 div.sk-estimator input.sk-toggleable__control:checked~label.sk-toggleable__label {background-color: #d4ebff;}#sk-container-id-4 div.sk-label input.sk-toggleable__control:checked~label.sk-toggleable__label {background-color: #d4ebff;}#sk-container-id-4 input.sk-hidden--visually {border: 0;clip: rect(1px 1px 1px 1px);clip: rect(1px, 1px, 1px, 1px);height: 1px;margin: -1px;overflow: hidden;padding: 0;position: absolute;width: 1px;}#sk-container-id-4 div.sk-estimator {font-family: monospace;background-color: #f0f8ff;border: 1px dotted black;border-radius: 0.25em;box-sizing: border-box;margin-bottom: 0.5em;}#sk-container-id-4 div.sk-estimator:hover {background-color: #d4ebff;}#sk-container-id-4 div.sk-parallel-item::after {content: \"\";width: 100%;border-bottom: 1px solid gray;flex-grow: 1;}#sk-container-id-4 div.sk-label:hover label.sk-toggleable__label {background-color: #d4ebff;}#sk-container-id-4 div.sk-serial::before {content: \"\";position: absolute;border-left: 1px solid gray;box-sizing: border-box;top: 0;bottom: 0;left: 50%;z-index: 0;}#sk-container-id-4 div.sk-serial {display: flex;flex-direction: column;align-items: center;background-color: white;padding-right: 0.2em;padding-left: 0.2em;position: relative;}#sk-container-id-4 div.sk-item {position: relative;z-index: 1;}#sk-container-id-4 div.sk-parallel {display: flex;align-items: stretch;justify-content: center;background-color: white;position: relative;}#sk-container-id-4 div.sk-item::before, #sk-container-id-4 div.sk-parallel-item::before {content: \"\";position: absolute;border-left: 1px solid gray;box-sizing: border-box;top: 0;bottom: 0;left: 50%;z-index: -1;}#sk-container-id-4 div.sk-parallel-item {display: flex;flex-direction: column;z-index: 1;position: relative;background-color: white;}#sk-container-id-4 div.sk-parallel-item:first-child::after {align-self: flex-end;width: 50%;}#sk-container-id-4 div.sk-parallel-item:last-child::after {align-self: flex-start;width: 50%;}#sk-container-id-4 div.sk-parallel-item:only-child::after {width: 0;}#sk-container-id-4 div.sk-dashed-wrapped {border: 1px dashed gray;margin: 0 0.4em 0.5em 0.4em;box-sizing: border-box;padding-bottom: 0.4em;background-color: white;}#sk-container-id-4 div.sk-label label {font-family: monospace;font-weight: bold;display: inline-block;line-height: 1.2em;}#sk-container-id-4 div.sk-label-container {text-align: center;}#sk-container-id-4 div.sk-container {/* jupyter's `normalize.less` sets `[hidden] { display: none; }` but bootstrap.min.css set `[hidden] { display: none !important; }` so we also need the `!important` here to be able to override the default hidden behavior on the sphinx rendered scikit-learn.org. See: https://github.com/scikit-learn/scikit-learn/issues/21755 */display: inline-block !important;position: relative;}#sk-container-id-4 div.sk-text-repr-fallback {display: none;}</style><div id=\"sk-container-id-4\" class=\"sk-top-container\"><div class=\"sk-text-repr-fallback\"><pre>KNeighborsClassifier()</pre><b>In a Jupyter environment, please rerun this cell to show the HTML representation or trust the notebook. <br />On GitHub, the HTML representation is unable to render, please try loading this page with nbviewer.org.</b></div><div class=\"sk-container\" hidden><div class=\"sk-item\"><div class=\"sk-estimator sk-toggleable\"><input class=\"sk-toggleable__control sk-hidden--visually\" id=\"sk-estimator-id-4\" type=\"checkbox\" checked><label for=\"sk-estimator-id-4\" class=\"sk-toggleable__label sk-toggleable__label-arrow\">KNeighborsClassifier</label><div class=\"sk-toggleable__content\"><pre>KNeighborsClassifier()</pre></div></div></div></div></div>"
            ]
          },
          "metadata": {},
          "execution_count": 107
        }
      ]
    },
    {
      "cell_type": "markdown",
      "source": [
        "Ajustamos el modelo KNN a los datos de entrenamiento (X_train e y_train)."
      ],
      "metadata": {
        "id": "sGPvm0-BXnlf"
      }
    },
    {
      "cell_type": "code",
      "source": [
        "y_KNN = clf_KNN.predict(X_test)\n",
        "y_KNN"
      ],
      "metadata": {
        "colab": {
          "base_uri": "https://localhost:8080/"
        },
        "id": "Zt7Aq6ovX5LH",
        "outputId": "cff62d88-cdbe-4ed6-ea06-901c3401e991"
      },
      "execution_count": 108,
      "outputs": [
        {
          "output_type": "execute_result",
          "data": {
            "text/plain": [
              "array([2, 2, 3, 3, 1, 2, 3, 1, 3, 2, 1, 3, 2, 1, 3, 2, 2, 1, 2, 1, 1, 2,\n",
              "       3, 1, 1, 2, 1, 1, 1, 2, 2, 2, 2, 1, 3, 2, 2, 3, 2, 1, 1, 2, 3, 1,\n",
              "       1, 1, 1, 1, 1, 1, 2, 3, 3, 1])"
            ]
          },
          "metadata": {},
          "execution_count": 108
        }
      ]
    },
    {
      "cell_type": "markdown",
      "source": [
        "... y obtenemos la predicción de clases para el subconjunto test con el modelo KNN."
      ],
      "metadata": {
        "id": "QY5q19OqYcDq"
      }
    },
    {
      "cell_type": "markdown",
      "source": [
        "# EX02. Compara els models de classificació utilitzant la precisió (accuracy), una matriu de confusió i d’altres mètriques més avançades."
      ],
      "metadata": {
        "id": "N5cjYsAq-qu1"
      }
    },
    {
      "cell_type": "markdown",
      "source": [
        "Ahora tenemos las predicciones hechas por los dos modelos guardadas en y_tree y en y_KNN, mientras y_test no varía, con lo cual nos tiene que resultar sencillo calcular el rendimiento de ambos modelos utilizando la precisión, las matrices de confusión ..."
      ],
      "metadata": {
        "id": "FVV5aT10Y4ML"
      }
    },
    {
      "cell_type": "code",
      "source": [
        "print(\"Precisión:\", metrics.accuracy_score(y_test, y_tree))"
      ],
      "metadata": {
        "colab": {
          "base_uri": "https://localhost:8080/"
        },
        "id": "e2dMZB6G_EgT",
        "outputId": "cc4bcaa5-aadc-42d5-8907-dc2af3b68a02"
      },
      "execution_count": 132,
      "outputs": [
        {
          "output_type": "stream",
          "name": "stdout",
          "text": [
            "Precisión: 0.9444444444444444\n"
          ]
        }
      ]
    },
    {
      "cell_type": "markdown",
      "source": [
        "Obtenemos la precisión para el primer modelo (decision tree)."
      ],
      "metadata": {
        "id": "04WahR3eZtvx"
      }
    },
    {
      "cell_type": "code",
      "source": [
        "print(\"Precisión:\", metrics.accuracy_score(y_test, y_KNN))"
      ],
      "metadata": {
        "colab": {
          "base_uri": "https://localhost:8080/"
        },
        "id": "_D0s6RIfZ0ee",
        "outputId": "77e4d002-1438-4163-ac1b-df9c1d9e6dce"
      },
      "execution_count": 111,
      "outputs": [
        {
          "output_type": "stream",
          "name": "stdout",
          "text": [
            "Precisión: 0.7037037037037037\n"
          ]
        }
      ]
    },
    {
      "cell_type": "markdown",
      "source": [
        "... y para el segundo modelo (KNN)."
      ],
      "metadata": {
        "id": "GCzg1ErWk-ok"
      }
    },
    {
      "cell_type": "markdown",
      "source": [
        "Accuracy = (TP + TN) / (TP + TN + FP + FN)\n",
        "\n",
        "El significado de la precisión (Accuracy) son el número de clasificaciones acertadas (true positives + true negatives), dentro del total de clasificaciones hechas (TP + TN + false positives + false negatives) entre las tres clases.\n",
        "\n",
        "Por lo tanto 0.94 significa, de cada 100 predicciones que hace decision tree para una determinada clase, teniendo en cuenta los valores incluidos y excluidos, 94 son aciertos.\n",
        "\n",
        "Vemos como la precisión del modelo árbol de decisión es más alta que la de KNN con los datos originales.\n",
        "\n",
        "Esto se puede deber a la mayor sensibilidad a la escala del modelo KNN, lo que comprobaremos más adelante."
      ],
      "metadata": {
        "id": "SAttdZnMmDp3"
      }
    },
    {
      "cell_type": "code",
      "source": [
        "from sklearn.metrics import confusion_matrix"
      ],
      "metadata": {
        "id": "oatg3-3RonlP"
      },
      "execution_count": 22,
      "outputs": []
    },
    {
      "cell_type": "code",
      "source": [
        "confusion_matrix(y_test, y_tree)"
      ],
      "metadata": {
        "colab": {
          "base_uri": "https://localhost:8080/"
        },
        "id": "iYYhlAT7nvbk",
        "outputId": "07950c7c-4620-462c-b871-1f2fcad035a4"
      },
      "execution_count": 112,
      "outputs": [
        {
          "output_type": "execute_result",
          "data": {
            "text/plain": [
              "array([[22,  1,  0],\n",
              "       [ 0, 18,  1],\n",
              "       [ 0,  0, 12]])"
            ]
          },
          "metadata": {},
          "execution_count": 112
        }
      ]
    },
    {
      "cell_type": "markdown",
      "source": [
        "Aquí la matriz de confusión para el primer modelo, siempre en orden: clase 1 - clase 2 - clase 3. Por lo tanto en la diagonal el número de valores correctamente clasificados para el subconjunto test, en las clases 1 - 2 - 3, y fuera de ella los que no, el orden es filas - columnas, por lo tanto: primera fila segunda columna, valores que pertenecían a la primera clase pero se han clasificado de manera equivocada en la segunda; y primera columna - segunda fila serían los que se han clasificado en la primera clase pero pertenecían a la segunda."
      ],
      "metadata": {
        "id": "faN8f1n-pZkp"
      }
    },
    {
      "cell_type": "code",
      "source": [
        "confusion_matrix(y_test, y_KNN)"
      ],
      "metadata": {
        "colab": {
          "base_uri": "https://localhost:8080/"
        },
        "id": "RtOxWnZfRpNF",
        "outputId": "186cd39c-b2ce-45ba-8aea-1c827cf5f7ca"
      },
      "execution_count": 113,
      "outputs": [
        {
          "output_type": "execute_result",
          "data": {
            "text/plain": [
              "array([[21,  0,  2],\n",
              "       [ 2, 12,  5],\n",
              "       [ 0,  7,  5]])"
            ]
          },
          "metadata": {},
          "execution_count": 113
        }
      ]
    },
    {
      "cell_type": "markdown",
      "source": [
        "Vemos como la matriz de confusión del modelo KNN muestra 16 predicciones incorrectas (fuera de la diagonal) del total de 54 para el subconjunto de prueba (test)."
      ],
      "metadata": {
        "id": "1cYNnMlfRyA6"
      }
    },
    {
      "cell_type": "markdown",
      "source": [
        "Otra medida del rendimiento es el recall (o sensibilidad): TP / (TP + FN), que nos dice del total que pertenecían a cada clase, cuántos ha clasificado correctamente en la clase correspondiente el modelo.\n",
        "\n"
      ],
      "metadata": {
        "id": "KLWWgSvOc1x7"
      }
    },
    {
      "cell_type": "code",
      "source": [
        "from sklearn.metrics import recall_score\n",
        "\n",
        "print(recall_score(y_test, y_tree, average='macro'))\n",
        "print(recall_score(y_test, y_KNN, average='macro'))"
      ],
      "metadata": {
        "colab": {
          "base_uri": "https://localhost:8080/"
        },
        "id": "OvSNm-RSdHk-",
        "outputId": "37f1f023-15ed-418c-98e4-b1955fa3d32c"
      },
      "execution_count": 114,
      "outputs": [
        {
          "output_type": "stream",
          "name": "stdout",
          "text": [
            "0.9679633867276888\n",
            "0.653763030765319\n"
          ]
        }
      ]
    },
    {
      "cell_type": "markdown",
      "source": [
        "Al indicar average=macro estamos teniendo en cuenta el total de 'aciertos' y 'errores' entre las tres clases, sin ponderar.\n",
        "De nuevo, la interpretación es muy parecida, del total que pertenecían a cada clase el modelo ha predicho correctamente el 96% y el 65% respectivamente (para los modelos de árbol y KNN)."
      ],
      "metadata": {
        "id": "ch5HSJW0diAn"
      }
    },
    {
      "cell_type": "markdown",
      "source": [
        "Promediando las dos medidas anteriores tenemos el f1 score, la fórmula es: 2 x (Precision+Recall)/(PrecisionxRecall)"
      ],
      "metadata": {
        "id": "OXLa7bPOYyxd"
      }
    },
    {
      "cell_type": "code",
      "source": [
        "from sklearn.metrics import f1_score"
      ],
      "metadata": {
        "id": "A41WtjSpYwx_"
      },
      "execution_count": 115,
      "outputs": []
    },
    {
      "cell_type": "code",
      "source": [
        "print(f1_score(y_test, y_tree, average='macro'))\n",
        "f1_score(y_test, y_KNN, average='macro')"
      ],
      "metadata": {
        "colab": {
          "base_uri": "https://localhost:8080/"
        },
        "id": "1eZfCbS1a0h3",
        "outputId": "359367e9-3775-411c-ab8c-7be31a33020e"
      },
      "execution_count": 116,
      "outputs": [
        {
          "output_type": "stream",
          "name": "stdout",
          "text": [
            "0.9617153996101364\n"
          ]
        },
        {
          "output_type": "execute_result",
          "data": {
            "text/plain": [
              "0.653763030765319"
            ]
          },
          "metadata": {},
          "execution_count": 116
        }
      ]
    },
    {
      "cell_type": "markdown",
      "source": [
        "En este caso observamos como los resultados son prácticamente idénticos. La interpretación en este caso sería: cuán acertado es el modelo teniendo en cuenta tanto precisión (predicciones correctas del total) como sensibilidad (cuánto no se ha dejado fuera si nos centramos en las 'positivas')."
      ],
      "metadata": {
        "id": "nLCxSJTfe5Lx"
      }
    },
    {
      "cell_type": "markdown",
      "source": [
        "# EX03. Entrena’ls usant els diferents paràmetres que admeten per tal de millorar-ne la predicció."
      ],
      "metadata": {
        "id": "13itvMWB_FK6"
      }
    },
    {
      "cell_type": "code",
      "source": [
        "clf_tree_A = DecisionTreeClassifier(max_depth=5, criterion='gini', splitter='random')\n",
        "clf_tree_A = clf_tree_A.fit(X_train, y_train)"
      ],
      "metadata": {
        "id": "OVQ0vqeFkq7a"
      },
      "execution_count": 124,
      "outputs": []
    },
    {
      "cell_type": "code",
      "source": [
        "clf_tree_B = DecisionTreeClassifier(max_depth=5, criterion='entropy', splitter='best')\n",
        "clf_tree_B = clf_tree_B.fit(X_train, y_train)"
      ],
      "metadata": {
        "id": "mVazpPNAyZKT"
      },
      "execution_count": 126,
      "outputs": []
    },
    {
      "cell_type": "code",
      "source": [
        "clf_tree_C = DecisionTreeClassifier(max_depth=3, criterion='entropy', splitter='best')\n",
        "clf_tree_C = clf_tree_C.fit(X_train, y_train)"
      ],
      "metadata": {
        "id": "nAsqUV7MytdR"
      },
      "execution_count": 127,
      "outputs": []
    },
    {
      "cell_type": "markdown",
      "source": [
        "Entrenamos a los datos con el modelo de árbol cambiando los parámetros criterion, splitter y max_depth."
      ],
      "metadata": {
        "id": "7uubh_HOy2Dx"
      }
    },
    {
      "cell_type": "markdown",
      "source": [
        "Ahora vamos con el modelo KNN, donde el parámetro principal es el número de vecinos (n_neighbors) que se toman para aproximar las predicciones de y, siendo el valor máximo posible 178 * 0.7 = 124, que es el número de observaciones del subconjunto de entrenamiento."
      ],
      "metadata": {
        "id": "RSmHI_Mu2nvH"
      }
    },
    {
      "cell_type": "code",
      "source": [
        "f1s = []\n",
        "max = 0\n",
        "min = 0\n",
        "\n",
        "for i in range(1, 124):\n",
        "    clf_KNN_A = KNeighborsClassifier(n_neighbors=i)\n",
        "    clf_KNN_A.fit(X_train, y_train)\n",
        "    y_KNN_A = clf_KNN_A.predict(X_test)\n",
        "    f1s.append(f1_score(y_test, y_KNN_A, average='macro'))\n",
        "    if f1s[-1] > f1s[max]:\n",
        "      max = i - 1\n",
        "    if f1s[-1] < f1s[min]:\n",
        "      min = i - 1"
      ],
      "metadata": {
        "id": "Uy8LHtW-2mgk"
      },
      "execution_count": 120,
      "outputs": []
    },
    {
      "cell_type": "markdown",
      "source": [
        "Recorremos f1_score para todos los posibles valores de k_neighbors, el rendimiento máximo lo obtenemos cuando k = 1, con f1 de 0.98. El mínimo en k=101, con una f1 de 0.17."
      ],
      "metadata": {
        "id": "xm1F3vED9wgK"
      }
    },
    {
      "cell_type": "markdown",
      "source": [
        "# EX04. Compara el seu rendiment fent servir l’aproximació train/test o cross-validation."
      ],
      "metadata": {
        "id": "sPUCBUJP_Ni5"
      }
    },
    {
      "cell_type": "code",
      "source": [
        "y_tree_A = clf_tree_A.predict(X_test)\n",
        "f1_score(y_test, y_tree_A, average='macro')"
      ],
      "metadata": {
        "id": "ryaXPAGV_QIg",
        "colab": {
          "base_uri": "https://localhost:8080/"
        },
        "outputId": "6833f90c-2d9f-41ac-9d59-c0d5a0dca817"
      },
      "execution_count": 125,
      "outputs": [
        {
          "output_type": "execute_result",
          "data": {
            "text/plain": [
              "0.9068314726209463"
            ]
          },
          "metadata": {},
          "execution_count": 125
        }
      ]
    },
    {
      "cell_type": "code",
      "source": [
        "y_tree_B = clf_tree_B.predict(X_test)\n",
        "f1_score(y_test, y_tree_B, average='macro')"
      ],
      "metadata": {
        "colab": {
          "base_uri": "https://localhost:8080/"
        },
        "id": "OiDWSUzfvMfk",
        "outputId": "db783a21-2492-4283-e162-7f610b39bd6c"
      },
      "execution_count": 128,
      "outputs": [
        {
          "output_type": "execute_result",
          "data": {
            "text/plain": [
              "0.9608711881461285"
            ]
          },
          "metadata": {},
          "execution_count": 128
        }
      ]
    },
    {
      "cell_type": "code",
      "source": [
        "y_tree_C = clf_tree_C.predict(X_test)\n",
        "f1_score(y_test, y_tree_C, average='macro')"
      ],
      "metadata": {
        "colab": {
          "base_uri": "https://localhost:8080/"
        },
        "id": "I-SKw-iKy_2o",
        "outputId": "f0191515-c241-47af-e43e-73dd4493fb8c"
      },
      "execution_count": 129,
      "outputs": [
        {
          "output_type": "execute_result",
          "data": {
            "text/plain": [
              "0.9679633867276888"
            ]
          },
          "metadata": {},
          "execution_count": 129
        }
      ]
    },
    {
      "cell_type": "markdown",
      "source": [
        "Mostramos los rendimientos respectivos del modelo árbol de decisión, viendo como el rendimiento, que estaba en el 94%, aunque ligeramente superior con los parámetros de las versiones B y C, es parecido. El ajuste original ya era alto, por lo tanto con poco margen para superarlo. Recordemos que f1 hay que interpretarlo como una combinación de precisión y sensibilidad, de alguna manera mide la exactitud de la predicción siguiendo dos criterios ligeramente distintos (desde el total de predicciones positivas y negativas acertadas y desde el total de positivas acertadas respectivamente)."
      ],
      "metadata": {
        "id": "CCEIPxt4vlE-"
      }
    },
    {
      "cell_type": "markdown",
      "source": [
        "Vamos con el rendimiento del modelo KNN:"
      ],
      "metadata": {
        "id": "NwF3kQRB1x1h"
      }
    },
    {
      "cell_type": "code",
      "source": [
        "print('Mínimo')\n",
        "print(min+1)\n",
        "print(f1s[min])\n",
        "print('Máximo')\n",
        "print(max+1)\n",
        "print(f1s[max])"
      ],
      "metadata": {
        "colab": {
          "base_uri": "https://localhost:8080/"
        },
        "id": "k5Vj2GK41wSv",
        "outputId": "3909cf9d-5b54-4ec4-a642-5d836421c886"
      },
      "execution_count": 133,
      "outputs": [
        {
          "output_type": "stream",
          "name": "stdout",
          "text": [
            "Mínimo\n",
            "108\n",
            "0.1735159817351598\n",
            "Máximo\n",
            "17\n",
            "0.719222430128605\n"
          ]
        }
      ]
    },
    {
      "cell_type": "markdown",
      "source": [
        "Aquí podemos ver la importancia que tiene el valor del parámetro k (n_neighbors) dentro del modelo de aproximación KNN. El rendimiento máximo f1 lo obtenemos para una k = 17, siendo del 72%, y el mínimo para una k de 108, con un rendimiento del 17%. Esto significa aproximadamente que de cada 100 predicciones que hace el modelo 72 son acertadas, o 17 son acertadas, teniendo el doble de peso clasificar dentro de la clase correcta que no clasificar en otras clases las observaciones que pertenecen a otras clases."
      ],
      "metadata": {
        "id": "43xE5qtC2DHx"
      }
    },
    {
      "cell_type": "markdown",
      "source": [
        "# EX05. Aplica algun procés d'enginyeria per millorar els resultats (normalització, estandardització, mostreig...)."
      ],
      "metadata": {
        "id": "zjGcMSh4_Q_r"
      }
    },
    {
      "cell_type": "markdown",
      "source": [
        "En este caso vamos a utilizar la estandarización, utilizando StandardScaler de sklearn."
      ],
      "metadata": {
        "id": "EcUezIiY9DpU"
      }
    },
    {
      "cell_type": "code",
      "source": [
        "from sklearn.preprocessing import StandardScaler\n",
        "\n",
        "scaler = StandardScaler()\n",
        "scaler.fit(X_train)\n",
        "X_train_scaled = scaler.transform(X_train)\n",
        "X_test_scaled = scaler.transform(X_test)"
      ],
      "metadata": {
        "id": "1u2s-ITx_WW2"
      },
      "execution_count": 134,
      "outputs": []
    },
    {
      "cell_type": "markdown",
      "source": [
        "Vamos ahora a repetir el proceso de entrenamiento y predicción para los dos modelos en su versión óptima y ver si obtenemos un aumento del rendimiento."
      ],
      "metadata": {
        "id": "VCHv91KI9b1C"
      }
    },
    {
      "cell_type": "code",
      "source": [
        "classifier_scaled_tree = DecisionTreeClassifier(max_depth=3, criterion='entropy', splitter='best')\n",
        "classifier_scaled_tree = classifier_scaled_tree.fit(X_train_scaled, y_train)\n",
        "y_pred_scaled_tree = classifier_scaled_tree.predict(X_test_scaled)"
      ],
      "metadata": {
        "id": "uVHK3n5D9qP3"
      },
      "execution_count": 77,
      "outputs": []
    },
    {
      "cell_type": "code",
      "source": [
        "knn = KNeighborsClassifier(n_neighbors=1)\n",
        "knn.fit(X_train_scaled, y_train)\n",
        "y_pred_scaled_KNN = knn.predict(X_test_scaled)"
      ],
      "metadata": {
        "id": "1ndtauyO-P3i"
      },
      "execution_count": 78,
      "outputs": []
    },
    {
      "cell_type": "markdown",
      "source": [
        "Ya tenemos los dos modelos entrenados y las predicciones para las clases guardadas en y_pred_scaled_tree e y_pred_scaled_KNN. Sólo nos queda evaluar los dos modelos optimizados."
      ],
      "metadata": {
        "id": "NQf1hOvAABoi"
      }
    },
    {
      "cell_type": "code",
      "source": [
        "from sklearn.metrics import classification_report\n",
        "\n",
        "print('Tree:')\n",
        "report_tree_scaled = classification_report(y_test, y_pred_scaled_tree)\n",
        "print(report_tree_scaled)\n",
        "\n",
        "print('KNN:')\n",
        "report_KNN_scaled = classification_report(y_test, y_pred_scaled_KNN)\n",
        "print(report_KNN_scaled)"
      ],
      "metadata": {
        "colab": {
          "base_uri": "https://localhost:8080/"
        },
        "id": "y7dkupJ1DQVJ",
        "outputId": "56827be1-07dd-4a3f-a724-64cb4e4a4470"
      },
      "execution_count": 135,
      "outputs": [
        {
          "output_type": "stream",
          "name": "stdout",
          "text": [
            "Tree:\n",
            "              precision    recall  f1-score   support\n",
            "\n",
            "           1       0.96      0.96      0.96        23\n",
            "           2       0.90      0.95      0.92        19\n",
            "           3       1.00      0.92      0.96        12\n",
            "\n",
            "    accuracy                           0.94        54\n",
            "   macro avg       0.95      0.94      0.95        54\n",
            "weighted avg       0.95      0.94      0.94        54\n",
            "\n",
            "KNN:\n",
            "              precision    recall  f1-score   support\n",
            "\n",
            "           1       0.96      1.00      0.98        23\n",
            "           2       1.00      0.95      0.97        19\n",
            "           3       1.00      1.00      1.00        12\n",
            "\n",
            "    accuracy                           0.98        54\n",
            "   macro avg       0.99      0.98      0.98        54\n",
            "weighted avg       0.98      0.98      0.98        54\n",
            "\n"
          ]
        }
      ]
    },
    {
      "cell_type": "markdown",
      "source": [
        "Aquí podemos comprobar como tras estandarizar las variables independientes en el modelo árbol de decisión el rendimiento se mantiene, mientras que el modelo KNN obtiene rendimientos muy superiores, del 98%, tanto para precision como para recall (sensibilidad) como para f1 (media entre ambas), e incluso supera al modelo del árbol de decisión en tres puntos porcentuales.\n",
        "\n",
        "Comprobamos entonces tanto la idoneidad de cualquiera de los dos modelos y la sensibilidad del modelo KNN a la escala.\n",
        "\n",
        "Podríamos por último hacer un test CV."
      ],
      "metadata": {
        "id": "DLz6LBc-DwXD"
      }
    },
    {
      "cell_type": "code",
      "source": [
        "from sklearn.tree import DecisionTreeClassifier\n",
        "from sklearn.model_selection import cross_val_score\n",
        "\n",
        "scores_dt = cross_val_score(clf_tree_C, X, y, cv=5)\n",
        "print(scores_dt)"
      ],
      "metadata": {
        "colab": {
          "base_uri": "https://localhost:8080/"
        },
        "id": "H46YA21ZN2ZN",
        "outputId": "bb700fcd-2484-4449-d195-f4d3bb0b6bec"
      },
      "execution_count": 136,
      "outputs": [
        {
          "output_type": "stream",
          "name": "stdout",
          "text": [
            "[0.91666667 0.83333333 0.94444444 0.97142857 0.88571429]\n"
          ]
        }
      ]
    },
    {
      "cell_type": "code",
      "source": [
        "scaler.fit(X)\n",
        "X_scaled = scaler.transform(X)"
      ],
      "metadata": {
        "id": "og_mareZSbjR"
      },
      "execution_count": 141,
      "outputs": []
    },
    {
      "cell_type": "code",
      "source": [
        "clf_KNN_A17 = KNeighborsClassifier(n_neighbors=17)\n",
        "scores_KNN_A17 = cross_val_score(clf_KNN_A17, X_scaled, y, cv=5)\n",
        "print(scores_KNN_A17)"
      ],
      "metadata": {
        "colab": {
          "base_uri": "https://localhost:8080/"
        },
        "id": "2aCm2KVgQC-N",
        "outputId": "bd7d1a59-2d34-48c7-df48-f109d3874e88"
      },
      "execution_count": 142,
      "outputs": [
        {
          "output_type": "stream",
          "name": "stdout",
          "text": [
            "[0.94444444 0.94444444 0.97222222 1.         0.97142857]\n"
          ]
        }
      ]
    },
    {
      "cell_type": "markdown",
      "source": [
        "Por último, mediante la realización de la validación cruzada, podemos confirmar la fiabilidad del rendimiento de ambos modelos, incluso superior en el segundo modelo, lo que en este caso señalaría a KNN como el modelo óptimo de aproximación a los datos de clasificación de los vinos de acuerdo con las 13 variables disponibles."
      ],
      "metadata": {
        "id": "SLfbFUrrTAp3"
      }
    }
  ]
}